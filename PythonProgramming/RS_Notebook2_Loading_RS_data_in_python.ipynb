{
  "cells": [
    {
      "cell_type": "markdown",
      "metadata": {
        "colab_type": "text",
        "id": "view-in-github"
      },
      "source": [
        "<a href=\"https://colab.research.google.com/github/steflhermitte/EO-Notebooks/blob/master/PythonProgramming/RS_Notebook2_Loading_RS_data_in_python.ipynb\" target=\"_parent\"><img src=\"https://colab.research.google.com/assets/colab-badge.svg\" alt=\"Open In Colab\"/></a>"
      ]
    },
    {
      "cell_type": "markdown",
      "metadata": {
        "id": "H77Vp1WN9nNl"
      },
      "source": [
        "\n",
        "[<img src=\"https://raw.githubusercontent.com/mbakker7/exploratory_computing_with_python/master/tudelft_logo.png\" width=\"200\" align='right'>](https://www.tudelft.nl/citg/over-faculteit/afdelingen/geoscience-remote-sensing/staff/scientific-staff/dr-stef-lhermitte)\n",
        "\n",
        "\n",
        "# Loading remote sensing data in python \n",
        "*Created by Stef Lhermitte (s.lhermitte at tudelft.nl / [@steflhermitte](https://twitter.com/StefLhermitte) | www.earthmapps.io)*\n",
        "\n",
        "*with inspiration and fragments from:*\n",
        "\n",
        "* [geemap.org](https://geemap.org/)\n",
        "* [Google Earth Engine guide](https://developers.google.com/earth-engine/guides)\n",
        "* [rasterio](https://rasterio.readthedocs.io/en/latest/)\n",
        "\n",
        "\n",
        "[![Twitter](https://img.shields.io/twitter/url/https/twitter.com/cloudposse.svg?style=social&label=%20%40steflhermitte)](https://twitter.com/steflhermitte)\n",
        "\n"
      ]
    },
    {
      "cell_type": "markdown",
      "metadata": {
        "id": "6PKP68Q6o8Hu"
      },
      "source": [
        "\n",
        "\n",
        "## Introduction\n",
        "In this notebook we will learn how to download remote sensing data from Google Earth engine and open them in python using rasterio. After opening the data, we should be able to do multiple types of analyses on the data.\n",
        "\n",
        "In order to use run this notebook you will need a Google Earth Engine account. If you do not have one yet, create one at [GEE webpage](https://signup.earthengine.google.com/#!/). Google Earth Engine combines a multi-petabyte [catalog](https://developers.google.com/earth-engine/datasets/) of satellite imagery and geospatial datasets with planetary-scale analysis capabilities and makes it available for scientists, researchers, and developers to detect changes, map trends, and quantify differences on the Earth's surface. The public data archive includes more than thirty years of historical imagery and scientific datasets, updated and expanded daily. It contains over twenty petabytes of geospatial data instantly available for analysis.\n",
        "\n",
        "In this notebook, we will limit the use of GEE and `geemap` to downloading different data sources. GEE offers a multitude of more opportunities and functions to process, analyze and visualize the data in the cloud, but covering these is beyond the scope of this notebook. If you want to know more about GEE functionalities I recommend the excellent [GEE](https://developers.google.com/earth-engine/guides) and [geemap](https://geemap.org/) tutorials and welcome you always in our [Remote Sensing & Big Data course](https://studiegids.tudelft.nl/a101_displayCourse.do?course_id=56333) where all these aspects are covered in more detail.\n",
        "\n"
      ]
    },
    {
      "cell_type": "markdown",
      "metadata": {
        "id": "KnOfWmqINLX9"
      },
      "source": [
        "\n",
        "## Before you start\n",
        "Before starting this notebook make sure that you installed the necessary packages (see [Python installation example notebook](https://colab.research.google.com/drive/1MccJkybH3jEDeQ8GkU7NmtbXP8ZE4V5M?usp=sharing)). For your local computer, you only need to install the packages once and you won't need the next cell. For Colab, you need to run the following installation steps every time you start a new notebook and restart the environment afterwards. "
      ]
    },
    {
      "cell_type": "code",
      "execution_count": null,
      "metadata": {
        "colab": {
          "base_uri": "https://localhost:8080/",
          "height": 1000
        },
        "id": "9I23M_6o9z37",
        "outputId": "519e892b-7d55-449b-e96d-2382254cc4d1"
      },
      "outputs": [],
      "source": [
        "!apt-get install libproj-dev proj-data proj-bin\n",
        "!apt-get install libgeos-dev\n",
        "# !pip install cython\n",
        "# !pip install git+https://github.com/SciTools/cartopy.git --no-binary cartopy\n",
        "# !apt-get -qq install python-cartopy python3-cartopy\n",
        "!pip install cartopy geemap\n",
        "!pip uninstall -y shapely    # cartopy and shapely aren't friends (early 2020)\n",
        "!pip install shapely --no-binary shapely\n",
        "!pip install matplotlib-scalebar\n",
        "!pip install pyepsg\n",
        "!pip install owslib\n",
        "!pip install scikit-learn\n",
        "!pip install geopandas\n",
        "!pip install rasterio\n",
        "!pip install geemap\n",
        "from google.colab import drive\n",
        "drive.mount('/content/drive')"
      ]
    },
    {
      "cell_type": "markdown",
      "metadata": {
        "id": "7SjIdDUyjs5f"
      },
      "source": [
        "If you are missing the `glob2` and `imageio` package on your local computer, you can just install it by running:"
      ]
    },
    {
      "cell_type": "code",
      "execution_count": null,
      "metadata": {
        "colab": {
          "base_uri": "https://localhost:8080/"
        },
        "id": "8r6SBE22jQyT",
        "outputId": "8bec7411-42aa-4ce5-8872-9f2ebf2ff1f6"
      },
      "outputs": [],
      "source": [
        "%pip install glob2 imageio"
      ]
    },
    {
      "cell_type": "markdown",
      "metadata": {
        "id": "5ovHSnBlYjoL"
      },
      "source": [
        "For colab users: don't forget to restart your runtime after installation to avoid problems with matplotlib."
      ]
    },
    {
      "cell_type": "markdown",
      "metadata": {
        "id": "abp_GOh89nNu"
      },
      "source": [
        "## Load the necessary packages\n",
        "\n",
        "We start by importing the necessary packages"
      ]
    },
    {
      "cell_type": "code",
      "execution_count": null,
      "metadata": {
        "id": "FpVKKwsf9nNv"
      },
      "outputs": [],
      "source": [
        "import cartopy.crs as ccrs\n",
        "import cartopy\n",
        "import matplotlib.pyplot as plt\n",
        "from matplotlib_scalebar.scalebar import ScaleBar\n",
        "import geemap\n",
        "import rasterio\n",
        "import ee\n",
        "import geemap\n",
        "import os\n",
        "import shutil\n",
        "import numpy as np\n",
        "import pandas as pd\n",
        "import glob2\n",
        "import imageio\n",
        "%matplotlib inline\n",
        "plt.rcParams['figure.figsize'] = [16, 12] # to make the default figures larger"
      ]
    },
    {
      "cell_type": "markdown",
      "metadata": {
        "id": "oFfdKBcb5nq8"
      },
      "source": [
        "Now you need to authenticate Google Earth Engine and launch it in colab.\n",
        "\n"
      ]
    },
    {
      "cell_type": "code",
      "execution_count": null,
      "metadata": {
        "colab": {
          "base_uri": "https://localhost:8080/"
        },
        "id": "CAZNpqe34Qjw",
        "outputId": "21f26abd-ceef-4321-e2ea-f8247a4637a8"
      },
      "outputs": [],
      "source": [
        "## Authenticate EE\n",
        "ee.Authenticate()"
      ]
    },
    {
      "cell_type": "code",
      "execution_count": null,
      "metadata": {
        "id": "esb-FY9U9ycd"
      },
      "outputs": [],
      "source": [
        "# Launch EE\n",
        "ee.Initialize()"
      ]
    },
    {
      "cell_type": "markdown",
      "metadata": {
        "id": "aH2nHTBqd8w8"
      },
      "source": [
        "## Accessing your local/colab storage and file structure\n",
        "Within this notebook you will be saving data to your computer (or colab storage) and subsequently reading it in again (e.g. for analysis). Therefore, you need to have a basic understanding of how to access your folder/file system. Typically the reading and writing functions just take string arguments (e.g. `'/drive/folder1/subfolder1/file1.jpg'`) as inputs, but the way they are formulated might differ between Windows/Mac/Linux/Colab. Windows subfolders are separated by `\\` and on Mac/Linux/Colab by `/` (e.g. Downloads/subfolder1/subsubfolder2/). Since `\\` is a special character you often need to type it twice. To get an idea on how it looks on your computer You can check your current directory with `os.getcwd` (i.e., get. Current Working Directory)."
      ]
    },
    {
      "cell_type": "code",
      "execution_count": null,
      "metadata": {
        "colab": {
          "base_uri": "https://localhost:8080/",
          "height": 35
        },
        "id": "JdpnO_71rryC",
        "outputId": "077535df-74af-437b-eee8-b0db117f7454"
      },
      "outputs": [],
      "source": [
        "os.getcwd()"
      ]
    },
    {
      "cell_type": "markdown",
      "metadata": {
        "id": "vyF6dK9AsSjM"
      },
      "source": [
        "Subsequently, we can define our own folders. For example, if we want the test subfolder in our Downloads directory you can define that folder manually or by using a `os.path.join` function.\n",
        "\n"
      ]
    },
    {
      "cell_type": "code",
      "execution_count": null,
      "metadata": {
        "colab": {
          "base_uri": "https://localhost:8080/"
        },
        "id": "5sIyLuWrumfV",
        "outputId": "07775956-2e8b-40d6-9e68-aeb2f9ff487d"
      },
      "outputs": [],
      "source": [
        "# Get your home directory\n",
        "home = os.path.expanduser('~')\n",
        "# Define folder manually\n",
        "out_dir = home + '/Downloads/test' # On Mac/Linux\n",
        "print(out_dir)\n",
        "out_dir = home + '\\\\Downloads\\\\test' # On Windows\n",
        "print(out_dir)\n",
        "# Or use the os.path.join function to adapt to your computer environment\n",
        "out_dir = os.path.join(home, 'Downloads','test')\n",
        "print(out_dir)"
      ]
    },
    {
      "cell_type": "markdown",
      "metadata": {
        "id": "mjmPMuLEweSo"
      },
      "source": [
        "We can also use regular expressions to look for files that fullfill certain criteria. If we use `glob2.glob` we can search for a certain pattern in our filees and return a list of filenames. Within such search criteria `*` is a important character as it means \"match any character zero or many times\". "
      ]
    },
    {
      "cell_type": "code",
      "execution_count": null,
      "metadata": {
        "colab": {
          "base_uri": "https://localhost:8080/"
        },
        "id": "W45cGqqmxsB6",
        "outputId": "9d7dc445-c3f3-47bd-e694-cf86a7dc2940"
      },
      "outputs": [],
      "source": [
        "# Without *: should give no output as we did not define any character\n",
        "glob2.glob('/content/sample_data/')"
      ]
    },
    {
      "cell_type": "code",
      "execution_count": null,
      "metadata": {
        "colab": {
          "base_uri": "https://localhost:8080/"
        },
        "id": "1G8udXt-yT22",
        "outputId": "176afd06-6f3e-4a48-bf18-77cc47092c3e"
      },
      "outputs": [],
      "source": [
        "# With *: should give you a list of all files in this folder\n",
        "glob2.glob('/content/sample_data/*')"
      ]
    },
    {
      "cell_type": "markdown",
      "metadata": {
        "id": "3Q2UaxtyxiNb"
      },
      "source": [
        "Using this pattern, we can search for files with a certain pattern. For example, if we only want the files with a certain extension or starting characters:"
      ]
    },
    {
      "cell_type": "code",
      "execution_count": null,
      "metadata": {
        "colab": {
          "base_uri": "https://localhost:8080/"
        },
        "id": "egtKzdT3ysa-",
        "outputId": "83dac0e7-6d90-4ff1-ee8f-a89639df3691"
      },
      "outputs": [],
      "source": [
        "# With *.extension: should give only files with .csv extension\n",
        "glob2.glob('/content/sample_data/*.csv')"
      ]
    },
    {
      "cell_type": "code",
      "execution_count": null,
      "metadata": {
        "colab": {
          "base_uri": "https://localhost:8080/"
        },
        "id": "WPegnY_Zy35L",
        "outputId": "46600788-b910-4de3-8ec0-527066064d4d"
      },
      "outputs": [],
      "source": [
        "# Should give only files with starting with mnist and with .csv extension\n",
        "glob2.glob('/content/sample_data/mnist*.csv')"
      ]
    },
    {
      "cell_type": "markdown",
      "metadata": {
        "id": "4JgSV8Jk-64l"
      },
      "source": [
        "## geemap\n",
        "geemap is a Python package for interactive mapping with Google Earth Engine (GEE). During the past few years, GEE has become very popular in the geospatial community and it has empowered numerous environmental applications at local, regional, and global scales. GEE provides both JavaScript and Python APIs for making computational requests to the Earth Engine servers. Compared with the comprehensive documentation and interactive IDE (i.e., GEE JavaScript Code Editor) of the GEE JavaScript API, the GEE Python API has relatively little documentation and limited functionality for visualizing results interactively. The geemap Python package was created to fill this gap. It is built upon ipyleaflet and ipywidgets, and enables users to analyze and visualize Earth Engine datasets interactively within a Jupyter-based environment. The ipyleaflet or folium interface allows moreover to visualize geospatial data dynamically, allowing to zoom/pan etc.\n",
        "\n",
        "For example, by running the following cell we will initiate an interactive ipyleaflet map."
      ]
    },
    {
      "cell_type": "code",
      "execution_count": null,
      "metadata": {
        "colab": {
          "base_uri": "https://localhost:8080/",
          "height": 621,
          "referenced_widgets": [
            "417c6cd38d7d4ee5bdb62dbcc5278b84",
            "57595b9ec01d452b8af565dcbdc2e1d8",
            "c2c3fc04336c43b2af19871c7ef46843",
            "225ee27e8541437786ed3a6ee0bed3f5",
            "0663c5615ad049de9947b2221ceb566e",
            "6b5351abe8fa4b7d9a8d606449343abd",
            "b2848d9f440a4482952952a705a2539f",
            "140d8404ec234650bf7879cdd2470084",
            "128ce48d5dab41418ce936a25a75ec08",
            "a77b0f13471f417598d2ffc7de00fcc0",
            "20eb786e43a5456fabd6228a7b042bda",
            "eda3e914a8b14205a1c79eecc4b772fa",
            "f1f6c1e55ace4a77a455ca6a794164c7",
            "9c0facb4e57a4e96a3bf40b9047c6d3c",
            "e1f2e44d042c4266b64e64a77032703f",
            "6dd8195c9ea9474bbe86cb1b4ba4bece",
            "808d88e403b744e1ac92185b018c1a47",
            "aaf6180ecd584313a655f71081526f3e",
            "b6ad7f1430ee427fb666a8469782a297",
            "a1ae6e1486794e7d93796f5ed3eb63f5",
            "f141ca8e90e44b7690727a3bcf77babf",
            "b1ad152634eb4d00ac97e8217aba6bdc",
            "0b353b2f0bd54e1a9eebdaf5bb23e728",
            "a1b114ea9db54061b396a42f99ff59d7",
            "fd1d6972576f41b8b8d8fcd26c93dcbd"
          ]
        },
        "id": "xrn_VIYJ-tt5",
        "outputId": "8124141d-f420-4176-d4d7-cad1c9e2bc9b"
      },
      "outputs": [],
      "source": [
        "Map = geemap.Map()\n",
        "Map"
      ]
    },
    {
      "cell_type": "markdown",
      "metadata": {
        "id": "Ffp2977_A_s6"
      },
      "source": [
        "At the moment this Map is still empty as we did not add any data to it, but we can do that easily using different approaches. \n"
      ]
    },
    {
      "cell_type": "markdown",
      "metadata": {
        "id": "W-JUyfSwCFK0"
      },
      "source": [
        "### Basemaps \n",
        "For example we can add different basemaps (see https://geemap.org/basemaps/), which we can toggle in the right corner using the icon ![image.png](data:image/png;base64,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) "
      ]
    },
    {
      "cell_type": "code",
      "execution_count": null,
      "metadata": {
        "colab": {
          "base_uri": "https://localhost:8080/",
          "height": 621,
          "referenced_widgets": [
            "8cf00f5fc1544e839c05603c32f58171",
            "49c94fa4f6c34591abfb28024e640398",
            "4be03b428e444817ac7782063384cac6",
            "e7c2d6869eba4155bf054aad22624a5f",
            "e4a5f1dc66a0471e85a816109f60bcb7",
            "8ecc3ad9806e47118cca83e99195017f",
            "da1fb6c649514c2bbdfa381e98040f70",
            "b12e8a4c480342f5923a1c2f5d89a55a",
            "56eb6ca690ce4affa6f3594717d2a1e1",
            "19db75b2974844598a538a9169eed710",
            "e7aa87f06b744512ab4c076c987c311f",
            "48738236f9ac4fdc91ae00fc865b990b",
            "f1f6c1e55ace4a77a455ca6a794164c7",
            "bc1cc52ffd254372b980a5b18ab147c0",
            "3c2c153db3ce4d01a4b5915a17bbc222",
            "d15f91f9c2b143d3a69ee397cf46b069",
            "aef7fd4536b2434ba172605d4972ab71",
            "0075b35aed9d439e90c93a41bbc5b4f6",
            "815c186882b54a2b84a8e2f74584811c",
            "b4814ac08f0644bc942f3338ef3ee71c",
            "76cfd248e92a494fb8299cdf777cfee3",
            "7db8ce5212d54891b3064664640130c2",
            "811982ed0f394c098838ce4fbb499bab",
            "defb67a50b6e4b9d90462267b7963656",
            "3e7379b51e4a4604a699caf356367c1b",
            "0aa242615b1b4766936cadd1c442d1e5"
          ]
        },
        "id": "vJqglnzkCIhA",
        "outputId": "e37b5175-852f-4a35-c852-1f1b5565cec0"
      },
      "outputs": [],
      "source": [
        "Map = geemap.Map()\n",
        "Map.add_basemap('SATELLITE')\n",
        "Map.add_basemap('ROADMAP')\n",
        "Map.add_basemap('Esri Ocean')\n",
        "Map.add_basemap('Esri National Geographic')\n",
        "Map"
      ]
    },
    {
      "cell_type": "markdown",
      "metadata": {
        "id": "9FRAk9d_Dkqi"
      },
      "source": [
        "### WMS\n",
        "Or we can add WMS and XYZ tile layers:"
      ]
    },
    {
      "cell_type": "code",
      "execution_count": null,
      "metadata": {
        "colab": {
          "base_uri": "https://localhost:8080/",
          "height": 621,
          "referenced_widgets": [
            "d076e7ec48e14cc08c88c73b66806d1f",
            "7f47ec1b25414b5f813b54fc0e942c76",
            "b0d9c7485c574adba3d07fe741d38b7d",
            "724cfe046ec2455aa4a1492246ca1224",
            "28a15b4ab1ad43289ef25f20d1f6d83d",
            "38d80d758bc9438bacbcb4ac798e3a38",
            "0bcb8be474434e20895561edf536d6f8",
            "a1018d7d562c4a44b01ff7d0aea70bc2",
            "5e0904c89f024f879eabaac32f93dbf6",
            "a78b92feb40f46eab25e4bbfb360567d",
            "2b0a895ce36c4ca4bea09f60ae623789",
            "816ce490641b418aa904ac5feb731a55",
            "f1f6c1e55ace4a77a455ca6a794164c7",
            "dd25f1f9131d4937b95d83a02ed146a2",
            "8cc02bb7d04e49a5a8449c715f82b421",
            "84b356a525c3479791c93770c841c1d1",
            "369acb8fdab94187a04883d44ac03fff",
            "4188c4aa751c43f6bb6409581945f058",
            "9e6984580e624b2aac69933b515ce677",
            "e18c38c744264088ad0f40a625096bf4",
            "796db55e593249fdb4dc8063872d92d0",
            "e8426d0d988f4be18e0f7a9a7062d57f",
            "68875ce47544456cb1f556926d982508",
            "0c668b6fe91f4fca95eb6627106bf079",
            "a3d94696dd354ea1924c01a99169f4ca",
            "902a1850fe934ab288017818997110b6",
            "2332e10ec9d64d3b886e39e48bcd92e6",
            "ceaca064ac34483ba8ef381fcef6aea1",
            "bb87f84db55d474fabd9df784cfb84e7"
          ]
        },
        "id": "hkWy7_BtDqqP",
        "outputId": "c1c7ddca-77ad-49bf-adc0-45c1424f4342"
      },
      "outputs": [],
      "source": [
        "Map = geemap.Map()\n",
        "# Add XYZ tiles\n",
        "url = 'https://mt1.google.com/vt/lyrs=m&x={x}&y={y}&z={z}'\n",
        "Map.add_tile_layer(url, name='Google Map', attribution='Google')\n",
        "# Add WMS tiles\n",
        "naip_url = 'https://services.nationalmap.gov/arcgis/services/USGSNAIPImagery/ImageServer/WMSServer?'\n",
        "Map.add_wms_layer(url=naip_url, layers='0', name='NAIP Imagery', format='image/png', shown=True)\n",
        "# For example last weeks example MODIS example\n",
        "wv_url = 'https://gibs.earthdata.nasa.gov/wms/epsg4326/best/wms.cgi'\n",
        "Map.add_wms_layer(url=wv_url,layers='VIIRS_SNPP_CorrectedReflectance_TrueColor',time='2021-04-01', name='MODIS')\n",
        "# Or the PDOK imagery\n",
        "pd_url = 'https://service.pdok.nl/hwh/luchtfotorgb/wms/v1_0'\n",
        "Map.add_wms_layer(url=pd_url,layers='Actueel_ortho25',name='PDOK',shown=False)\n",
        "Map"
      ]
    },
    {
      "cell_type": "markdown",
      "metadata": {
        "id": "j5sVSYtRFe4Q"
      },
      "source": [
        "### GEE data\n",
        "Or we can add GEE data ranging from images/image collections to geometries/features/feature collections.\n"
      ]
    },
    {
      "cell_type": "markdown",
      "metadata": {
        "id": "5eJRUbi-HAMz"
      },
      "source": [
        "\n",
        "#### Images vs. image collections\n",
        "When processing data it is important to understand the difference between images and image collections. \n",
        "[![image.png](data:image/png;base64,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)](https://developers.google.com/earth-engine/guides/objects_methods_overview)"
      ]
    },
    {
      "cell_type": "markdown",
      "metadata": {
        "id": "0hmpttL0GwQi"
      },
      "source": [
        "Images are individual rasters composed of one or more bands and each band has its own name, data type, scale, mask and projection. Each image has metadata stored as a set of properties. Images can be loaded by pasting an Earth Engine asset ID into the `ee.Image()` constructor. You can find image IDs in the [data catalog](https://developers.google.com/earth-engine/datasets). For example, to load the USGS SRTM:"
      ]
    },
    {
      "cell_type": "code",
      "execution_count": null,
      "metadata": {
        "id": "dfKAqCoH-xT4"
      },
      "outputs": [],
      "source": [
        "# Define Earth Engine dataset\n",
        "image = ee.Image('USGS/SRTMGL1_003')"
      ]
    },
    {
      "cell_type": "markdown",
      "metadata": {
        "id": "1RnMegCrH4WV"
      },
      "source": [
        "Subsequently, we can add it to our Map by defining some visualization parameters. Here we are going to define only the min/max value to visualize, but you can find additional visualisation parameters [here](https://developers.google.com/earth-engine/guides/image_visualization)."
      ]
    },
    {
      "cell_type": "code",
      "execution_count": null,
      "metadata": {
        "colab": {
          "base_uri": "https://localhost:8080/",
          "height": 621,
          "referenced_widgets": [
            "bce534a19d0d4ea191ea1b82f5b81c43",
            "16f5f91ce3794c8ab6f74ef5e4783a47",
            "c0b455590e514ce692891242e9cdd998",
            "c500014f3da14f04af5e35916647bc64",
            "74feda49ccfa499f95e20e803cbff458",
            "77fca725539142ba9d5c97a29fe4680c",
            "b66f3f2668184d71b749f8d00ac17902",
            "1a801d26f1294bc49efab4070a3984a4",
            "e0a01cc74ac1471badf81f801121839a",
            "3be468df8486451b953e10ac0a73ca6d",
            "91acddc064ef41b0b1e2fa8e3a7a5b28",
            "be202bb4643d45d0b78957986a6f30f8",
            "f1f6c1e55ace4a77a455ca6a794164c7",
            "fdb061cfb69842c88f3055dc3c2e6f28",
            "08ed61fc58ea43cfaf65e1a41d8c41de",
            "04fbc0e6589d489aaebd1db255ba8e45",
            "991073ece2744dbd83f71ed3b17925d3",
            "6ba5f2f3a9714f2a89073659125692f3",
            "6df4321d0a154a16af16238ab65652c4",
            "1494d85d9a924a57a87a4d9e5921d3e5",
            "44c61547db944259848cbb489a5a6eca",
            "3fed4f2a268b4b10896d1412f4f5a7eb",
            "6e1b334d17814650864a971f58dbdbb7",
            "e2ded3f21a5a481198f0b2be493ec82c",
            "f583e682a44e447eb56524f79bf6062d",
            "78d651e9776b4206a2f4a7f49c7d8b65"
          ]
        },
        "id": "lmQ5crm2H0IH",
        "outputId": "6a467799-1105-4fe9-8929-2c8f39964bb7"
      },
      "outputs": [],
      "source": [
        "# Set visualization parameters.\n",
        "vis_params = {\n",
        "  'min': 0,\n",
        "  'max': 4000}\n",
        "\n",
        "# Create Map\n",
        "Map = geemap.Map()\n",
        "\n",
        "# Add Earth Engine layers to Map\n",
        "Map.addLayer(image, vis_params, 'DEM')\n",
        "\n",
        "# Show map\n",
        "Map"
      ]
    },
    {
      "cell_type": "markdown",
      "metadata": {
        "id": "BJgNEWTXIixB"
      },
      "source": [
        "An ImageCollection is a stack or sequence of images. For example, it can be the entire [Sentinel-2 surface reflection collection]('https://developers.google.com/earth-engine/datasets/catalog/COPERNICUS_S2_SR') which contains all Sentinel-2 surface reflectance images over the Earth.\n",
        "\n",
        "An ImageCollection can be loaded by pasting an Earth Engine asset ID into the `ee.ImageCollection` constructor. You can find ImageCollection IDs in the [data catalog](https://developers.google.com/earth-engine/datasets). "
      ]
    },
    {
      "cell_type": "code",
      "execution_count": null,
      "metadata": {
        "id": "9_TvgLzdJbhm"
      },
      "outputs": [],
      "source": [
        "sentinelCollection = ee.ImageCollection('COPERNICUS/S2_SR_HARMONIZED')"
      ]
    },
    {
      "cell_type": "markdown",
      "metadata": {
        "id": "tShvSzAMJgPw"
      },
      "source": [
        "This collection contains every Sentinel-2 image in the public catalog. There are a lot. Usually you want to filter the collection before. Filtering can occur based on:\n",
        " * region of interest / bounds:  to only get images that contain a certain area. Later we will see how to define such an area\n",
        " * date: to only get images from a certain date range\n",
        " * metadata: to only get images that fulfill a certain metadata requirement (e.g. only images with less than x% cloud cover). To get an idea of the potential metadata, I recommend to have a look at the data catalog -> `Image Properties` for each collection (e.g. for S2: https://developers.google.com/earth-engine/datasets/catalog/COPERNICUS_S2_SR)"
      ]
    },
    {
      "cell_type": "code",
      "execution_count": null,
      "metadata": {
        "id": "zW6PTS4TKJdV"
      },
      "outputs": [],
      "source": [
        "S2 = (ee.ImageCollection('COPERNICUS/S2_SR_HARMONIZED')\n",
        "         .filterBounds(ee.Geometry.Point(4, 52))\n",
        "         .filterDate('2019-01-01', '2019-12-31')\n",
        "         .filterMetadata('CLOUDY_PIXEL_PERCENTAGE','less_than',20))"
      ]
    },
    {
      "cell_type": "markdown",
      "metadata": {
        "id": "Chh-Lb-ELGXv"
      },
      "source": [
        "The standard way to get an image out of a collection is to reduce the collection. For example, we can sort based on a metadata field and subsequently get the first image. Notice in the following example that the image appears very dark as the min/max values are 0/10000 (corresponding to relfectance values of 0/1; see scale parameter in [data catalog](https://developers.google.com/earth-engine/datasets/catalog/COPERNICUS_S2_SR#bands)), but changing the max-value to a lower valuye will make it clearer."
      ]
    },
    {
      "cell_type": "code",
      "execution_count": null,
      "metadata": {
        "colab": {
          "base_uri": "https://localhost:8080/",
          "height": 621,
          "referenced_widgets": [
            "26ccfee6e3c641e0923b60b6e698a55e",
            "291b66674b2245729704b8e17d82b13a",
            "923f923886c1449282973d1b064306ad",
            "5ad224d67ebb4b34bcf6251fae53c980",
            "ad031eefa3324670b0154b2b0a3e6e39",
            "c5ee4c9dcc214962bec2fa5c600bb103",
            "f3256536814f4b8ab85f088ac2bc215e",
            "86d123c3c0104b0686cd4b98fa0ce220",
            "9da2a1c9eb3a4271bbe431800c96e780",
            "202e1af41330471f8defcdc3ad32f0b9",
            "1dae47a940a5423c917f9b9bef581b91",
            "1995335b8042474a843f072865d9b433",
            "f1f6c1e55ace4a77a455ca6a794164c7",
            "ba48cce2c10f49619077b0481e1ae0ae",
            "a02a136ac8de44bf8032e4fbb46e1d6a",
            "de84a57729f047179f42435864e8f511",
            "61890b08a71d41ea86b2b187b7273443",
            "5214789291274b098bd0d79aaffd9cbe",
            "dbf6b826e38748a9aa8458345665f681",
            "f39868d16f904cd294a27d87a4c3962f",
            "959d1f9b55304cc3b2179a0ef1b5e530",
            "80432f14433c49c9b55ffd7d5ff7204d",
            "b11781d2f86f4aaca83ac0195dc0a016",
            "cad056b082054f52946fbe96d9cb4243",
            "648a65f254b649148dc5405285babfb4",
            "9d4080d3e40b408784478b8da54713f3"
          ]
        },
        "id": "1RyPKjuQ-x9L",
        "outputId": "ba47fc1d-fecb-4668-b756-6624c5249506"
      },
      "outputs": [],
      "source": [
        "# Sort and get first image\n",
        "S2_im = S2.sort('CLOUDY_PIXEL_PERCENTAGE').first()\n",
        "# Define vis parameters\n",
        "S2_vis = {'bands':['B4','B3','B2'],\n",
        "          'min':0,\n",
        "          'max':10000}\n",
        "# Initialize Map\n",
        "Map = geemap.Map()\n",
        "# Add image\n",
        "Map.addLayer(S2_im,S2_vis,'S2 first image')\n",
        "# Zoom map on image on scale level 10\n",
        "Map.center_object(S2_im,10)\n",
        "\n",
        "Map"
      ]
    },
    {
      "cell_type": "markdown",
      "metadata": {
        "id": "jSdifpveM5en"
      },
      "source": [
        "Or apply some basic reduces to get the mean, median etc."
      ]
    },
    {
      "cell_type": "code",
      "execution_count": null,
      "metadata": {
        "colab": {
          "base_uri": "https://localhost:8080/",
          "height": 621,
          "referenced_widgets": [
            "7a397e4531584f9e9a9acb9409f24940",
            "b68a6c858f834c92bb57d2aa12b6f277",
            "ba9190e53cd04bd5a6f4a4c4abb6b7bf",
            "0303f3e574774f93bb419625d7bc4129",
            "a5185ef0628c4ae28274a9d9741032af",
            "9ae6a5e5e70846a4a3b955e92ddb9dca",
            "24f316179275488095eedc0bb644bf28",
            "26ad49fb20814a30951f8bccb4f2368a",
            "602b3fd3202a4df3a0f789e79a0482a7",
            "41b91db56660447eb90045707f8452c5",
            "9f31ef7a30244d2cae94ff28515623f3",
            "ba03383235264a268abf18d1193fa96e",
            "f1f6c1e55ace4a77a455ca6a794164c7",
            "7dfa0fb0bd9949edb2f31ac7f67f66f1",
            "7c35c61e34fe43c0a838df5a33e5b895",
            "d973036b8ac84c2c9769177a29c1a177",
            "7d9545e5af6e40559598f76ada583bc6",
            "5ebdeeec895c4a6caecf2518f9813cf9",
            "932b77013a0244e3bdbc76e3db81cce5",
            "cddab2d889ef452dac77a70fd4fd213f",
            "6e741357f22540da84b9d0e6ec100d52",
            "0b195e49f8bb488d99e58fcfebcd1451",
            "0ed30ff9189d4a9880ee3486321df949",
            "e2089721a2ed4f0b92162216e4f953e9",
            "1e163942d531486cac81246f50d4bc28",
            "4bb695ace9e54104b335cca21c02a74f",
            "8f63c6c8bfd642f79ac97eb30d615b5e"
          ]
        },
        "id": "aJ10wpAgNoWh",
        "outputId": "5341c3ff-056b-437f-92f3-af0b2cd18d0f"
      },
      "outputs": [],
      "source": [
        "# Get the Mean image of the collection\n",
        "S2_im = S2.mean()\n",
        "# Get the Median image of the collection\n",
        "S2_im2 = S2.median()\n",
        "\n",
        "# Define vis parameters\n",
        "S2_vis = {'bands':['B4','B3','B2'],\n",
        "          'min':0,\n",
        "          'max':4000}\n",
        "# Initialize Map\n",
        "Map = geemap.Map()\n",
        "# Add image\n",
        "Map.addLayer(S2_im,S2_vis,'S2 mean')\n",
        "Map.addLayer(S2_im2,S2_vis,'S2 median')\n",
        "Map\n"
      ]
    },
    {
      "cell_type": "markdown",
      "metadata": {
        "id": "MT7IkvTPO1kN"
      },
      "source": [
        "As you will notice, the `mean` and `median` image are rather different. Can you explain these differences?"
      ]
    },
    {
      "cell_type": "markdown",
      "metadata": {
        "id": "FC1gZ9mlO_Ot"
      },
      "source": [
        "#### Geometries in GEE\n",
        "We can also define geometries in GEE as Earth Engine handles vector data with the Geometry type. GEE support points and polygons but in this example notebook we are going to limit ourselves to points and rectangles. By default these are defined in `EPSG:4326` so lat/lon coordinates. Subsequently we can use these geometries to filter our data or define an output geometry when exporting"
      ]
    },
    {
      "cell_type": "code",
      "execution_count": null,
      "metadata": {
        "id": "uhmvDmMu-zUZ"
      },
      "outputs": [],
      "source": [
        "# Point based on lon/lat\n",
        "point = ee.Geometry.Point([1.5, 1.5])\n",
        "# Rectangle based on (minLon, minLat, maxLon, maxLat).\n",
        "rectangle = ee.Geometry.Rectangle([4.30,51.95,4.39,52])\n",
        "# rectangle = ee.Geometry.Rectangle([4.38,51.2,4.9,52])"
      ]
    },
    {
      "cell_type": "markdown",
      "metadata": {
        "id": "oHACpeTsQZPN"
      },
      "source": [
        "### Exporting from GEE\n",
        "geemap also allows to export your data to your local computer using the `.ee_export_image` (for images) and `ee_export_image_collection` (for collections) functions.\n",
        "\n",
        "To export, we always need to [define](https://geemap.org/common/#geemap.common.ee_export_image):\n",
        "* `region`: a region of interest (bounding box)\n",
        "*  `crs`: a coordinate reference system (i.e. projection where the data are exported in) \n",
        "* `scale`: the scale (in m) in which the data are exported\n",
        "* `filename`: output filename for the exported image\n",
        "\n",
        "To define a filename and folder structure, we need to consider the computer architecture we are working in (e.g., windows, Mac, Linux or Colab). If you are working on a local computer, you can get your local folder (e.g. `Downloads` folder) with:"
      ]
    },
    {
      "cell_type": "code",
      "execution_count": null,
      "metadata": {
        "id": "CVogRBuph71C"
      },
      "outputs": [],
      "source": [
        "# If on local computer\n",
        "out_dir = os.path.join(os.path.expanduser('~'), 'Downloads','test')"
      ]
    },
    {
      "cell_type": "markdown",
      "metadata": {
        "id": "oz3SEiQViM28"
      },
      "source": [
        "If you want other specific folders, you can change the `Downloads` with your local folder. Remember that on Window subsfolder are separated by `\\` and on Mac/Linux by `/` (e.g. `Downloads/subfolder1/subsubfolder2/`). Moreover Windows often prefers double `\\` (`Downloads\\\\subfolder1\\\\subsubfolder2\\\\`).\n",
        "\n",
        "On a colab computer mounted to Google drive, your output directory should be `/content/drive/MyDrive` with potential subfolders to save it to your Drive."
      ]
    },
    {
      "cell_type": "code",
      "execution_count": null,
      "metadata": {
        "id": "beSSx0qBSnXt"
      },
      "outputs": [],
      "source": [
        "# If on colab and you want to download to drive\n",
        "#out_dir = '/content/drive/MyDrive/'\n",
        "# If on colab and you want to download it to the notebook storage only\n",
        "#out_dir = '/content/'"
      ]
    },
    {
      "cell_type": "markdown",
      "metadata": {
        "id": "Pa5SiOlujPcO"
      },
      "source": [
        "To define the output file, we need to append the desired output filename to the folder"
      ]
    },
    {
      "cell_type": "code",
      "execution_count": null,
      "metadata": {
        "colab": {
          "base_uri": "https://localhost:8080/"
        },
        "id": "oOWPlNW-jaGs",
        "outputId": "4cc019e5-d56f-41a8-afbb-b76ed3af01bb"
      },
      "outputs": [],
      "source": [
        "filename = os.path.join(out_dir, 'S2_SR.tif')\n",
        "print(filename)"
      ]
    },
    {
      "cell_type": "markdown",
      "metadata": {
        "id": "oDjiosNdjbi_"
      },
      "source": [
        "And then we can start exporting. When we set `file_per_band=False` all image bands will be exported in one file. If you set it to `True`, each band will be saved to a different file with the band name appended. To understand what the different bands mean, I always recommend to check the data catalog of GEE before exporting."
      ]
    },
    {
      "cell_type": "code",
      "execution_count": null,
      "metadata": {
        "colab": {
          "base_uri": "https://localhost:8080/"
        },
        "id": "wXCEv9DRSDdM",
        "outputId": "4b982fab-89ad-402d-bb37-15bac369fd74"
      },
      "outputs": [],
      "source": [
        "geemap.ee_export_image(S2_im, filename=filename, scale=10, region=rectangle, file_per_band=False)"
      ]
    },
    {
      "cell_type": "markdown",
      "metadata": {
        "id": "X1Gto0vlmG1D"
      },
      "source": [
        "One of the drawbacks of GEE is that downloads are limited to ~33.5Mb and max 10000 pixel dimensions. To avoid hitting this limit, it is therefore wise to subset to only the bands you need by using the [`select` function](https://developers.google.com/earth-engine/apidocs/ee-image-select). For example, if you only want the RGB+NIR bands you can select `['B4','B3','B2','B8']`. Again I recommend to check the data catalog to understand what these bands mean.\n",
        "\n",
        "If you hit the download limit it may also be wise to select/download per band."
      ]
    },
    {
      "cell_type": "code",
      "execution_count": null,
      "metadata": {
        "colab": {
          "base_uri": "https://localhost:8080/"
        },
        "id": "5KLXIOvpmoZW",
        "outputId": "33f3dbba-d2e0-463f-994f-f22036f822f2"
      },
      "outputs": [],
      "source": [
        "geemap.ee_export_image(S2_im.select(['B4','B3','B2','B8']), filename=filename, scale=10, region=rectangle, crs='EPSG:3857', file_per_band=False)"
      ]
    },
    {
      "cell_type": "markdown",
      "metadata": {
        "id": "Wh0Typy3nU0e"
      },
      "source": [
        "Alternatively we can also download image collections using [`ee_export_image_collection`](https://geemap.org/common/#geemap.common.ee_export_image_collection). It is similar to exporting images, but now you only provide a folder you will download every image in your collection."
      ]
    },
    {
      "cell_type": "code",
      "execution_count": null,
      "metadata": {
        "colab": {
          "base_uri": "https://localhost:8080/"
        },
        "id": "RIMdvc2toAwQ",
        "outputId": "7b3cc0cf-e989-4a17-ac88-e59eeefcc5eb"
      },
      "outputs": [],
      "source": [
        "geemap.ee_export_image_collection(S2.select(['B4','B3','B2']), out_dir=out_dir, scale=10, region=rectangle, crs='EPSG:3857', file_per_band=False)"
      ]
    },
    {
      "cell_type": "markdown",
      "metadata": {
        "id": "vRSic-AkonZC"
      },
      "source": [
        "## Rasterio\n",
        "Once the data are downloaded we can open them using `rasterio`. Rasterio reads and writes geospatial raster datasets. It employs GDAL under the hood for file I/O and raster formatting. Its functions typically accept and return Numpy ndarrays. Rasterio is designed to make working with geospatial raster data more productive and more fun.\n",
        "\n",
        "Consider a GeoTIFF file named `S2_SR.tif` we just downloaded. We first need to open it with rasterio"
      ]
    },
    {
      "cell_type": "code",
      "execution_count": null,
      "metadata": {
        "id": "z57WVDH2pwe7"
      },
      "outputs": [],
      "source": [
        "dataset = rasterio.open(filename)"
      ]
    },
    {
      "cell_type": "markdown",
      "metadata": {
        "id": "WxeLqamqp33L"
      },
      "source": [
        "Rasterio’s open() function takes a path string or path-like object and returns an opened dataset object. The path may point to a file of any supported raster format. Rasterio will open it using the proper GDAL format driver. Dataset objects have some of the same attributes as Python file objects."
      ]
    },
    {
      "cell_type": "code",
      "execution_count": null,
      "metadata": {
        "colab": {
          "base_uri": "https://localhost:8080/",
          "height": 35
        },
        "id": "xM3T78WApy0M",
        "outputId": "92aa6f1c-5a55-4f28-aa35-661de0e655f0"
      },
      "outputs": [],
      "source": [
        "dataset.name"
      ]
    },
    {
      "cell_type": "markdown",
      "metadata": {
        "id": "va8XLXzwqDhc"
      },
      "source": [
        "Properties of the raster data stored in the example GeoTIFF can be accessed through attributes of the opened dataset object. Dataset objects have bands and this example has a band count of 4 as our latest export were only RGB+NIR bands."
      ]
    },
    {
      "cell_type": "code",
      "execution_count": null,
      "metadata": {
        "colab": {
          "base_uri": "https://localhost:8080/"
        },
        "id": "Dw8g1A4Hp_Mt",
        "outputId": "1ef2305b-2606-4e92-bc72-a3384e9084c4"
      },
      "outputs": [],
      "source": [
        "dataset.count"
      ]
    },
    {
      "cell_type": "markdown",
      "metadata": {
        "id": "brnsI6_gqWnt"
      },
      "source": [
        "A dataset band is an array of values representing the partial distribution of a single variable in 2-dimensional (2D) space. All band arrays of a dataset have the same number of rows and columns."
      ]
    },
    {
      "cell_type": "code",
      "execution_count": null,
      "metadata": {
        "colab": {
          "base_uri": "https://localhost:8080/"
        },
        "id": "JirZJ0ONqdXI",
        "outputId": "fbf4ce8d-b5d0-4ede-9193-47f074591e02"
      },
      "outputs": [],
      "source": [
        "print(dataset.width)\n",
        "print(dataset.height)"
      ]
    },
    {
      "cell_type": "markdown",
      "metadata": {
        "id": "h7iBrGjDqoYS"
      },
      "source": [
        "### Raster georeferencing\n",
        "A GIS raster dataset is different from an ordinary image; its elements (or “pixels”) are mapped to regions on the earth’s surface. Every pixels of a dataset is contained within a spatial bounding box. In this case it are the coordinates in the output `crs` we defined when exporting.\n",
        "\n"
      ]
    },
    {
      "cell_type": "code",
      "execution_count": null,
      "metadata": {
        "colab": {
          "base_uri": "https://localhost:8080/"
        },
        "id": "dbKUjJG_qhvi",
        "outputId": "214477ae-00f2-42b4-f483-6e6836551679"
      },
      "outputs": [],
      "source": [
        "dataset.bounds"
      ]
    },
    {
      "cell_type": "code",
      "execution_count": null,
      "metadata": {
        "colab": {
          "base_uri": "https://localhost:8080/"
        },
        "id": "b7E3Uy31qsii",
        "outputId": "b8b45dcf-6030-4657-e5c2-2838122326da"
      },
      "outputs": [],
      "source": [
        "dataset.crs"
      ]
    },
    {
      "cell_type": "markdown",
      "metadata": {
        "id": "fjBm2hrfrLn6"
      },
      "source": [
        "### Reading raster data\n",
        "Data from a raster band can be accessed by the band’s index number. Following the GDAL convention, bands are indexed from 1 (and not 0 as in most python arrays)"
      ]
    },
    {
      "cell_type": "code",
      "execution_count": null,
      "metadata": {
        "id": "q2nmpzJprnsx"
      },
      "outputs": [],
      "source": [
        "band1 = dataset.read(1)"
      ]
    },
    {
      "cell_type": "markdown",
      "metadata": {
        "id": "vEs_8FMhr7o8"
      },
      "source": [
        "The read() method returns a Numpy N-D array."
      ]
    },
    {
      "cell_type": "code",
      "execution_count": null,
      "metadata": {
        "colab": {
          "base_uri": "https://localhost:8080/"
        },
        "id": "9qSBIpLfsALe",
        "outputId": "264785c2-9705-4ad2-ba91-68f22632f748"
      },
      "outputs": [],
      "source": [
        "band1"
      ]
    },
    {
      "cell_type": "markdown",
      "metadata": {
        "id": "AX1HzrVXrpi8"
      },
      "source": [
        "Instead of reading single bands, all bands of the input dataset can also be read into a 3-dimensonal ndarray. Note that the interpretation of the 3 axes is `(bands, rows, columns)`. "
      ]
    },
    {
      "cell_type": "code",
      "execution_count": null,
      "metadata": {
        "colab": {
          "base_uri": "https://localhost:8080/"
        },
        "id": "0QWhuiT9sD8S",
        "outputId": "ef0a7d1c-f687-4af5-bd8c-f209f5bbd790"
      },
      "outputs": [],
      "source": [
        "bands = dataset.read()\n",
        "bands.shape"
      ]
    },
    {
      "cell_type": "markdown",
      "metadata": {
        "id": "Y2ga873NuNO0"
      },
      "source": [
        "The interpretation of a 3-dimension array read from rasterio is `(bands, rows, columns)` while image processing software like scikit-image, pillow and matplotlib are generally ordered as `(rows, columns, bands)` where number of rows defines the dataset’s height, the columns are the dataset’s width.\n",
        "\n",
        "Numpy provides a way to efficiently swap the axis order and you can use the following reshape functions to convert between raster and image axis order:\n",
        "\n"
      ]
    },
    {
      "cell_type": "code",
      "execution_count": null,
      "metadata": {
        "colab": {
          "base_uri": "https://localhost:8080/"
        },
        "id": "hAIlYz15ujnA",
        "outputId": "85c7d4bf-6214-40ea-8245-4a7bd37cfc64"
      },
      "outputs": [],
      "source": [
        "from rasterio.plot import reshape_as_raster, reshape_as_image\n",
        "# Convert to image\n",
        "image = reshape_as_image(bands)\n",
        "print(image.shape)\n",
        "# Convert back to raster\n",
        "raster = reshape_as_raster(image)\n",
        "print(raster.shape)"
      ]
    },
    {
      "cell_type": "markdown",
      "metadata": {
        "id": "DBQhetHhsYan"
      },
      "source": [
        "Irrespective to the ordering, values from the array can be addressed by their `band, row, column` index. Notice that now indexing starts again at 0 as in classic python arrays"
      ]
    },
    {
      "cell_type": "code",
      "execution_count": null,
      "metadata": {
        "colab": {
          "base_uri": "https://localhost:8080/"
        },
        "id": "LLiMBxklsG9E",
        "outputId": "1cdc65b4-6e71-4803-ebd6-63219dacfb4c"
      },
      "outputs": [],
      "source": [
        "bands[0, 150, 100]"
      ]
    },
    {
      "cell_type": "markdown",
      "metadata": {
        "id": "nRAsmXkWvDZo"
      },
      "source": [
        "## Analyzing & plotting the data\n",
        "Once the data are downloaded and opened, we can start analyzing and plotting them. For example, if we want to calculate the calculate the `NDVI` (see lectures), we need the normalized ration between R & NIR, which in our case are bands 0 and 3.\n",
        "\n"
      ]
    },
    {
      "cell_type": "code",
      "execution_count": null,
      "metadata": {
        "colab": {
          "base_uri": "https://localhost:8080/"
        },
        "id": "I_rjJNvWsyWr",
        "outputId": "f0e6c595-c464-4f2a-c7bf-7bc536ed946c"
      },
      "outputs": [],
      "source": [
        "ndvi = (bands[3,:,:]-bands[0,:,:])/(bands[3,:,:]+bands[0,:,:])\n",
        "ndvi"
      ]
    },
    {
      "cell_type": "markdown",
      "metadata": {
        "id": "y3Rh-ao2x41V"
      },
      "source": [
        "We can off course also plot the data in a map using the mapping tools you learned in notebook 1."
      ]
    },
    {
      "cell_type": "code",
      "execution_count": null,
      "metadata": {
        "colab": {
          "base_uri": "https://localhost:8080/",
          "height": 701
        },
        "id": "oZwwaDWAyOfy",
        "outputId": "aa285f43-caab-4abb-b2aa-0d49c3a97fcd"
      },
      "outputs": [],
      "source": [
        "plt.figure()\n",
        "crs=ccrs.epsg(3857)\n",
        "ax = plt.axes(projection=crs)\n",
        "img_extent = [dataset.bounds.left,dataset.bounds.right,dataset.bounds.bottom,dataset.bounds.top]\n",
        "ax.set_extent(img_extent,crs=crs)\n",
        "ax.imshow(bands[0,:,:],vmin=0,vmax=3000, extent=img_extent, origin='upper')\n",
        "scalebar = ScaleBar(1,box_alpha=0,color='white',location='lower right')\n",
        "ax.add_artist(scalebar)"
      ]
    },
    {
      "cell_type": "markdown",
      "metadata": {
        "id": "PCDG6-cGzXM1"
      },
      "source": [
        "Or show it as an image using the reshape_as_image function and by rescaling the data to 0-1 range. Remember that the original data are integers that need rescaling to fit in the 0-1 range (see data catalog and scaling value)"
      ]
    },
    {
      "cell_type": "markdown",
      "metadata": {
        "id": "KqULoxVQ11Bb"
      },
      "source": [
        "\n",
        "Often this image is still rather dark. To understand why, you can plot a histogram of the band values."
      ]
    },
    {
      "cell_type": "code",
      "execution_count": null,
      "metadata": {
        "colab": {
          "base_uri": "https://localhost:8080/",
          "height": 352
        },
        "id": "Xci8AggLyPbn",
        "outputId": "10f79040-35aa-4dc0-9111-f014978e0121"
      },
      "outputs": [],
      "source": [
        "# First rescale the values to reflectance values\n",
        "im = bands/10000. # see the data catalog where the scale value is 0.0001\n",
        "# Plot\n",
        "plt.figure(figsize=(5, 5))\n",
        "ax = plt.axes()\n",
        "ax.hist(im[0,:,:].flatten(),bins=np.arange(0, 1, 0.01),color='red',alpha=0.3,label='R')\n",
        "ax.hist(im[1,:,:].flatten(),bins=np.arange(0, 1, 0.01),color='green',alpha=0.3,label='G')\n",
        "ax.hist(im[2,:,:].flatten(),bins=np.arange(0, 1, 0.01),color='blue',alpha=0.3,label='B')\n",
        "ax.hist(im[3,:,:].flatten(),bins=np.arange(0, 1, 0.01),color='purple',alpha=0.3,label='NIR')\n",
        "ax.legend(frameon=False,fontsize=10)\n",
        "ax.set_xlabel('Surface reflectance []')\n",
        "ax.set_ylabel('Probability density by counts')"
      ]
    },
    {
      "cell_type": "markdown",
      "metadata": {
        "id": "OvxYPFcH23Uy"
      },
      "source": [
        "The figure shows that for the RGB bands the reflectance values are indeed rather low (`<0.2`) resulting in a dark image. If we plot a false color `NIR/R/G` composite, we can indeed see that most of the image turns red as a result of the stronger reflectance of vegetation in the NIR band."
      ]
    },
    {
      "cell_type": "markdown",
      "metadata": {
        "id": "gXmQ9rDP4FHu"
      },
      "source": [
        "If we want to adjust the scaling, we can just apply offset and scaling values to increase brightness or contrast (see lecture slides)."
      ]
    },
    {
      "cell_type": "code",
      "execution_count": null,
      "metadata": {
        "colab": {
          "base_uri": "https://localhost:8080/",
          "height": 569
        },
        "id": "fZVwGrcq38td",
        "outputId": "9f87b43f-9e88-4c43-9d71-8d2f33c5f14a"
      },
      "outputs": [],
      "source": [
        "scaling = 2\n",
        "offset = 0\n",
        "image = reshape_as_image(bands)/10000.*scaling + offset\n",
        "plt.figure(figsize=(10,10))\n",
        "crs=ccrs.epsg(3857)\n",
        "ax = plt.axes(projection=crs)\n",
        "img_extent = [dataset.bounds.left,dataset.bounds.right,dataset.bounds.bottom,dataset.bounds.top]\n",
        "ax.set_extent(img_extent,crs=crs)\n",
        "ax.imshow(image[:,:,0:3], extent=img_extent, origin='upper')\n",
        "scalebar = ScaleBar(1,box_alpha=0,color='white',location='lower right')\n",
        "ax.add_artist(scalebar)"
      ]
    },
    {
      "cell_type": "markdown",
      "metadata": {
        "id": "VaByzJlc5cHl"
      },
      "source": [
        "When  we can visualize one image, we can off course also visualize change. This can be done just making different subplots  and showing different images next to eachother, but also by making an animation (not covered in this notebook). \n",
        "\n",
        "First start by looping over all downloaded images. We can use this by using the `glob2` function which allows to search for all files that correspond to a certain filename. For example, if we want all `tif` files in our `out_dir` we can do:"
      ]
    },
    {
      "cell_type": "code",
      "execution_count": null,
      "metadata": {
        "colab": {
          "base_uri": "https://localhost:8080/"
        },
        "id": "boSxz5n76-vz",
        "outputId": "cb3a852f-685c-427d-9219-d503e9531bbe"
      },
      "outputs": [],
      "source": [
        "glob2.glob(os.path.join(out_dir, '*tif'))"
      ]
    },
    {
      "cell_type": "markdown",
      "metadata": {
        "id": "nvkHOdsN74x7"
      },
      "source": [
        "Or get only the files from our collection that start with a `2`."
      ]
    },
    {
      "cell_type": "code",
      "execution_count": null,
      "metadata": {
        "colab": {
          "base_uri": "https://localhost:8080/"
        },
        "id": "f1p5E7Db7EG-",
        "outputId": "1ad80d7d-33cf-4afb-a9e5-d6f77a1d4bbe"
      },
      "outputs": [],
      "source": [
        "glob2.glob(os.path.join(out_dir, '2*tif'))"
      ]
    },
    {
      "cell_type": "markdown",
      "metadata": {
        "id": "gmfXhZIR8GOP"
      },
      "source": [
        "Subsequently, we can loop over these files."
      ]
    },
    {
      "cell_type": "markdown",
      "metadata": {
        "id": "4P1LymBx-Kcn"
      },
      "source": [
        "Now we have plotted all images and saved them to a `png` file in our out_dir. As you will see, there are still some bad frames (e.g. containing missing data. We can then manually remove them (e.g. by deleting them) and the convert them into a gif."
      ]
    },
    {
      "cell_type": "markdown",
      "metadata": {
        "id": "fviIvAxkAAT-"
      },
      "source": [
        "# Done\n",
        "With these ingredients, you should be able to do the analyses of Notebook 2. Good luck!"
      ]
    }
  ],
  "metadata": {
    "colab": {
      "authorship_tag": "ABX9TyPwJzv29f1VsrB6e9rJTA06",
      "include_colab_link": true,
      "name": "RS_Notebook2_Loading-RS-data-in-python.ipynb",
      "provenance": []
    },
    "kernelspec": {
      "display_name": "BPD4a",
      "language": "python",
      "name": "python3"
    },
    "language_info": {
      "codemirror_mode": {
        "name": "ipython",
        "version": 3
      },
      "file_extension": ".py",
      "mimetype": "text/x-python",
      "name": "python",
      "nbconvert_exporter": "python",
      "pygments_lexer": "ipython3",
      "version": "3.13.3"
    },
    "widgets": {
      "application/vnd.jupyter.widget-state+json": {
        "0075b35aed9d439e90c93a41bbc5b4f6": {
          "model_module": "@jupyter-widgets/controls",
          "model_module_version": "1.5.0",
          "model_name": "VBoxModel",
          "state": {
            "_dom_classes": [],
            "_model_module": "@jupyter-widgets/controls",
            "_model_module_version": "1.5.0",
            "_model_name": "VBoxModel",
            "_view_count": null,
            "_view_module": "@jupyter-widgets/controls",
            "_view_module_version": "1.5.0",
            "_view_name": "VBoxView",
            "box_style": "",
            "children": [
              "IPY_MODEL_76cfd248e92a494fb8299cdf777cfee3"
            ],
            "layout": "IPY_MODEL_7db8ce5212d54891b3064664640130c2"
          }
        },
        "0303f3e574774f93bb419625d7bc4129": {
          "model_module": "jupyter-leaflet",
          "model_module_version": "^0.16.0",
          "model_name": "LeafletScaleControlModel",
          "state": {
            "_model_module": "jupyter-leaflet",
            "_model_module_version": "^0.16.0",
            "_model_name": "LeafletScaleControlModel",
            "_view_count": null,
            "_view_module": "jupyter-leaflet",
            "_view_module_version": "^0.16.0",
            "_view_name": "LeafletScaleControlView",
            "imperial": true,
            "max_width": 100,
            "metric": true,
            "options": [
              "imperial",
              "max_width",
              "metric",
              "position",
              "update_when_idle"
            ],
            "position": "bottomleft",
            "update_when_idle": false
          }
        },
        "04fbc0e6589d489aaebd1db255ba8e45": {
          "model_module": "jupyter-leaflet",
          "model_module_version": "^0.16.0",
          "model_name": "LeafletMapStyleModel",
          "state": {
            "_model_module": "jupyter-leaflet",
            "_model_module_version": "^0.16.0",
            "_model_name": "LeafletMapStyleModel",
            "_view_count": null,
            "_view_module": "@jupyter-widgets/base",
            "_view_module_version": "1.2.0",
            "_view_name": "StyleView",
            "cursor": "grab"
          }
        },
        "0663c5615ad049de9947b2221ceb566e": {
          "model_module": "jupyter-leaflet",
          "model_module_version": "^0.16.0",
          "model_name": "LeafletFullScreenControlModel",
          "state": {
            "_model_module": "jupyter-leaflet",
            "_model_module_version": "^0.16.0",
            "_model_name": "LeafletFullScreenControlModel",
            "_view_count": null,
            "_view_module": "jupyter-leaflet",
            "_view_module_version": "^0.16.0",
            "_view_name": "LeafletFullScreenControlView",
            "options": [
              "position"
            ],
            "position": "topleft"
          }
        },
        "08ed61fc58ea43cfaf65e1a41d8c41de": {
          "model_module": "@jupyter-widgets/base",
          "model_module_version": "1.2.0",
          "model_name": "LayoutModel",
          "state": {
            "_model_module": "@jupyter-widgets/base",
            "_model_module_version": "1.2.0",
            "_model_name": "LayoutModel",
            "_view_count": null,
            "_view_module": "@jupyter-widgets/base",
            "_view_module_version": "1.2.0",
            "_view_name": "LayoutView",
            "align_content": null,
            "align_items": null,
            "align_self": null,
            "border": null,
            "bottom": null,
            "display": null,
            "flex": null,
            "flex_flow": null,
            "grid_area": null,
            "grid_auto_columns": null,
            "grid_auto_flow": null,
            "grid_auto_rows": null,
            "grid_column": null,
            "grid_gap": null,
            "grid_row": null,
            "grid_template_areas": null,
            "grid_template_columns": null,
            "grid_template_rows": null,
            "height": "600px",
            "justify_content": null,
            "justify_items": null,
            "left": null,
            "margin": null,
            "max_height": null,
            "max_width": null,
            "min_height": null,
            "min_width": null,
            "object_fit": null,
            "object_position": null,
            "order": null,
            "overflow": null,
            "overflow_x": null,
            "overflow_y": null,
            "padding": null,
            "right": null,
            "top": null,
            "visibility": null,
            "width": null
          }
        },
        "0aa242615b1b4766936cadd1c442d1e5": {
          "model_module": "@jupyter-widgets/controls",
          "model_module_version": "1.5.0",
          "model_name": "DescriptionStyleModel",
          "state": {
            "_model_module": "@jupyter-widgets/controls",
            "_model_module_version": "1.5.0",
            "_model_name": "DescriptionStyleModel",
            "_view_count": null,
            "_view_module": "@jupyter-widgets/base",
            "_view_module_version": "1.2.0",
            "_view_name": "StyleView",
            "description_width": ""
          }
        },
        "0b195e49f8bb488d99e58fcfebcd1451": {
          "model_module": "@jupyter-widgets/controls",
          "model_module_version": "1.5.0",
          "model_name": "ToggleButtonModel",
          "state": {
            "_dom_classes": [],
            "_model_module": "@jupyter-widgets/controls",
            "_model_module_version": "1.5.0",
            "_model_name": "ToggleButtonModel",
            "_view_count": null,
            "_view_module": "@jupyter-widgets/controls",
            "_view_module_version": "1.5.0",
            "_view_name": "ToggleButtonView",
            "button_style": "",
            "description": "",
            "description_tooltip": null,
            "disabled": false,
            "icon": "wrench",
            "layout": "IPY_MODEL_4bb695ace9e54104b335cca21c02a74f",
            "style": "IPY_MODEL_8f63c6c8bfd642f79ac97eb30d615b5e",
            "tooltip": "Toolbar",
            "value": false
          }
        },
        "0b353b2f0bd54e1a9eebdaf5bb23e728": {
          "model_module": "@jupyter-widgets/controls",
          "model_module_version": "1.5.0",
          "model_name": "DescriptionStyleModel",
          "state": {
            "_model_module": "@jupyter-widgets/controls",
            "_model_module_version": "1.5.0",
            "_model_name": "DescriptionStyleModel",
            "_view_count": null,
            "_view_module": "@jupyter-widgets/base",
            "_view_module_version": "1.2.0",
            "_view_name": "StyleView",
            "description_width": ""
          }
        },
        "0bcb8be474434e20895561edf536d6f8": {
          "model_module": "jupyter-leaflet",
          "model_module_version": "^0.16.0",
          "model_name": "LeafletAttributionControlModel",
          "state": {
            "_model_module": "jupyter-leaflet",
            "_model_module_version": "^0.16.0",
            "_model_name": "LeafletAttributionControlModel",
            "_view_count": null,
            "_view_module": "jupyter-leaflet",
            "_view_module_version": "^0.16.0",
            "_view_name": "LeafletAttributionControlView",
            "options": [
              "position",
              "prefix"
            ],
            "position": "bottomright",
            "prefix": "ipyleaflet"
          }
        },
        "0c668b6fe91f4fca95eb6627106bf079": {
          "model_module": "@jupyter-widgets/controls",
          "model_module_version": "1.5.0",
          "model_name": "ToggleButtonModel",
          "state": {
            "_dom_classes": [],
            "_model_module": "@jupyter-widgets/controls",
            "_model_module_version": "1.5.0",
            "_model_name": "ToggleButtonModel",
            "_view_count": null,
            "_view_module": "@jupyter-widgets/controls",
            "_view_module_version": "1.5.0",
            "_view_name": "ToggleButtonView",
            "button_style": "",
            "description": "",
            "description_tooltip": null,
            "disabled": false,
            "icon": "wrench",
            "layout": "IPY_MODEL_ceaca064ac34483ba8ef381fcef6aea1",
            "style": "IPY_MODEL_bb87f84db55d474fabd9df784cfb84e7",
            "tooltip": "Toolbar",
            "value": false
          }
        },
        "0ed30ff9189d4a9880ee3486321df949": {
          "model_module": "@jupyter-widgets/base",
          "model_module_version": "1.2.0",
          "model_name": "LayoutModel",
          "state": {
            "_model_module": "@jupyter-widgets/base",
            "_model_module_version": "1.2.0",
            "_model_name": "LayoutModel",
            "_view_count": null,
            "_view_module": "@jupyter-widgets/base",
            "_view_module_version": "1.2.0",
            "_view_name": "LayoutView",
            "align_content": null,
            "align_items": null,
            "align_self": null,
            "border": null,
            "bottom": null,
            "display": null,
            "flex": null,
            "flex_flow": null,
            "grid_area": null,
            "grid_auto_columns": null,
            "grid_auto_flow": null,
            "grid_auto_rows": null,
            "grid_column": null,
            "grid_gap": null,
            "grid_row": null,
            "grid_template_areas": null,
            "grid_template_columns": null,
            "grid_template_rows": null,
            "height": null,
            "justify_content": null,
            "justify_items": null,
            "left": null,
            "margin": null,
            "max_height": null,
            "max_width": null,
            "min_height": null,
            "min_width": null,
            "object_fit": null,
            "object_position": null,
            "order": null,
            "overflow": null,
            "overflow_x": null,
            "overflow_y": null,
            "padding": null,
            "right": null,
            "top": null,
            "visibility": null,
            "width": null
          }
        },
        "128ce48d5dab41418ce936a25a75ec08": {
          "model_module": "jupyter-leaflet",
          "model_module_version": "^0.16.0",
          "model_name": "LeafletWidgetControlModel",
          "state": {
            "_model_module": "jupyter-leaflet",
            "_model_module_version": "^0.16.0",
            "_model_name": "LeafletWidgetControlModel",
            "_view_count": null,
            "_view_module": "jupyter-leaflet",
            "_view_module_version": "^0.16.0",
            "_view_name": "LeafletWidgetControlView",
            "max_height": null,
            "max_width": null,
            "min_height": null,
            "min_width": null,
            "options": [
              "position",
              "transparent_bg"
            ],
            "position": "topright",
            "transparent_bg": false,
            "widget": "IPY_MODEL_808d88e403b744e1ac92185b018c1a47"
          }
        },
        "140d8404ec234650bf7879cdd2470084": {
          "model_module": "jupyter-leaflet",
          "model_module_version": "^0.16.0",
          "model_name": "LeafletDrawControlModel",
          "state": {
            "_model_module": "jupyter-leaflet",
            "_model_module_version": "^0.16.0",
            "_model_name": "LeafletDrawControlModel",
            "_view_count": null,
            "_view_module": "jupyter-leaflet",
            "_view_module_version": "^0.16.0",
            "_view_name": "LeafletDrawControlView",
            "circle": {
              "shapeOptions": {
                "color": "#3388ff"
              }
            },
            "circlemarker": {},
            "data": [],
            "edit": true,
            "marker": {
              "shapeOptions": {
                "color": "#3388ff"
              }
            },
            "options": [
              "position"
            ],
            "polygon": {
              "shapeOptions": {}
            },
            "polyline": {
              "shapeOptions": {}
            },
            "position": "topleft",
            "rectangle": {
              "shapeOptions": {
                "color": "#3388ff"
              }
            },
            "remove": true
          }
        },
        "1494d85d9a924a57a87a4d9e5921d3e5": {
          "model_module": "@jupyter-widgets/base",
          "model_module_version": "1.2.0",
          "model_name": "LayoutModel",
          "state": {
            "_model_module": "@jupyter-widgets/base",
            "_model_module_version": "1.2.0",
            "_model_name": "LayoutModel",
            "_view_count": null,
            "_view_module": "@jupyter-widgets/base",
            "_view_module_version": "1.2.0",
            "_view_name": "LayoutView",
            "align_content": null,
            "align_items": null,
            "align_self": null,
            "border": null,
            "bottom": null,
            "display": null,
            "flex": null,
            "flex_flow": null,
            "grid_area": null,
            "grid_auto_columns": null,
            "grid_auto_flow": null,
            "grid_auto_rows": null,
            "grid_column": null,
            "grid_gap": null,
            "grid_row": null,
            "grid_template_areas": null,
            "grid_template_columns": null,
            "grid_template_rows": null,
            "height": null,
            "justify_content": null,
            "justify_items": null,
            "left": null,
            "margin": null,
            "max_height": null,
            "max_width": null,
            "min_height": null,
            "min_width": null,
            "object_fit": null,
            "object_position": null,
            "order": null,
            "overflow": null,
            "overflow_x": null,
            "overflow_y": null,
            "padding": null,
            "right": null,
            "top": null,
            "visibility": null,
            "width": null
          }
        },
        "16f5f91ce3794c8ab6f74ef5e4783a47": {
          "model_module": "jupyter-leaflet",
          "model_module_version": "^0.16.0",
          "model_name": "LeafletWidgetControlModel",
          "state": {
            "_model_module": "jupyter-leaflet",
            "_model_module_version": "^0.16.0",
            "_model_name": "LeafletWidgetControlModel",
            "_view_count": null,
            "_view_module": "jupyter-leaflet",
            "_view_module_version": "^0.16.0",
            "_view_name": "LeafletWidgetControlView",
            "max_height": null,
            "max_width": null,
            "min_height": null,
            "min_width": null,
            "options": [
              "position",
              "transparent_bg"
            ],
            "position": "topleft",
            "transparent_bg": false,
            "widget": "IPY_MODEL_991073ece2744dbd83f71ed3b17925d3"
          }
        },
        "1995335b8042474a843f072865d9b433": {
          "model_module": "jupyter-leaflet",
          "model_module_version": "^0.16.0",
          "model_name": "LeafletTileLayerModel",
          "state": {
            "_model_module": "jupyter-leaflet",
            "_model_module_version": "^0.16.0",
            "_model_name": "LeafletTileLayerModel",
            "_view_count": null,
            "_view_module": "jupyter-leaflet",
            "_view_module_version": "^0.16.0",
            "_view_name": "LeafletTileLayerView",
            "attribution": "&copy; <a href=\"https://www.openstreetmap.org/copyright\">OpenStreetMap</a> contributors",
            "base": true,
            "bottom": true,
            "bounds": null,
            "detect_retina": false,
            "loading": false,
            "max_native_zoom": 18,
            "max_zoom": 19,
            "min_native_zoom": 0,
            "min_zoom": 1,
            "name": "OpenStreetMap.Mapnik",
            "no_wrap": false,
            "opacity": 1,
            "options": [
              "attribution",
              "bounds",
              "detect_retina",
              "max_native_zoom",
              "max_zoom",
              "min_native_zoom",
              "min_zoom",
              "no_wrap",
              "tile_size",
              "tms"
            ],
            "popup": null,
            "popup_max_height": null,
            "popup_max_width": 300,
            "popup_min_width": 50,
            "show_loading": false,
            "tile_size": 256,
            "tms": false,
            "url": "https://a.tile.openstreetmap.org/{z}/{x}/{y}.png",
            "visible": true
          }
        },
        "19db75b2974844598a538a9169eed710": {
          "model_module": "jupyter-leaflet",
          "model_module_version": "^0.16.0",
          "model_name": "LeafletMapStyleModel",
          "state": {
            "_model_module": "jupyter-leaflet",
            "_model_module_version": "^0.16.0",
            "_model_name": "LeafletMapStyleModel",
            "_view_count": null,
            "_view_module": "@jupyter-widgets/base",
            "_view_module_version": "1.2.0",
            "_view_name": "StyleView",
            "cursor": "grab"
          }
        },
        "1a801d26f1294bc49efab4070a3984a4": {
          "model_module": "jupyter-leaflet",
          "model_module_version": "^0.16.0",
          "model_name": "LeafletDrawControlModel",
          "state": {
            "_model_module": "jupyter-leaflet",
            "_model_module_version": "^0.16.0",
            "_model_name": "LeafletDrawControlModel",
            "_view_count": null,
            "_view_module": "jupyter-leaflet",
            "_view_module_version": "^0.16.0",
            "_view_name": "LeafletDrawControlView",
            "circle": {
              "shapeOptions": {
                "color": "#3388ff"
              }
            },
            "circlemarker": {},
            "data": [],
            "edit": true,
            "marker": {
              "shapeOptions": {
                "color": "#3388ff"
              }
            },
            "options": [
              "position"
            ],
            "polygon": {
              "shapeOptions": {}
            },
            "polyline": {
              "shapeOptions": {}
            },
            "position": "topleft",
            "rectangle": {
              "shapeOptions": {
                "color": "#3388ff"
              }
            },
            "remove": true
          }
        },
        "1dae47a940a5423c917f9b9bef581b91": {
          "model_module": "jupyter-leaflet",
          "model_module_version": "^0.16.0",
          "model_name": "LeafletMapStyleModel",
          "state": {
            "_model_module": "jupyter-leaflet",
            "_model_module_version": "^0.16.0",
            "_model_name": "LeafletMapStyleModel",
            "_view_count": null,
            "_view_module": "@jupyter-widgets/base",
            "_view_module_version": "1.2.0",
            "_view_name": "StyleView",
            "cursor": "move"
          }
        },
        "1e163942d531486cac81246f50d4bc28": {
          "model_module": "@jupyter-widgets/controls",
          "model_module_version": "1.5.0",
          "model_name": "DescriptionStyleModel",
          "state": {
            "_model_module": "@jupyter-widgets/controls",
            "_model_module_version": "1.5.0",
            "_model_name": "DescriptionStyleModel",
            "_view_count": null,
            "_view_module": "@jupyter-widgets/base",
            "_view_module_version": "1.2.0",
            "_view_name": "StyleView",
            "description_width": ""
          }
        },
        "202e1af41330471f8defcdc3ad32f0b9": {
          "model_module": "jupyter-leaflet",
          "model_module_version": "^0.16.0",
          "model_name": "LeafletMapStyleModel",
          "state": {
            "_model_module": "jupyter-leaflet",
            "_model_module_version": "^0.16.0",
            "_model_name": "LeafletMapStyleModel",
            "_view_count": null,
            "_view_module": "@jupyter-widgets/base",
            "_view_module_version": "1.2.0",
            "_view_name": "StyleView",
            "cursor": "grab"
          }
        },
        "20eb786e43a5456fabd6228a7b042bda": {
          "model_module": "jupyter-leaflet",
          "model_module_version": "^0.16.0",
          "model_name": "LeafletMapStyleModel",
          "state": {
            "_model_module": "jupyter-leaflet",
            "_model_module_version": "^0.16.0",
            "_model_name": "LeafletMapStyleModel",
            "_view_count": null,
            "_view_module": "@jupyter-widgets/base",
            "_view_module_version": "1.2.0",
            "_view_name": "StyleView",
            "cursor": "move"
          }
        },
        "225ee27e8541437786ed3a6ee0bed3f5": {
          "model_module": "jupyter-leaflet",
          "model_module_version": "^0.16.0",
          "model_name": "LeafletScaleControlModel",
          "state": {
            "_model_module": "jupyter-leaflet",
            "_model_module_version": "^0.16.0",
            "_model_name": "LeafletScaleControlModel",
            "_view_count": null,
            "_view_module": "jupyter-leaflet",
            "_view_module_version": "^0.16.0",
            "_view_name": "LeafletScaleControlView",
            "imperial": true,
            "max_width": 100,
            "metric": true,
            "options": [
              "imperial",
              "max_width",
              "metric",
              "position",
              "update_when_idle"
            ],
            "position": "bottomleft",
            "update_when_idle": false
          }
        },
        "2332e10ec9d64d3b886e39e48bcd92e6": {
          "model_module": "@jupyter-widgets/controls",
          "model_module_version": "1.5.0",
          "model_name": "DescriptionStyleModel",
          "state": {
            "_model_module": "@jupyter-widgets/controls",
            "_model_module_version": "1.5.0",
            "_model_name": "DescriptionStyleModel",
            "_view_count": null,
            "_view_module": "@jupyter-widgets/base",
            "_view_module_version": "1.2.0",
            "_view_name": "StyleView",
            "description_width": ""
          }
        },
        "24f316179275488095eedc0bb644bf28": {
          "model_module": "jupyter-leaflet",
          "model_module_version": "^0.16.0",
          "model_name": "LeafletAttributionControlModel",
          "state": {
            "_model_module": "jupyter-leaflet",
            "_model_module_version": "^0.16.0",
            "_model_name": "LeafletAttributionControlModel",
            "_view_count": null,
            "_view_module": "jupyter-leaflet",
            "_view_module_version": "^0.16.0",
            "_view_name": "LeafletAttributionControlView",
            "options": [
              "position",
              "prefix"
            ],
            "position": "bottomright",
            "prefix": "ipyleaflet"
          }
        },
        "26ad49fb20814a30951f8bccb4f2368a": {
          "model_module": "jupyter-leaflet",
          "model_module_version": "^0.16.0",
          "model_name": "LeafletDrawControlModel",
          "state": {
            "_model_module": "jupyter-leaflet",
            "_model_module_version": "^0.16.0",
            "_model_name": "LeafletDrawControlModel",
            "_view_count": null,
            "_view_module": "jupyter-leaflet",
            "_view_module_version": "^0.16.0",
            "_view_name": "LeafletDrawControlView",
            "circle": {
              "shapeOptions": {
                "color": "#3388ff"
              }
            },
            "circlemarker": {},
            "data": [],
            "edit": true,
            "marker": {
              "shapeOptions": {
                "color": "#3388ff"
              }
            },
            "options": [
              "position"
            ],
            "polygon": {
              "shapeOptions": {}
            },
            "polyline": {
              "shapeOptions": {}
            },
            "position": "topleft",
            "rectangle": {
              "shapeOptions": {
                "color": "#3388ff"
              }
            },
            "remove": true
          }
        },
        "26ccfee6e3c641e0923b60b6e698a55e": {
          "model_module": "jupyter-leaflet",
          "model_module_version": "^0.16.0",
          "model_name": "LeafletMapModel",
          "state": {
            "_dom_classes": [],
            "_model_module": "jupyter-leaflet",
            "_model_module_version": "^0.16.0",
            "_model_name": "LeafletMapModel",
            "_view_count": null,
            "_view_module": "jupyter-leaflet",
            "_view_module_version": "^0.16.0",
            "_view_name": "LeafletMapView",
            "bottom": 87016,
            "bounce_at_zoom_limits": true,
            "box_zoom": true,
            "center": [
              51.89349074798034,
              3.5454258558219984
            ],
            "close_popup_on_click": true,
            "controls": [
              "IPY_MODEL_291b66674b2245729704b8e17d82b13a",
              "IPY_MODEL_923f923886c1449282973d1b064306ad",
              "IPY_MODEL_5ad224d67ebb4b34bcf6251fae53c980",
              "IPY_MODEL_ad031eefa3324670b0154b2b0a3e6e39",
              "IPY_MODEL_c5ee4c9dcc214962bec2fa5c600bb103",
              "IPY_MODEL_f3256536814f4b8ab85f088ac2bc215e",
              "IPY_MODEL_86d123c3c0104b0686cd4b98fa0ce220",
              "IPY_MODEL_9da2a1c9eb3a4271bbe431800c96e780"
            ],
            "crs": {
              "custom": false,
              "name": "EPSG3857"
            },
            "default_style": "IPY_MODEL_202e1af41330471f8defcdc3ad32f0b9",
            "double_click_zoom": true,
            "dragging": true,
            "dragging_style": "IPY_MODEL_1dae47a940a5423c917f9b9bef581b91",
            "east": 4.777679443359376,
            "fullscreen": false,
            "inertia": true,
            "inertia_deceleration": 3000,
            "inertia_max_speed": 1500,
            "interpolation": "bilinear",
            "keyboard": true,
            "keyboard_pan_offset": 80,
            "keyboard_zoom_offset": 1,
            "layers": [
              "IPY_MODEL_1995335b8042474a843f072865d9b433",
              "IPY_MODEL_f1f6c1e55ace4a77a455ca6a794164c7",
              "IPY_MODEL_ba48cce2c10f49619077b0481e1ae0ae"
            ],
            "layout": "IPY_MODEL_a02a136ac8de44bf8032e4fbb46e1d6a",
            "left": 132757,
            "max_zoom": 24,
            "min_zoom": 1,
            "modisdate": "2022-05-02",
            "north": 52.14697334064471,
            "options": [
              "bounce_at_zoom_limits",
              "box_zoom",
              "center",
              "close_popup_on_click",
              "double_click_zoom",
              "dragging",
              "fullscreen",
              "inertia",
              "inertia_deceleration",
              "inertia_max_speed",
              "interpolation",
              "keyboard",
              "keyboard_pan_offset",
              "keyboard_zoom_offset",
              "max_zoom",
              "min_zoom",
              "prefer_canvas",
              "scroll_wheel_zoom",
              "tap",
              "tap_tolerance",
              "touch_zoom",
              "world_copy_jump",
              "zoom",
              "zoom_animation_threshold",
              "zoom_delta",
              "zoom_snap",
              "zoom_start"
            ],
            "prefer_canvas": false,
            "right": 134551,
            "scroll_wheel_zoom": true,
            "south": 51.63847621195153,
            "style": "IPY_MODEL_de84a57729f047179f42435864e8f511",
            "tap": true,
            "tap_tolerance": 15,
            "top": 86416,
            "touch_zoom": true,
            "west": 2.3139953613281254,
            "window_url": "https://03cfa2qu4vfe-496ff2e9c6d22116-0-colab.googleusercontent.com/outputframe.html?vrz=colab-20220429-060044-RC00_445383241",
            "world_copy_jump": false,
            "zoom": 10,
            "zoom_animation_threshold": 4,
            "zoom_delta": 1,
            "zoom_snap": 1,
            "zoom_start": 12
          }
        },
        "28a15b4ab1ad43289ef25f20d1f6d83d": {
          "model_module": "jupyter-leaflet",
          "model_module_version": "^0.16.0",
          "model_name": "LeafletFullScreenControlModel",
          "state": {
            "_model_module": "jupyter-leaflet",
            "_model_module_version": "^0.16.0",
            "_model_name": "LeafletFullScreenControlModel",
            "_view_count": null,
            "_view_module": "jupyter-leaflet",
            "_view_module_version": "^0.16.0",
            "_view_name": "LeafletFullScreenControlView",
            "options": [
              "position"
            ],
            "position": "topleft"
          }
        },
        "291b66674b2245729704b8e17d82b13a": {
          "model_module": "jupyter-leaflet",
          "model_module_version": "^0.16.0",
          "model_name": "LeafletWidgetControlModel",
          "state": {
            "_model_module": "jupyter-leaflet",
            "_model_module_version": "^0.16.0",
            "_model_name": "LeafletWidgetControlModel",
            "_view_count": null,
            "_view_module": "jupyter-leaflet",
            "_view_module_version": "^0.16.0",
            "_view_name": "LeafletWidgetControlView",
            "max_height": null,
            "max_width": null,
            "min_height": null,
            "min_width": null,
            "options": [
              "position",
              "transparent_bg"
            ],
            "position": "topleft",
            "transparent_bg": false,
            "widget": "IPY_MODEL_61890b08a71d41ea86b2b187b7273443"
          }
        },
        "2b0a895ce36c4ca4bea09f60ae623789": {
          "model_module": "jupyter-leaflet",
          "model_module_version": "^0.16.0",
          "model_name": "LeafletMapStyleModel",
          "state": {
            "_model_module": "jupyter-leaflet",
            "_model_module_version": "^0.16.0",
            "_model_name": "LeafletMapStyleModel",
            "_view_count": null,
            "_view_module": "@jupyter-widgets/base",
            "_view_module_version": "1.2.0",
            "_view_name": "StyleView",
            "cursor": "move"
          }
        },
        "369acb8fdab94187a04883d44ac03fff": {
          "model_module": "jupyter-leaflet",
          "model_module_version": "^0.16.0",
          "model_name": "LeafletWMSLayerModel",
          "state": {
            "_model_module": "jupyter-leaflet",
            "_model_module_version": "^0.16.0",
            "_model_name": "LeafletWMSLayerModel",
            "_view_count": null,
            "_view_module": "jupyter-leaflet",
            "_view_module_version": "^0.16.0",
            "_view_name": "LeafletWMSLayerView",
            "attribution": "",
            "base": false,
            "bottom": true,
            "bounds": null,
            "crs": {
              "custom": false,
              "name": "EPSG3857"
            },
            "detect_retina": false,
            "format": "image/jpeg",
            "layers": "Actueel_ortho25",
            "loading": false,
            "max_native_zoom": 18,
            "max_zoom": 18,
            "min_native_zoom": 0,
            "min_zoom": 0,
            "name": "PDOK",
            "no_wrap": false,
            "opacity": 1,
            "options": [
              "attribution",
              "bounds",
              "detect_retina",
              "format",
              "layers",
              "max_native_zoom",
              "max_zoom",
              "min_native_zoom",
              "min_zoom",
              "no_wrap",
              "styles",
              "tile_size",
              "tms",
              "transparent",
              "uppercase"
            ],
            "popup": null,
            "popup_max_height": null,
            "popup_max_width": 300,
            "popup_min_width": 50,
            "show_loading": false,
            "styles": "",
            "tile_size": 256,
            "tms": false,
            "transparent": false,
            "uppercase": false,
            "url": "https://service.pdok.nl/hwh/luchtfotorgb/wms/v1_0",
            "visible": false
          }
        },
        "38d80d758bc9438bacbcb4ac798e3a38": {
          "model_module": "jupyter-leaflet",
          "model_module_version": "^0.16.0",
          "model_name": "LeafletMeasureControlModel",
          "state": {
            "_custom_units": {},
            "_model_module": "jupyter-leaflet",
            "_model_module_version": "^0.16.0",
            "_model_name": "LeafletMeasureControlModel",
            "_view_count": null,
            "_view_module": "jupyter-leaflet",
            "_view_module_version": "^0.16.0",
            "_view_name": "LeafletMeasureControlView",
            "active_color": "orange",
            "capture_z_index": 10000,
            "completed_color": "#C8F2BE",
            "options": [
              "active_color",
              "capture_z_index",
              "completed_color",
              "popup_options",
              "position",
              "primary_area_unit",
              "primary_length_unit",
              "secondary_area_unit",
              "secondary_length_unit"
            ],
            "popup_options": {
              "autoPanPadding": [
                10,
                10
              ],
              "className": "leaflet-measure-resultpopup"
            },
            "position": "bottomleft",
            "primary_area_unit": "acres",
            "primary_length_unit": "kilometers",
            "secondary_area_unit": null,
            "secondary_length_unit": null
          }
        },
        "3be468df8486451b953e10ac0a73ca6d": {
          "model_module": "jupyter-leaflet",
          "model_module_version": "^0.16.0",
          "model_name": "LeafletMapStyleModel",
          "state": {
            "_model_module": "jupyter-leaflet",
            "_model_module_version": "^0.16.0",
            "_model_name": "LeafletMapStyleModel",
            "_view_count": null,
            "_view_module": "@jupyter-widgets/base",
            "_view_module_version": "1.2.0",
            "_view_name": "StyleView",
            "cursor": "grab"
          }
        },
        "3c2c153db3ce4d01a4b5915a17bbc222": {
          "model_module": "@jupyter-widgets/base",
          "model_module_version": "1.2.0",
          "model_name": "LayoutModel",
          "state": {
            "_model_module": "@jupyter-widgets/base",
            "_model_module_version": "1.2.0",
            "_model_name": "LayoutModel",
            "_view_count": null,
            "_view_module": "@jupyter-widgets/base",
            "_view_module_version": "1.2.0",
            "_view_name": "LayoutView",
            "align_content": null,
            "align_items": null,
            "align_self": null,
            "border": null,
            "bottom": null,
            "display": null,
            "flex": null,
            "flex_flow": null,
            "grid_area": null,
            "grid_auto_columns": null,
            "grid_auto_flow": null,
            "grid_auto_rows": null,
            "grid_column": null,
            "grid_gap": null,
            "grid_row": null,
            "grid_template_areas": null,
            "grid_template_columns": null,
            "grid_template_rows": null,
            "height": "600px",
            "justify_content": null,
            "justify_items": null,
            "left": null,
            "margin": null,
            "max_height": null,
            "max_width": null,
            "min_height": null,
            "min_width": null,
            "object_fit": null,
            "object_position": null,
            "order": null,
            "overflow": null,
            "overflow_x": null,
            "overflow_y": null,
            "padding": null,
            "right": null,
            "top": null,
            "visibility": null,
            "width": null
          }
        },
        "3e7379b51e4a4604a699caf356367c1b": {
          "model_module": "@jupyter-widgets/base",
          "model_module_version": "1.2.0",
          "model_name": "LayoutModel",
          "state": {
            "_model_module": "@jupyter-widgets/base",
            "_model_module_version": "1.2.0",
            "_model_name": "LayoutModel",
            "_view_count": null,
            "_view_module": "@jupyter-widgets/base",
            "_view_module_version": "1.2.0",
            "_view_name": "LayoutView",
            "align_content": null,
            "align_items": null,
            "align_self": null,
            "border": null,
            "bottom": null,
            "display": null,
            "flex": null,
            "flex_flow": null,
            "grid_area": null,
            "grid_auto_columns": null,
            "grid_auto_flow": null,
            "grid_auto_rows": null,
            "grid_column": null,
            "grid_gap": null,
            "grid_row": null,
            "grid_template_areas": null,
            "grid_template_columns": null,
            "grid_template_rows": null,
            "height": "28px",
            "justify_content": null,
            "justify_items": null,
            "left": null,
            "margin": null,
            "max_height": null,
            "max_width": null,
            "min_height": null,
            "min_width": null,
            "object_fit": null,
            "object_position": null,
            "order": null,
            "overflow": null,
            "overflow_x": null,
            "overflow_y": null,
            "padding": "0px 0px 0px 4px",
            "right": null,
            "top": null,
            "visibility": null,
            "width": "28px"
          }
        },
        "3fed4f2a268b4b10896d1412f4f5a7eb": {
          "model_module": "@jupyter-widgets/base",
          "model_module_version": "1.2.0",
          "model_name": "LayoutModel",
          "state": {
            "_model_module": "@jupyter-widgets/base",
            "_model_module_version": "1.2.0",
            "_model_name": "LayoutModel",
            "_view_count": null,
            "_view_module": "@jupyter-widgets/base",
            "_view_module_version": "1.2.0",
            "_view_name": "LayoutView",
            "align_content": null,
            "align_items": null,
            "align_self": null,
            "border": null,
            "bottom": null,
            "display": null,
            "flex": null,
            "flex_flow": null,
            "grid_area": null,
            "grid_auto_columns": null,
            "grid_auto_flow": null,
            "grid_auto_rows": null,
            "grid_column": null,
            "grid_gap": null,
            "grid_row": null,
            "grid_template_areas": null,
            "grid_template_columns": null,
            "grid_template_rows": null,
            "height": null,
            "justify_content": null,
            "justify_items": null,
            "left": null,
            "margin": null,
            "max_height": null,
            "max_width": null,
            "min_height": null,
            "min_width": null,
            "object_fit": null,
            "object_position": null,
            "order": null,
            "overflow": null,
            "overflow_x": null,
            "overflow_y": null,
            "padding": null,
            "right": null,
            "top": null,
            "visibility": null,
            "width": null
          }
        },
        "417c6cd38d7d4ee5bdb62dbcc5278b84": {
          "model_module": "jupyter-leaflet",
          "model_module_version": "^0.16.0",
          "model_name": "LeafletMapModel",
          "state": {
            "_dom_classes": [],
            "_model_module": "jupyter-leaflet",
            "_model_module_version": "^0.16.0",
            "_model_name": "LeafletMapModel",
            "_view_count": null,
            "_view_module": "jupyter-leaflet",
            "_view_module_version": "^0.16.0",
            "_view_name": "LeafletMapView",
            "bottom": 754,
            "bounce_at_zoom_limits": true,
            "box_zoom": true,
            "center": [
              20,
              0
            ],
            "close_popup_on_click": true,
            "controls": [
              "IPY_MODEL_57595b9ec01d452b8af565dcbdc2e1d8",
              "IPY_MODEL_c2c3fc04336c43b2af19871c7ef46843",
              "IPY_MODEL_225ee27e8541437786ed3a6ee0bed3f5",
              "IPY_MODEL_0663c5615ad049de9947b2221ceb566e",
              "IPY_MODEL_6b5351abe8fa4b7d9a8d606449343abd",
              "IPY_MODEL_b2848d9f440a4482952952a705a2539f",
              "IPY_MODEL_140d8404ec234650bf7879cdd2470084",
              "IPY_MODEL_128ce48d5dab41418ce936a25a75ec08"
            ],
            "crs": {
              "custom": false,
              "name": "EPSG3857"
            },
            "default_style": "IPY_MODEL_a77b0f13471f417598d2ffc7de00fcc0",
            "double_click_zoom": true,
            "dragging": true,
            "dragging_style": "IPY_MODEL_20eb786e43a5456fabd6228a7b042bda",
            "east": 315.35156250000006,
            "fullscreen": false,
            "inertia": true,
            "inertia_deceleration": 3000,
            "inertia_max_speed": 1500,
            "interpolation": "bilinear",
            "keyboard": true,
            "keyboard_pan_offset": 80,
            "keyboard_zoom_offset": 1,
            "layers": [
              "IPY_MODEL_eda3e914a8b14205a1c79eecc4b772fa",
              "IPY_MODEL_f1f6c1e55ace4a77a455ca6a794164c7"
            ],
            "layout": "IPY_MODEL_9c0facb4e57a4e96a3bf40b9047c6d3c",
            "left": -385,
            "max_zoom": 24,
            "min_zoom": 1,
            "modisdate": "2022-05-02",
            "north": 77.31251993823143,
            "options": [
              "bounce_at_zoom_limits",
              "box_zoom",
              "center",
              "close_popup_on_click",
              "double_click_zoom",
              "dragging",
              "fullscreen",
              "inertia",
              "inertia_deceleration",
              "inertia_max_speed",
              "interpolation",
              "keyboard",
              "keyboard_pan_offset",
              "keyboard_zoom_offset",
              "max_zoom",
              "min_zoom",
              "prefer_canvas",
              "scroll_wheel_zoom",
              "tap",
              "tap_tolerance",
              "touch_zoom",
              "world_copy_jump",
              "zoom",
              "zoom_animation_threshold",
              "zoom_delta",
              "zoom_snap",
              "zoom_start"
            ],
            "prefer_canvas": false,
            "right": 1409,
            "scroll_wheel_zoom": true,
            "south": -64.47279382008165,
            "style": "IPY_MODEL_e1f2e44d042c4266b64e64a77032703f",
            "tap": true,
            "tap_tolerance": 15,
            "top": 154,
            "touch_zoom": true,
            "west": -315.35156250000006,
            "window_url": "https://03cfa2qu4vfe-496ff2e9c6d22116-0-colab.googleusercontent.com/outputframe.html?vrz=colab-20220429-060044-RC00_445383241",
            "world_copy_jump": false,
            "zoom": 2,
            "zoom_animation_threshold": 4,
            "zoom_delta": 1,
            "zoom_snap": 1,
            "zoom_start": 12
          }
        },
        "4188c4aa751c43f6bb6409581945f058": {
          "model_module": "@jupyter-widgets/base",
          "model_module_version": "1.2.0",
          "model_name": "LayoutModel",
          "state": {
            "_model_module": "@jupyter-widgets/base",
            "_model_module_version": "1.2.0",
            "_model_name": "LayoutModel",
            "_view_count": null,
            "_view_module": "@jupyter-widgets/base",
            "_view_module_version": "1.2.0",
            "_view_name": "LayoutView",
            "align_content": null,
            "align_items": null,
            "align_self": null,
            "border": null,
            "bottom": null,
            "display": null,
            "flex": null,
            "flex_flow": null,
            "grid_area": null,
            "grid_auto_columns": null,
            "grid_auto_flow": null,
            "grid_auto_rows": null,
            "grid_column": null,
            "grid_gap": null,
            "grid_row": null,
            "grid_template_areas": null,
            "grid_template_columns": null,
            "grid_template_rows": null,
            "height": "600px",
            "justify_content": null,
            "justify_items": null,
            "left": null,
            "margin": null,
            "max_height": null,
            "max_width": null,
            "min_height": null,
            "min_width": null,
            "object_fit": null,
            "object_position": null,
            "order": null,
            "overflow": null,
            "overflow_x": null,
            "overflow_y": null,
            "padding": null,
            "right": null,
            "top": null,
            "visibility": null,
            "width": null
          }
        },
        "41b91db56660447eb90045707f8452c5": {
          "model_module": "jupyter-leaflet",
          "model_module_version": "^0.16.0",
          "model_name": "LeafletMapStyleModel",
          "state": {
            "_model_module": "jupyter-leaflet",
            "_model_module_version": "^0.16.0",
            "_model_name": "LeafletMapStyleModel",
            "_view_count": null,
            "_view_module": "@jupyter-widgets/base",
            "_view_module_version": "1.2.0",
            "_view_name": "StyleView",
            "cursor": "grab"
          }
        },
        "44c61547db944259848cbb489a5a6eca": {
          "model_module": "@jupyter-widgets/controls",
          "model_module_version": "1.5.0",
          "model_name": "ToggleButtonModel",
          "state": {
            "_dom_classes": [],
            "_model_module": "@jupyter-widgets/controls",
            "_model_module_version": "1.5.0",
            "_model_name": "ToggleButtonModel",
            "_view_count": null,
            "_view_module": "@jupyter-widgets/controls",
            "_view_module_version": "1.5.0",
            "_view_name": "ToggleButtonView",
            "button_style": "",
            "description": "",
            "description_tooltip": null,
            "disabled": false,
            "icon": "wrench",
            "layout": "IPY_MODEL_f583e682a44e447eb56524f79bf6062d",
            "style": "IPY_MODEL_78d651e9776b4206a2f4a7f49c7d8b65",
            "tooltip": "Toolbar",
            "value": false
          }
        },
        "48738236f9ac4fdc91ae00fc865b990b": {
          "model_module": "jupyter-leaflet",
          "model_module_version": "^0.16.0",
          "model_name": "LeafletTileLayerModel",
          "state": {
            "_model_module": "jupyter-leaflet",
            "_model_module_version": "^0.16.0",
            "_model_name": "LeafletTileLayerModel",
            "_view_count": null,
            "_view_module": "jupyter-leaflet",
            "_view_module_version": "^0.16.0",
            "_view_name": "LeafletTileLayerView",
            "attribution": "&copy; <a href=\"https://www.openstreetmap.org/copyright\">OpenStreetMap</a> contributors",
            "base": true,
            "bottom": true,
            "bounds": null,
            "detect_retina": false,
            "loading": false,
            "max_native_zoom": 18,
            "max_zoom": 19,
            "min_native_zoom": 0,
            "min_zoom": 1,
            "name": "OpenStreetMap.Mapnik",
            "no_wrap": false,
            "opacity": 1,
            "options": [
              "attribution",
              "bounds",
              "detect_retina",
              "max_native_zoom",
              "max_zoom",
              "min_native_zoom",
              "min_zoom",
              "no_wrap",
              "tile_size",
              "tms"
            ],
            "popup": null,
            "popup_max_height": null,
            "popup_max_width": 300,
            "popup_min_width": 50,
            "show_loading": false,
            "tile_size": 256,
            "tms": false,
            "url": "https://a.tile.openstreetmap.org/{z}/{x}/{y}.png",
            "visible": true
          }
        },
        "49c94fa4f6c34591abfb28024e640398": {
          "model_module": "jupyter-leaflet",
          "model_module_version": "^0.16.0",
          "model_name": "LeafletWidgetControlModel",
          "state": {
            "_model_module": "jupyter-leaflet",
            "_model_module_version": "^0.16.0",
            "_model_name": "LeafletWidgetControlModel",
            "_view_count": null,
            "_view_module": "jupyter-leaflet",
            "_view_module_version": "^0.16.0",
            "_view_name": "LeafletWidgetControlView",
            "max_height": null,
            "max_width": null,
            "min_height": null,
            "min_width": null,
            "options": [
              "position",
              "transparent_bg"
            ],
            "position": "topleft",
            "transparent_bg": false,
            "widget": "IPY_MODEL_aef7fd4536b2434ba172605d4972ab71"
          }
        },
        "4bb695ace9e54104b335cca21c02a74f": {
          "model_module": "@jupyter-widgets/base",
          "model_module_version": "1.2.0",
          "model_name": "LayoutModel",
          "state": {
            "_model_module": "@jupyter-widgets/base",
            "_model_module_version": "1.2.0",
            "_model_name": "LayoutModel",
            "_view_count": null,
            "_view_module": "@jupyter-widgets/base",
            "_view_module_version": "1.2.0",
            "_view_name": "LayoutView",
            "align_content": null,
            "align_items": null,
            "align_self": null,
            "border": null,
            "bottom": null,
            "display": null,
            "flex": null,
            "flex_flow": null,
            "grid_area": null,
            "grid_auto_columns": null,
            "grid_auto_flow": null,
            "grid_auto_rows": null,
            "grid_column": null,
            "grid_gap": null,
            "grid_row": null,
            "grid_template_areas": null,
            "grid_template_columns": null,
            "grid_template_rows": null,
            "height": "28px",
            "justify_content": null,
            "justify_items": null,
            "left": null,
            "margin": null,
            "max_height": null,
            "max_width": null,
            "min_height": null,
            "min_width": null,
            "object_fit": null,
            "object_position": null,
            "order": null,
            "overflow": null,
            "overflow_x": null,
            "overflow_y": null,
            "padding": "0px 0px 0px 4px",
            "right": null,
            "top": null,
            "visibility": null,
            "width": "28px"
          }
        },
        "4be03b428e444817ac7782063384cac6": {
          "model_module": "jupyter-leaflet",
          "model_module_version": "^0.16.0",
          "model_name": "LeafletZoomControlModel",
          "state": {
            "_model_module": "jupyter-leaflet",
            "_model_module_version": "^0.16.0",
            "_model_name": "LeafletZoomControlModel",
            "_view_count": null,
            "_view_module": "jupyter-leaflet",
            "_view_module_version": "^0.16.0",
            "_view_name": "LeafletZoomControlView",
            "options": [
              "position",
              "zoom_in_text",
              "zoom_in_title",
              "zoom_out_text",
              "zoom_out_title"
            ],
            "position": "topleft",
            "zoom_in_text": "+",
            "zoom_in_title": "Zoom in",
            "zoom_out_text": "-",
            "zoom_out_title": "Zoom out"
          }
        },
        "5214789291274b098bd0d79aaffd9cbe": {
          "model_module": "@jupyter-widgets/controls",
          "model_module_version": "1.5.0",
          "model_name": "VBoxModel",
          "state": {
            "_dom_classes": [],
            "_model_module": "@jupyter-widgets/controls",
            "_model_module_version": "1.5.0",
            "_model_name": "VBoxModel",
            "_view_count": null,
            "_view_module": "@jupyter-widgets/controls",
            "_view_module_version": "1.5.0",
            "_view_name": "VBoxView",
            "box_style": "",
            "children": [
              "IPY_MODEL_959d1f9b55304cc3b2179a0ef1b5e530"
            ],
            "layout": "IPY_MODEL_80432f14433c49c9b55ffd7d5ff7204d"
          }
        },
        "56eb6ca690ce4affa6f3594717d2a1e1": {
          "model_module": "jupyter-leaflet",
          "model_module_version": "^0.16.0",
          "model_name": "LeafletWidgetControlModel",
          "state": {
            "_model_module": "jupyter-leaflet",
            "_model_module_version": "^0.16.0",
            "_model_name": "LeafletWidgetControlModel",
            "_view_count": null,
            "_view_module": "jupyter-leaflet",
            "_view_module_version": "^0.16.0",
            "_view_name": "LeafletWidgetControlView",
            "max_height": null,
            "max_width": null,
            "min_height": null,
            "min_width": null,
            "options": [
              "position",
              "transparent_bg"
            ],
            "position": "topright",
            "transparent_bg": false,
            "widget": "IPY_MODEL_0075b35aed9d439e90c93a41bbc5b4f6"
          }
        },
        "57595b9ec01d452b8af565dcbdc2e1d8": {
          "model_module": "jupyter-leaflet",
          "model_module_version": "^0.16.0",
          "model_name": "LeafletWidgetControlModel",
          "state": {
            "_model_module": "jupyter-leaflet",
            "_model_module_version": "^0.16.0",
            "_model_name": "LeafletWidgetControlModel",
            "_view_count": null,
            "_view_module": "jupyter-leaflet",
            "_view_module_version": "^0.16.0",
            "_view_name": "LeafletWidgetControlView",
            "max_height": null,
            "max_width": null,
            "min_height": null,
            "min_width": null,
            "options": [
              "position",
              "transparent_bg"
            ],
            "position": "topleft",
            "transparent_bg": false,
            "widget": "IPY_MODEL_6dd8195c9ea9474bbe86cb1b4ba4bece"
          }
        },
        "5ad224d67ebb4b34bcf6251fae53c980": {
          "model_module": "jupyter-leaflet",
          "model_module_version": "^0.16.0",
          "model_name": "LeafletScaleControlModel",
          "state": {
            "_model_module": "jupyter-leaflet",
            "_model_module_version": "^0.16.0",
            "_model_name": "LeafletScaleControlModel",
            "_view_count": null,
            "_view_module": "jupyter-leaflet",
            "_view_module_version": "^0.16.0",
            "_view_name": "LeafletScaleControlView",
            "imperial": true,
            "max_width": 100,
            "metric": true,
            "options": [
              "imperial",
              "max_width",
              "metric",
              "position",
              "update_when_idle"
            ],
            "position": "bottomleft",
            "update_when_idle": false
          }
        },
        "5e0904c89f024f879eabaac32f93dbf6": {
          "model_module": "jupyter-leaflet",
          "model_module_version": "^0.16.0",
          "model_name": "LeafletWidgetControlModel",
          "state": {
            "_model_module": "jupyter-leaflet",
            "_model_module_version": "^0.16.0",
            "_model_name": "LeafletWidgetControlModel",
            "_view_count": null,
            "_view_module": "jupyter-leaflet",
            "_view_module_version": "^0.16.0",
            "_view_name": "LeafletWidgetControlView",
            "max_height": null,
            "max_width": null,
            "min_height": null,
            "min_width": null,
            "options": [
              "position",
              "transparent_bg"
            ],
            "position": "topright",
            "transparent_bg": false,
            "widget": "IPY_MODEL_796db55e593249fdb4dc8063872d92d0"
          }
        },
        "5ebdeeec895c4a6caecf2518f9813cf9": {
          "model_module": "@jupyter-widgets/controls",
          "model_module_version": "1.5.0",
          "model_name": "HBoxModel",
          "state": {
            "_dom_classes": [],
            "_model_module": "@jupyter-widgets/controls",
            "_model_module_version": "1.5.0",
            "_model_name": "HBoxModel",
            "_view_count": null,
            "_view_module": "@jupyter-widgets/controls",
            "_view_module_version": "1.5.0",
            "_view_name": "HBoxView",
            "box_style": "",
            "children": [
              "IPY_MODEL_cddab2d889ef452dac77a70fd4fd213f"
            ],
            "layout": "IPY_MODEL_6e741357f22540da84b9d0e6ec100d52"
          }
        },
        "602b3fd3202a4df3a0f789e79a0482a7": {
          "model_module": "jupyter-leaflet",
          "model_module_version": "^0.16.0",
          "model_name": "LeafletWidgetControlModel",
          "state": {
            "_model_module": "jupyter-leaflet",
            "_model_module_version": "^0.16.0",
            "_model_name": "LeafletWidgetControlModel",
            "_view_count": null,
            "_view_module": "jupyter-leaflet",
            "_view_module_version": "^0.16.0",
            "_view_name": "LeafletWidgetControlView",
            "max_height": null,
            "max_width": null,
            "min_height": null,
            "min_width": null,
            "options": [
              "position",
              "transparent_bg"
            ],
            "position": "topright",
            "transparent_bg": false,
            "widget": "IPY_MODEL_932b77013a0244e3bdbc76e3db81cce5"
          }
        },
        "61890b08a71d41ea86b2b187b7273443": {
          "model_module": "@jupyter-widgets/controls",
          "model_module_version": "1.5.0",
          "model_name": "HBoxModel",
          "state": {
            "_dom_classes": [],
            "_model_module": "@jupyter-widgets/controls",
            "_model_module_version": "1.5.0",
            "_model_name": "HBoxModel",
            "_view_count": null,
            "_view_module": "@jupyter-widgets/controls",
            "_view_module_version": "1.5.0",
            "_view_name": "HBoxView",
            "box_style": "",
            "children": [
              "IPY_MODEL_dbf6b826e38748a9aa8458345665f681"
            ],
            "layout": "IPY_MODEL_f39868d16f904cd294a27d87a4c3962f"
          }
        },
        "648a65f254b649148dc5405285babfb4": {
          "model_module": "@jupyter-widgets/base",
          "model_module_version": "1.2.0",
          "model_name": "LayoutModel",
          "state": {
            "_model_module": "@jupyter-widgets/base",
            "_model_module_version": "1.2.0",
            "_model_name": "LayoutModel",
            "_view_count": null,
            "_view_module": "@jupyter-widgets/base",
            "_view_module_version": "1.2.0",
            "_view_name": "LayoutView",
            "align_content": null,
            "align_items": null,
            "align_self": null,
            "border": null,
            "bottom": null,
            "display": null,
            "flex": null,
            "flex_flow": null,
            "grid_area": null,
            "grid_auto_columns": null,
            "grid_auto_flow": null,
            "grid_auto_rows": null,
            "grid_column": null,
            "grid_gap": null,
            "grid_row": null,
            "grid_template_areas": null,
            "grid_template_columns": null,
            "grid_template_rows": null,
            "height": "28px",
            "justify_content": null,
            "justify_items": null,
            "left": null,
            "margin": null,
            "max_height": null,
            "max_width": null,
            "min_height": null,
            "min_width": null,
            "object_fit": null,
            "object_position": null,
            "order": null,
            "overflow": null,
            "overflow_x": null,
            "overflow_y": null,
            "padding": "0px 0px 0px 4px",
            "right": null,
            "top": null,
            "visibility": null,
            "width": "28px"
          }
        },
        "68875ce47544456cb1f556926d982508": {
          "model_module": "@jupyter-widgets/base",
          "model_module_version": "1.2.0",
          "model_name": "LayoutModel",
          "state": {
            "_model_module": "@jupyter-widgets/base",
            "_model_module_version": "1.2.0",
            "_model_name": "LayoutModel",
            "_view_count": null,
            "_view_module": "@jupyter-widgets/base",
            "_view_module_version": "1.2.0",
            "_view_name": "LayoutView",
            "align_content": null,
            "align_items": null,
            "align_self": null,
            "border": null,
            "bottom": null,
            "display": null,
            "flex": null,
            "flex_flow": null,
            "grid_area": null,
            "grid_auto_columns": null,
            "grid_auto_flow": null,
            "grid_auto_rows": null,
            "grid_column": null,
            "grid_gap": null,
            "grid_row": null,
            "grid_template_areas": null,
            "grid_template_columns": null,
            "grid_template_rows": null,
            "height": null,
            "justify_content": null,
            "justify_items": null,
            "left": null,
            "margin": null,
            "max_height": null,
            "max_width": null,
            "min_height": null,
            "min_width": null,
            "object_fit": null,
            "object_position": null,
            "order": null,
            "overflow": null,
            "overflow_x": null,
            "overflow_y": null,
            "padding": null,
            "right": null,
            "top": null,
            "visibility": null,
            "width": null
          }
        },
        "6b5351abe8fa4b7d9a8d606449343abd": {
          "model_module": "jupyter-leaflet",
          "model_module_version": "^0.16.0",
          "model_name": "LeafletMeasureControlModel",
          "state": {
            "_custom_units": {},
            "_model_module": "jupyter-leaflet",
            "_model_module_version": "^0.16.0",
            "_model_name": "LeafletMeasureControlModel",
            "_view_count": null,
            "_view_module": "jupyter-leaflet",
            "_view_module_version": "^0.16.0",
            "_view_name": "LeafletMeasureControlView",
            "active_color": "orange",
            "capture_z_index": 10000,
            "completed_color": "#C8F2BE",
            "options": [
              "active_color",
              "capture_z_index",
              "completed_color",
              "popup_options",
              "position",
              "primary_area_unit",
              "primary_length_unit",
              "secondary_area_unit",
              "secondary_length_unit"
            ],
            "popup_options": {
              "autoPanPadding": [
                10,
                10
              ],
              "className": "leaflet-measure-resultpopup"
            },
            "position": "bottomleft",
            "primary_area_unit": "acres",
            "primary_length_unit": "kilometers",
            "secondary_area_unit": null,
            "secondary_length_unit": null
          }
        },
        "6ba5f2f3a9714f2a89073659125692f3": {
          "model_module": "@jupyter-widgets/controls",
          "model_module_version": "1.5.0",
          "model_name": "VBoxModel",
          "state": {
            "_dom_classes": [],
            "_model_module": "@jupyter-widgets/controls",
            "_model_module_version": "1.5.0",
            "_model_name": "VBoxModel",
            "_view_count": null,
            "_view_module": "@jupyter-widgets/controls",
            "_view_module_version": "1.5.0",
            "_view_name": "VBoxView",
            "box_style": "",
            "children": [
              "IPY_MODEL_44c61547db944259848cbb489a5a6eca"
            ],
            "layout": "IPY_MODEL_3fed4f2a268b4b10896d1412f4f5a7eb"
          }
        },
        "6dd8195c9ea9474bbe86cb1b4ba4bece": {
          "model_module": "@jupyter-widgets/controls",
          "model_module_version": "1.5.0",
          "model_name": "HBoxModel",
          "state": {
            "_dom_classes": [],
            "_model_module": "@jupyter-widgets/controls",
            "_model_module_version": "1.5.0",
            "_model_name": "HBoxModel",
            "_view_count": null,
            "_view_module": "@jupyter-widgets/controls",
            "_view_module_version": "1.5.0",
            "_view_name": "HBoxView",
            "box_style": "",
            "children": [
              "IPY_MODEL_aaf6180ecd584313a655f71081526f3e"
            ],
            "layout": "IPY_MODEL_b6ad7f1430ee427fb666a8469782a297"
          }
        },
        "6df4321d0a154a16af16238ab65652c4": {
          "model_module": "@jupyter-widgets/controls",
          "model_module_version": "1.5.0",
          "model_name": "ToggleButtonModel",
          "state": {
            "_dom_classes": [],
            "_model_module": "@jupyter-widgets/controls",
            "_model_module_version": "1.5.0",
            "_model_name": "ToggleButtonModel",
            "_view_count": null,
            "_view_module": "@jupyter-widgets/controls",
            "_view_module_version": "1.5.0",
            "_view_name": "ToggleButtonView",
            "button_style": "",
            "description": "",
            "description_tooltip": null,
            "disabled": false,
            "icon": "globe",
            "layout": "IPY_MODEL_6e1b334d17814650864a971f58dbdbb7",
            "style": "IPY_MODEL_e2ded3f21a5a481198f0b2be493ec82c",
            "tooltip": "Search location/data",
            "value": false
          }
        },
        "6e1b334d17814650864a971f58dbdbb7": {
          "model_module": "@jupyter-widgets/base",
          "model_module_version": "1.2.0",
          "model_name": "LayoutModel",
          "state": {
            "_model_module": "@jupyter-widgets/base",
            "_model_module_version": "1.2.0",
            "_model_name": "LayoutModel",
            "_view_count": null,
            "_view_module": "@jupyter-widgets/base",
            "_view_module_version": "1.2.0",
            "_view_name": "LayoutView",
            "align_content": null,
            "align_items": null,
            "align_self": null,
            "border": null,
            "bottom": null,
            "display": null,
            "flex": null,
            "flex_flow": null,
            "grid_area": null,
            "grid_auto_columns": null,
            "grid_auto_flow": null,
            "grid_auto_rows": null,
            "grid_column": null,
            "grid_gap": null,
            "grid_row": null,
            "grid_template_areas": null,
            "grid_template_columns": null,
            "grid_template_rows": null,
            "height": "28px",
            "justify_content": null,
            "justify_items": null,
            "left": null,
            "margin": null,
            "max_height": null,
            "max_width": null,
            "min_height": null,
            "min_width": null,
            "object_fit": null,
            "object_position": null,
            "order": null,
            "overflow": null,
            "overflow_x": null,
            "overflow_y": null,
            "padding": "0px 0px 0px 4px",
            "right": null,
            "top": null,
            "visibility": null,
            "width": "28px"
          }
        },
        "6e741357f22540da84b9d0e6ec100d52": {
          "model_module": "@jupyter-widgets/base",
          "model_module_version": "1.2.0",
          "model_name": "LayoutModel",
          "state": {
            "_model_module": "@jupyter-widgets/base",
            "_model_module_version": "1.2.0",
            "_model_name": "LayoutModel",
            "_view_count": null,
            "_view_module": "@jupyter-widgets/base",
            "_view_module_version": "1.2.0",
            "_view_name": "LayoutView",
            "align_content": null,
            "align_items": null,
            "align_self": null,
            "border": null,
            "bottom": null,
            "display": null,
            "flex": null,
            "flex_flow": null,
            "grid_area": null,
            "grid_auto_columns": null,
            "grid_auto_flow": null,
            "grid_auto_rows": null,
            "grid_column": null,
            "grid_gap": null,
            "grid_row": null,
            "grid_template_areas": null,
            "grid_template_columns": null,
            "grid_template_rows": null,
            "height": null,
            "justify_content": null,
            "justify_items": null,
            "left": null,
            "margin": null,
            "max_height": null,
            "max_width": null,
            "min_height": null,
            "min_width": null,
            "object_fit": null,
            "object_position": null,
            "order": null,
            "overflow": null,
            "overflow_x": null,
            "overflow_y": null,
            "padding": null,
            "right": null,
            "top": null,
            "visibility": null,
            "width": null
          }
        },
        "724cfe046ec2455aa4a1492246ca1224": {
          "model_module": "jupyter-leaflet",
          "model_module_version": "^0.16.0",
          "model_name": "LeafletScaleControlModel",
          "state": {
            "_model_module": "jupyter-leaflet",
            "_model_module_version": "^0.16.0",
            "_model_name": "LeafletScaleControlModel",
            "_view_count": null,
            "_view_module": "jupyter-leaflet",
            "_view_module_version": "^0.16.0",
            "_view_name": "LeafletScaleControlView",
            "imperial": true,
            "max_width": 100,
            "metric": true,
            "options": [
              "imperial",
              "max_width",
              "metric",
              "position",
              "update_when_idle"
            ],
            "position": "bottomleft",
            "update_when_idle": false
          }
        },
        "74feda49ccfa499f95e20e803cbff458": {
          "model_module": "jupyter-leaflet",
          "model_module_version": "^0.16.0",
          "model_name": "LeafletFullScreenControlModel",
          "state": {
            "_model_module": "jupyter-leaflet",
            "_model_module_version": "^0.16.0",
            "_model_name": "LeafletFullScreenControlModel",
            "_view_count": null,
            "_view_module": "jupyter-leaflet",
            "_view_module_version": "^0.16.0",
            "_view_name": "LeafletFullScreenControlView",
            "options": [
              "position"
            ],
            "position": "topleft"
          }
        },
        "76cfd248e92a494fb8299cdf777cfee3": {
          "model_module": "@jupyter-widgets/controls",
          "model_module_version": "1.5.0",
          "model_name": "ToggleButtonModel",
          "state": {
            "_dom_classes": [],
            "_model_module": "@jupyter-widgets/controls",
            "_model_module_version": "1.5.0",
            "_model_name": "ToggleButtonModel",
            "_view_count": null,
            "_view_module": "@jupyter-widgets/controls",
            "_view_module_version": "1.5.0",
            "_view_name": "ToggleButtonView",
            "button_style": "",
            "description": "",
            "description_tooltip": null,
            "disabled": false,
            "icon": "wrench",
            "layout": "IPY_MODEL_3e7379b51e4a4604a699caf356367c1b",
            "style": "IPY_MODEL_0aa242615b1b4766936cadd1c442d1e5",
            "tooltip": "Toolbar",
            "value": false
          }
        },
        "77fca725539142ba9d5c97a29fe4680c": {
          "model_module": "jupyter-leaflet",
          "model_module_version": "^0.16.0",
          "model_name": "LeafletMeasureControlModel",
          "state": {
            "_custom_units": {},
            "_model_module": "jupyter-leaflet",
            "_model_module_version": "^0.16.0",
            "_model_name": "LeafletMeasureControlModel",
            "_view_count": null,
            "_view_module": "jupyter-leaflet",
            "_view_module_version": "^0.16.0",
            "_view_name": "LeafletMeasureControlView",
            "active_color": "orange",
            "capture_z_index": 10000,
            "completed_color": "#C8F2BE",
            "options": [
              "active_color",
              "capture_z_index",
              "completed_color",
              "popup_options",
              "position",
              "primary_area_unit",
              "primary_length_unit",
              "secondary_area_unit",
              "secondary_length_unit"
            ],
            "popup_options": {
              "autoPanPadding": [
                10,
                10
              ],
              "className": "leaflet-measure-resultpopup"
            },
            "position": "bottomleft",
            "primary_area_unit": "acres",
            "primary_length_unit": "kilometers",
            "secondary_area_unit": null,
            "secondary_length_unit": null
          }
        },
        "78d651e9776b4206a2f4a7f49c7d8b65": {
          "model_module": "@jupyter-widgets/controls",
          "model_module_version": "1.5.0",
          "model_name": "DescriptionStyleModel",
          "state": {
            "_model_module": "@jupyter-widgets/controls",
            "_model_module_version": "1.5.0",
            "_model_name": "DescriptionStyleModel",
            "_view_count": null,
            "_view_module": "@jupyter-widgets/base",
            "_view_module_version": "1.2.0",
            "_view_name": "StyleView",
            "description_width": ""
          }
        },
        "796db55e593249fdb4dc8063872d92d0": {
          "model_module": "@jupyter-widgets/controls",
          "model_module_version": "1.5.0",
          "model_name": "VBoxModel",
          "state": {
            "_dom_classes": [],
            "_model_module": "@jupyter-widgets/controls",
            "_model_module_version": "1.5.0",
            "_model_name": "VBoxModel",
            "_view_count": null,
            "_view_module": "@jupyter-widgets/controls",
            "_view_module_version": "1.5.0",
            "_view_name": "VBoxView",
            "box_style": "",
            "children": [
              "IPY_MODEL_0c668b6fe91f4fca95eb6627106bf079"
            ],
            "layout": "IPY_MODEL_a3d94696dd354ea1924c01a99169f4ca"
          }
        },
        "7a397e4531584f9e9a9acb9409f24940": {
          "model_module": "jupyter-leaflet",
          "model_module_version": "^0.16.0",
          "model_name": "LeafletMapModel",
          "state": {
            "_dom_classes": [],
            "_model_module": "jupyter-leaflet",
            "_model_module_version": "^0.16.0",
            "_model_name": "LeafletMapModel",
            "_view_count": null,
            "_view_module": "jupyter-leaflet",
            "_view_module_version": "^0.16.0",
            "_view_name": "LeafletMapView",
            "bottom": 754,
            "bounce_at_zoom_limits": true,
            "box_zoom": true,
            "center": [
              20,
              0
            ],
            "close_popup_on_click": true,
            "controls": [
              "IPY_MODEL_b68a6c858f834c92bb57d2aa12b6f277",
              "IPY_MODEL_ba9190e53cd04bd5a6f4a4c4abb6b7bf",
              "IPY_MODEL_0303f3e574774f93bb419625d7bc4129",
              "IPY_MODEL_a5185ef0628c4ae28274a9d9741032af",
              "IPY_MODEL_9ae6a5e5e70846a4a3b955e92ddb9dca",
              "IPY_MODEL_24f316179275488095eedc0bb644bf28",
              "IPY_MODEL_26ad49fb20814a30951f8bccb4f2368a",
              "IPY_MODEL_602b3fd3202a4df3a0f789e79a0482a7"
            ],
            "crs": {
              "custom": false,
              "name": "EPSG3857"
            },
            "default_style": "IPY_MODEL_41b91db56660447eb90045707f8452c5",
            "double_click_zoom": true,
            "dragging": true,
            "dragging_style": "IPY_MODEL_9f31ef7a30244d2cae94ff28515623f3",
            "east": 315.35156250000006,
            "fullscreen": false,
            "inertia": true,
            "inertia_deceleration": 3000,
            "inertia_max_speed": 1500,
            "interpolation": "bilinear",
            "keyboard": true,
            "keyboard_pan_offset": 80,
            "keyboard_zoom_offset": 1,
            "layers": [
              "IPY_MODEL_ba03383235264a268abf18d1193fa96e",
              "IPY_MODEL_f1f6c1e55ace4a77a455ca6a794164c7",
              "IPY_MODEL_7dfa0fb0bd9949edb2f31ac7f67f66f1",
              "IPY_MODEL_7c35c61e34fe43c0a838df5a33e5b895"
            ],
            "layout": "IPY_MODEL_d973036b8ac84c2c9769177a29c1a177",
            "left": -385,
            "max_zoom": 24,
            "min_zoom": 1,
            "modisdate": "2022-05-02",
            "north": 77.31251993823143,
            "options": [
              "bounce_at_zoom_limits",
              "box_zoom",
              "center",
              "close_popup_on_click",
              "double_click_zoom",
              "dragging",
              "fullscreen",
              "inertia",
              "inertia_deceleration",
              "inertia_max_speed",
              "interpolation",
              "keyboard",
              "keyboard_pan_offset",
              "keyboard_zoom_offset",
              "max_zoom",
              "min_zoom",
              "prefer_canvas",
              "scroll_wheel_zoom",
              "tap",
              "tap_tolerance",
              "touch_zoom",
              "world_copy_jump",
              "zoom",
              "zoom_animation_threshold",
              "zoom_delta",
              "zoom_snap",
              "zoom_start"
            ],
            "prefer_canvas": false,
            "right": 1409,
            "scroll_wheel_zoom": true,
            "south": -64.47279382008165,
            "style": "IPY_MODEL_7d9545e5af6e40559598f76ada583bc6",
            "tap": true,
            "tap_tolerance": 15,
            "top": 154,
            "touch_zoom": true,
            "west": -315.35156250000006,
            "window_url": "https://03cfa2qu4vfe-496ff2e9c6d22116-0-colab.googleusercontent.com/outputframe.html?vrz=colab-20220429-060044-RC00_445383241",
            "world_copy_jump": false,
            "zoom": 2,
            "zoom_animation_threshold": 4,
            "zoom_delta": 1,
            "zoom_snap": 1,
            "zoom_start": 12
          }
        },
        "7c35c61e34fe43c0a838df5a33e5b895": {
          "model_module": "jupyter-leaflet",
          "model_module_version": "^0.16.0",
          "model_name": "LeafletTileLayerModel",
          "state": {
            "_model_module": "jupyter-leaflet",
            "_model_module_version": "^0.16.0",
            "_model_name": "LeafletTileLayerModel",
            "_view_count": null,
            "_view_module": "jupyter-leaflet",
            "_view_module_version": "^0.16.0",
            "_view_name": "LeafletTileLayerView",
            "attribution": "Google Earth Engine",
            "base": false,
            "bottom": true,
            "bounds": null,
            "detect_retina": false,
            "loading": false,
            "max_native_zoom": 18,
            "max_zoom": 24,
            "min_native_zoom": 0,
            "min_zoom": 0,
            "name": "S2 median",
            "no_wrap": false,
            "opacity": 1,
            "options": [
              "attribution",
              "bounds",
              "detect_retina",
              "max_native_zoom",
              "max_zoom",
              "min_native_zoom",
              "min_zoom",
              "no_wrap",
              "tile_size",
              "tms"
            ],
            "popup": null,
            "popup_max_height": null,
            "popup_max_width": 300,
            "popup_min_width": 50,
            "show_loading": false,
            "tile_size": 256,
            "tms": false,
            "url": "https://earthengine.googleapis.com/v1alpha/projects/earthengine-legacy/maps/5f96374db44796ebfb99153710886b4d-207ff41b4a6dc830a10191fd2d65f214/tiles/{z}/{x}/{y}",
            "visible": true
          }
        },
        "7d9545e5af6e40559598f76ada583bc6": {
          "model_module": "jupyter-leaflet",
          "model_module_version": "^0.16.0",
          "model_name": "LeafletMapStyleModel",
          "state": {
            "_model_module": "jupyter-leaflet",
            "_model_module_version": "^0.16.0",
            "_model_name": "LeafletMapStyleModel",
            "_view_count": null,
            "_view_module": "@jupyter-widgets/base",
            "_view_module_version": "1.2.0",
            "_view_name": "StyleView",
            "cursor": "grab"
          }
        },
        "7db8ce5212d54891b3064664640130c2": {
          "model_module": "@jupyter-widgets/base",
          "model_module_version": "1.2.0",
          "model_name": "LayoutModel",
          "state": {
            "_model_module": "@jupyter-widgets/base",
            "_model_module_version": "1.2.0",
            "_model_name": "LayoutModel",
            "_view_count": null,
            "_view_module": "@jupyter-widgets/base",
            "_view_module_version": "1.2.0",
            "_view_name": "LayoutView",
            "align_content": null,
            "align_items": null,
            "align_self": null,
            "border": null,
            "bottom": null,
            "display": null,
            "flex": null,
            "flex_flow": null,
            "grid_area": null,
            "grid_auto_columns": null,
            "grid_auto_flow": null,
            "grid_auto_rows": null,
            "grid_column": null,
            "grid_gap": null,
            "grid_row": null,
            "grid_template_areas": null,
            "grid_template_columns": null,
            "grid_template_rows": null,
            "height": null,
            "justify_content": null,
            "justify_items": null,
            "left": null,
            "margin": null,
            "max_height": null,
            "max_width": null,
            "min_height": null,
            "min_width": null,
            "object_fit": null,
            "object_position": null,
            "order": null,
            "overflow": null,
            "overflow_x": null,
            "overflow_y": null,
            "padding": null,
            "right": null,
            "top": null,
            "visibility": null,
            "width": null
          }
        },
        "7dfa0fb0bd9949edb2f31ac7f67f66f1": {
          "model_module": "jupyter-leaflet",
          "model_module_version": "^0.16.0",
          "model_name": "LeafletTileLayerModel",
          "state": {
            "_model_module": "jupyter-leaflet",
            "_model_module_version": "^0.16.0",
            "_model_name": "LeafletTileLayerModel",
            "_view_count": null,
            "_view_module": "jupyter-leaflet",
            "_view_module_version": "^0.16.0",
            "_view_name": "LeafletTileLayerView",
            "attribution": "Google Earth Engine",
            "base": false,
            "bottom": true,
            "bounds": null,
            "detect_retina": false,
            "loading": false,
            "max_native_zoom": 18,
            "max_zoom": 24,
            "min_native_zoom": 0,
            "min_zoom": 0,
            "name": "S2 mean",
            "no_wrap": false,
            "opacity": 1,
            "options": [
              "attribution",
              "bounds",
              "detect_retina",
              "max_native_zoom",
              "max_zoom",
              "min_native_zoom",
              "min_zoom",
              "no_wrap",
              "tile_size",
              "tms"
            ],
            "popup": null,
            "popup_max_height": null,
            "popup_max_width": 300,
            "popup_min_width": 50,
            "show_loading": false,
            "tile_size": 256,
            "tms": false,
            "url": "https://earthengine.googleapis.com/v1alpha/projects/earthengine-legacy/maps/f458f4b680db8de3dbc0216f5e8da549-6d9c0f45bb4c97033f00f120e830ff6c/tiles/{z}/{x}/{y}",
            "visible": true
          }
        },
        "7f47ec1b25414b5f813b54fc0e942c76": {
          "model_module": "jupyter-leaflet",
          "model_module_version": "^0.16.0",
          "model_name": "LeafletWidgetControlModel",
          "state": {
            "_model_module": "jupyter-leaflet",
            "_model_module_version": "^0.16.0",
            "_model_name": "LeafletWidgetControlModel",
            "_view_count": null,
            "_view_module": "jupyter-leaflet",
            "_view_module_version": "^0.16.0",
            "_view_name": "LeafletWidgetControlView",
            "max_height": null,
            "max_width": null,
            "min_height": null,
            "min_width": null,
            "options": [
              "position",
              "transparent_bg"
            ],
            "position": "topleft",
            "transparent_bg": false,
            "widget": "IPY_MODEL_e18c38c744264088ad0f40a625096bf4"
          }
        },
        "80432f14433c49c9b55ffd7d5ff7204d": {
          "model_module": "@jupyter-widgets/base",
          "model_module_version": "1.2.0",
          "model_name": "LayoutModel",
          "state": {
            "_model_module": "@jupyter-widgets/base",
            "_model_module_version": "1.2.0",
            "_model_name": "LayoutModel",
            "_view_count": null,
            "_view_module": "@jupyter-widgets/base",
            "_view_module_version": "1.2.0",
            "_view_name": "LayoutView",
            "align_content": null,
            "align_items": null,
            "align_self": null,
            "border": null,
            "bottom": null,
            "display": null,
            "flex": null,
            "flex_flow": null,
            "grid_area": null,
            "grid_auto_columns": null,
            "grid_auto_flow": null,
            "grid_auto_rows": null,
            "grid_column": null,
            "grid_gap": null,
            "grid_row": null,
            "grid_template_areas": null,
            "grid_template_columns": null,
            "grid_template_rows": null,
            "height": null,
            "justify_content": null,
            "justify_items": null,
            "left": null,
            "margin": null,
            "max_height": null,
            "max_width": null,
            "min_height": null,
            "min_width": null,
            "object_fit": null,
            "object_position": null,
            "order": null,
            "overflow": null,
            "overflow_x": null,
            "overflow_y": null,
            "padding": null,
            "right": null,
            "top": null,
            "visibility": null,
            "width": null
          }
        },
        "808d88e403b744e1ac92185b018c1a47": {
          "model_module": "@jupyter-widgets/controls",
          "model_module_version": "1.5.0",
          "model_name": "VBoxModel",
          "state": {
            "_dom_classes": [],
            "_model_module": "@jupyter-widgets/controls",
            "_model_module_version": "1.5.0",
            "_model_name": "VBoxModel",
            "_view_count": null,
            "_view_module": "@jupyter-widgets/controls",
            "_view_module_version": "1.5.0",
            "_view_name": "VBoxView",
            "box_style": "",
            "children": [
              "IPY_MODEL_a1ae6e1486794e7d93796f5ed3eb63f5"
            ],
            "layout": "IPY_MODEL_f141ca8e90e44b7690727a3bcf77babf"
          }
        },
        "811982ed0f394c098838ce4fbb499bab": {
          "model_module": "@jupyter-widgets/base",
          "model_module_version": "1.2.0",
          "model_name": "LayoutModel",
          "state": {
            "_model_module": "@jupyter-widgets/base",
            "_model_module_version": "1.2.0",
            "_model_name": "LayoutModel",
            "_view_count": null,
            "_view_module": "@jupyter-widgets/base",
            "_view_module_version": "1.2.0",
            "_view_name": "LayoutView",
            "align_content": null,
            "align_items": null,
            "align_self": null,
            "border": null,
            "bottom": null,
            "display": null,
            "flex": null,
            "flex_flow": null,
            "grid_area": null,
            "grid_auto_columns": null,
            "grid_auto_flow": null,
            "grid_auto_rows": null,
            "grid_column": null,
            "grid_gap": null,
            "grid_row": null,
            "grid_template_areas": null,
            "grid_template_columns": null,
            "grid_template_rows": null,
            "height": "28px",
            "justify_content": null,
            "justify_items": null,
            "left": null,
            "margin": null,
            "max_height": null,
            "max_width": null,
            "min_height": null,
            "min_width": null,
            "object_fit": null,
            "object_position": null,
            "order": null,
            "overflow": null,
            "overflow_x": null,
            "overflow_y": null,
            "padding": "0px 0px 0px 4px",
            "right": null,
            "top": null,
            "visibility": null,
            "width": "28px"
          }
        },
        "815c186882b54a2b84a8e2f74584811c": {
          "model_module": "@jupyter-widgets/controls",
          "model_module_version": "1.5.0",
          "model_name": "ToggleButtonModel",
          "state": {
            "_dom_classes": [],
            "_model_module": "@jupyter-widgets/controls",
            "_model_module_version": "1.5.0",
            "_model_name": "ToggleButtonModel",
            "_view_count": null,
            "_view_module": "@jupyter-widgets/controls",
            "_view_module_version": "1.5.0",
            "_view_name": "ToggleButtonView",
            "button_style": "",
            "description": "",
            "description_tooltip": null,
            "disabled": false,
            "icon": "globe",
            "layout": "IPY_MODEL_811982ed0f394c098838ce4fbb499bab",
            "style": "IPY_MODEL_defb67a50b6e4b9d90462267b7963656",
            "tooltip": "Search location/data",
            "value": false
          }
        },
        "816ce490641b418aa904ac5feb731a55": {
          "model_module": "jupyter-leaflet",
          "model_module_version": "^0.16.0",
          "model_name": "LeafletTileLayerModel",
          "state": {
            "_model_module": "jupyter-leaflet",
            "_model_module_version": "^0.16.0",
            "_model_name": "LeafletTileLayerModel",
            "_view_count": null,
            "_view_module": "jupyter-leaflet",
            "_view_module_version": "^0.16.0",
            "_view_name": "LeafletTileLayerView",
            "attribution": "&copy; <a href=\"https://www.openstreetmap.org/copyright\">OpenStreetMap</a> contributors",
            "base": true,
            "bottom": true,
            "bounds": null,
            "detect_retina": false,
            "loading": false,
            "max_native_zoom": 18,
            "max_zoom": 19,
            "min_native_zoom": 0,
            "min_zoom": 1,
            "name": "OpenStreetMap.Mapnik",
            "no_wrap": false,
            "opacity": 1,
            "options": [
              "attribution",
              "bounds",
              "detect_retina",
              "max_native_zoom",
              "max_zoom",
              "min_native_zoom",
              "min_zoom",
              "no_wrap",
              "tile_size",
              "tms"
            ],
            "popup": null,
            "popup_max_height": null,
            "popup_max_width": 300,
            "popup_min_width": 50,
            "show_loading": false,
            "tile_size": 256,
            "tms": false,
            "url": "https://a.tile.openstreetmap.org/{z}/{x}/{y}.png",
            "visible": true
          }
        },
        "84b356a525c3479791c93770c841c1d1": {
          "model_module": "jupyter-leaflet",
          "model_module_version": "^0.16.0",
          "model_name": "LeafletWMSLayerModel",
          "state": {
            "_model_module": "jupyter-leaflet",
            "_model_module_version": "^0.16.0",
            "_model_name": "LeafletWMSLayerModel",
            "_view_count": null,
            "_view_module": "jupyter-leaflet",
            "_view_module_version": "^0.16.0",
            "_view_name": "LeafletWMSLayerView",
            "attribution": "",
            "base": false,
            "bottom": true,
            "bounds": null,
            "crs": {
              "custom": false,
              "name": "EPSG3857"
            },
            "detect_retina": false,
            "format": "image/jpeg",
            "layers": "VIIRS_SNPP_CorrectedReflectance_TrueColor",
            "loading": false,
            "max_native_zoom": 18,
            "max_zoom": 18,
            "min_native_zoom": 0,
            "min_zoom": 0,
            "name": "MODIS",
            "no_wrap": false,
            "opacity": 1,
            "options": [
              "attribution",
              "bounds",
              "detect_retina",
              "format",
              "layers",
              "max_native_zoom",
              "max_zoom",
              "min_native_zoom",
              "min_zoom",
              "no_wrap",
              "styles",
              "tile_size",
              "tms",
              "transparent",
              "uppercase"
            ],
            "popup": null,
            "popup_max_height": null,
            "popup_max_width": 300,
            "popup_min_width": 50,
            "show_loading": false,
            "styles": "",
            "tile_size": 256,
            "tms": false,
            "transparent": false,
            "uppercase": false,
            "url": "https://gibs.earthdata.nasa.gov/wms/epsg4326/best/wms.cgi",
            "visible": true
          }
        },
        "86d123c3c0104b0686cd4b98fa0ce220": {
          "model_module": "jupyter-leaflet",
          "model_module_version": "^0.16.0",
          "model_name": "LeafletDrawControlModel",
          "state": {
            "_model_module": "jupyter-leaflet",
            "_model_module_version": "^0.16.0",
            "_model_name": "LeafletDrawControlModel",
            "_view_count": null,
            "_view_module": "jupyter-leaflet",
            "_view_module_version": "^0.16.0",
            "_view_name": "LeafletDrawControlView",
            "circle": {
              "shapeOptions": {
                "color": "#3388ff"
              }
            },
            "circlemarker": {},
            "data": [],
            "edit": true,
            "marker": {
              "shapeOptions": {
                "color": "#3388ff"
              }
            },
            "options": [
              "position"
            ],
            "polygon": {
              "shapeOptions": {}
            },
            "polyline": {
              "shapeOptions": {}
            },
            "position": "topleft",
            "rectangle": {
              "shapeOptions": {
                "color": "#3388ff"
              }
            },
            "remove": true
          }
        },
        "8cc02bb7d04e49a5a8449c715f82b421": {
          "model_module": "jupyter-leaflet",
          "model_module_version": "^0.16.0",
          "model_name": "LeafletWMSLayerModel",
          "state": {
            "_model_module": "jupyter-leaflet",
            "_model_module_version": "^0.16.0",
            "_model_name": "LeafletWMSLayerModel",
            "_view_count": null,
            "_view_module": "jupyter-leaflet",
            "_view_module_version": "^0.16.0",
            "_view_name": "LeafletWMSLayerView",
            "attribution": "",
            "base": false,
            "bottom": true,
            "bounds": null,
            "crs": {
              "custom": false,
              "name": "EPSG3857"
            },
            "detect_retina": false,
            "format": "image/png",
            "layers": "0",
            "loading": false,
            "max_native_zoom": 18,
            "max_zoom": 18,
            "min_native_zoom": 0,
            "min_zoom": 0,
            "name": "NAIP Imagery",
            "no_wrap": false,
            "opacity": 1,
            "options": [
              "attribution",
              "bounds",
              "detect_retina",
              "format",
              "layers",
              "max_native_zoom",
              "max_zoom",
              "min_native_zoom",
              "min_zoom",
              "no_wrap",
              "styles",
              "tile_size",
              "tms",
              "transparent",
              "uppercase"
            ],
            "popup": null,
            "popup_max_height": null,
            "popup_max_width": 300,
            "popup_min_width": 50,
            "show_loading": false,
            "styles": "",
            "tile_size": 256,
            "tms": false,
            "transparent": false,
            "uppercase": false,
            "url": "https://services.nationalmap.gov/arcgis/services/USGSNAIPImagery/ImageServer/WMSServer?",
            "visible": true
          }
        },
        "8cf00f5fc1544e839c05603c32f58171": {
          "model_module": "jupyter-leaflet",
          "model_module_version": "^0.16.0",
          "model_name": "LeafletMapModel",
          "state": {
            "_dom_classes": [],
            "_model_module": "jupyter-leaflet",
            "_model_module_version": "^0.16.0",
            "_model_name": "LeafletMapModel",
            "_view_count": null,
            "_view_module": "jupyter-leaflet",
            "_view_module_version": "^0.16.0",
            "_view_name": "LeafletMapView",
            "bottom": 754,
            "bounce_at_zoom_limits": true,
            "box_zoom": true,
            "center": [
              20,
              0
            ],
            "close_popup_on_click": true,
            "controls": [
              "IPY_MODEL_49c94fa4f6c34591abfb28024e640398",
              "IPY_MODEL_4be03b428e444817ac7782063384cac6",
              "IPY_MODEL_e7c2d6869eba4155bf054aad22624a5f",
              "IPY_MODEL_e4a5f1dc66a0471e85a816109f60bcb7",
              "IPY_MODEL_8ecc3ad9806e47118cca83e99195017f",
              "IPY_MODEL_da1fb6c649514c2bbdfa381e98040f70",
              "IPY_MODEL_b12e8a4c480342f5923a1c2f5d89a55a",
              "IPY_MODEL_56eb6ca690ce4affa6f3594717d2a1e1"
            ],
            "crs": {
              "custom": false,
              "name": "EPSG3857"
            },
            "default_style": "IPY_MODEL_19db75b2974844598a538a9169eed710",
            "double_click_zoom": true,
            "dragging": true,
            "dragging_style": "IPY_MODEL_e7aa87f06b744512ab4c076c987c311f",
            "east": 315.35156250000006,
            "fullscreen": false,
            "inertia": true,
            "inertia_deceleration": 3000,
            "inertia_max_speed": 1500,
            "interpolation": "bilinear",
            "keyboard": true,
            "keyboard_pan_offset": 80,
            "keyboard_zoom_offset": 1,
            "layers": [
              "IPY_MODEL_48738236f9ac4fdc91ae00fc865b990b",
              "IPY_MODEL_f1f6c1e55ace4a77a455ca6a794164c7",
              "IPY_MODEL_bc1cc52ffd254372b980a5b18ab147c0"
            ],
            "layout": "IPY_MODEL_3c2c153db3ce4d01a4b5915a17bbc222",
            "left": -385,
            "max_zoom": 24,
            "min_zoom": 1,
            "modisdate": "2022-05-02",
            "north": 77.31251993823143,
            "options": [
              "bounce_at_zoom_limits",
              "box_zoom",
              "center",
              "close_popup_on_click",
              "double_click_zoom",
              "dragging",
              "fullscreen",
              "inertia",
              "inertia_deceleration",
              "inertia_max_speed",
              "interpolation",
              "keyboard",
              "keyboard_pan_offset",
              "keyboard_zoom_offset",
              "max_zoom",
              "min_zoom",
              "prefer_canvas",
              "scroll_wheel_zoom",
              "tap",
              "tap_tolerance",
              "touch_zoom",
              "world_copy_jump",
              "zoom",
              "zoom_animation_threshold",
              "zoom_delta",
              "zoom_snap",
              "zoom_start"
            ],
            "prefer_canvas": false,
            "right": 1409,
            "scroll_wheel_zoom": true,
            "south": -64.47279382008165,
            "style": "IPY_MODEL_d15f91f9c2b143d3a69ee397cf46b069",
            "tap": true,
            "tap_tolerance": 15,
            "top": 154,
            "touch_zoom": true,
            "west": -315.35156250000006,
            "window_url": "https://03cfa2qu4vfe-496ff2e9c6d22116-0-colab.googleusercontent.com/outputframe.html?vrz=colab-20220429-060044-RC00_445383241",
            "world_copy_jump": false,
            "zoom": 2,
            "zoom_animation_threshold": 4,
            "zoom_delta": 1,
            "zoom_snap": 1,
            "zoom_start": 12
          }
        },
        "8ecc3ad9806e47118cca83e99195017f": {
          "model_module": "jupyter-leaflet",
          "model_module_version": "^0.16.0",
          "model_name": "LeafletMeasureControlModel",
          "state": {
            "_custom_units": {},
            "_model_module": "jupyter-leaflet",
            "_model_module_version": "^0.16.0",
            "_model_name": "LeafletMeasureControlModel",
            "_view_count": null,
            "_view_module": "jupyter-leaflet",
            "_view_module_version": "^0.16.0",
            "_view_name": "LeafletMeasureControlView",
            "active_color": "orange",
            "capture_z_index": 10000,
            "completed_color": "#C8F2BE",
            "options": [
              "active_color",
              "capture_z_index",
              "completed_color",
              "popup_options",
              "position",
              "primary_area_unit",
              "primary_length_unit",
              "secondary_area_unit",
              "secondary_length_unit"
            ],
            "popup_options": {
              "autoPanPadding": [
                10,
                10
              ],
              "className": "leaflet-measure-resultpopup"
            },
            "position": "bottomleft",
            "primary_area_unit": "acres",
            "primary_length_unit": "kilometers",
            "secondary_area_unit": null,
            "secondary_length_unit": null
          }
        },
        "8f63c6c8bfd642f79ac97eb30d615b5e": {
          "model_module": "@jupyter-widgets/controls",
          "model_module_version": "1.5.0",
          "model_name": "DescriptionStyleModel",
          "state": {
            "_model_module": "@jupyter-widgets/controls",
            "_model_module_version": "1.5.0",
            "_model_name": "DescriptionStyleModel",
            "_view_count": null,
            "_view_module": "@jupyter-widgets/base",
            "_view_module_version": "1.2.0",
            "_view_name": "StyleView",
            "description_width": ""
          }
        },
        "902a1850fe934ab288017818997110b6": {
          "model_module": "@jupyter-widgets/base",
          "model_module_version": "1.2.0",
          "model_name": "LayoutModel",
          "state": {
            "_model_module": "@jupyter-widgets/base",
            "_model_module_version": "1.2.0",
            "_model_name": "LayoutModel",
            "_view_count": null,
            "_view_module": "@jupyter-widgets/base",
            "_view_module_version": "1.2.0",
            "_view_name": "LayoutView",
            "align_content": null,
            "align_items": null,
            "align_self": null,
            "border": null,
            "bottom": null,
            "display": null,
            "flex": null,
            "flex_flow": null,
            "grid_area": null,
            "grid_auto_columns": null,
            "grid_auto_flow": null,
            "grid_auto_rows": null,
            "grid_column": null,
            "grid_gap": null,
            "grid_row": null,
            "grid_template_areas": null,
            "grid_template_columns": null,
            "grid_template_rows": null,
            "height": "28px",
            "justify_content": null,
            "justify_items": null,
            "left": null,
            "margin": null,
            "max_height": null,
            "max_width": null,
            "min_height": null,
            "min_width": null,
            "object_fit": null,
            "object_position": null,
            "order": null,
            "overflow": null,
            "overflow_x": null,
            "overflow_y": null,
            "padding": "0px 0px 0px 4px",
            "right": null,
            "top": null,
            "visibility": null,
            "width": "28px"
          }
        },
        "91acddc064ef41b0b1e2fa8e3a7a5b28": {
          "model_module": "jupyter-leaflet",
          "model_module_version": "^0.16.0",
          "model_name": "LeafletMapStyleModel",
          "state": {
            "_model_module": "jupyter-leaflet",
            "_model_module_version": "^0.16.0",
            "_model_name": "LeafletMapStyleModel",
            "_view_count": null,
            "_view_module": "@jupyter-widgets/base",
            "_view_module_version": "1.2.0",
            "_view_name": "StyleView",
            "cursor": "move"
          }
        },
        "923f923886c1449282973d1b064306ad": {
          "model_module": "jupyter-leaflet",
          "model_module_version": "^0.16.0",
          "model_name": "LeafletZoomControlModel",
          "state": {
            "_model_module": "jupyter-leaflet",
            "_model_module_version": "^0.16.0",
            "_model_name": "LeafletZoomControlModel",
            "_view_count": null,
            "_view_module": "jupyter-leaflet",
            "_view_module_version": "^0.16.0",
            "_view_name": "LeafletZoomControlView",
            "options": [
              "position",
              "zoom_in_text",
              "zoom_in_title",
              "zoom_out_text",
              "zoom_out_title"
            ],
            "position": "topleft",
            "zoom_in_text": "+",
            "zoom_in_title": "Zoom in",
            "zoom_out_text": "-",
            "zoom_out_title": "Zoom out"
          }
        },
        "932b77013a0244e3bdbc76e3db81cce5": {
          "model_module": "@jupyter-widgets/controls",
          "model_module_version": "1.5.0",
          "model_name": "VBoxModel",
          "state": {
            "_dom_classes": [],
            "_model_module": "@jupyter-widgets/controls",
            "_model_module_version": "1.5.0",
            "_model_name": "VBoxModel",
            "_view_count": null,
            "_view_module": "@jupyter-widgets/controls",
            "_view_module_version": "1.5.0",
            "_view_name": "VBoxView",
            "box_style": "",
            "children": [
              "IPY_MODEL_0b195e49f8bb488d99e58fcfebcd1451"
            ],
            "layout": "IPY_MODEL_0ed30ff9189d4a9880ee3486321df949"
          }
        },
        "959d1f9b55304cc3b2179a0ef1b5e530": {
          "model_module": "@jupyter-widgets/controls",
          "model_module_version": "1.5.0",
          "model_name": "ToggleButtonModel",
          "state": {
            "_dom_classes": [],
            "_model_module": "@jupyter-widgets/controls",
            "_model_module_version": "1.5.0",
            "_model_name": "ToggleButtonModel",
            "_view_count": null,
            "_view_module": "@jupyter-widgets/controls",
            "_view_module_version": "1.5.0",
            "_view_name": "ToggleButtonView",
            "button_style": "",
            "description": "",
            "description_tooltip": null,
            "disabled": false,
            "icon": "wrench",
            "layout": "IPY_MODEL_648a65f254b649148dc5405285babfb4",
            "style": "IPY_MODEL_9d4080d3e40b408784478b8da54713f3",
            "tooltip": "Toolbar",
            "value": false
          }
        },
        "991073ece2744dbd83f71ed3b17925d3": {
          "model_module": "@jupyter-widgets/controls",
          "model_module_version": "1.5.0",
          "model_name": "HBoxModel",
          "state": {
            "_dom_classes": [],
            "_model_module": "@jupyter-widgets/controls",
            "_model_module_version": "1.5.0",
            "_model_name": "HBoxModel",
            "_view_count": null,
            "_view_module": "@jupyter-widgets/controls",
            "_view_module_version": "1.5.0",
            "_view_name": "HBoxView",
            "box_style": "",
            "children": [
              "IPY_MODEL_6df4321d0a154a16af16238ab65652c4"
            ],
            "layout": "IPY_MODEL_1494d85d9a924a57a87a4d9e5921d3e5"
          }
        },
        "9ae6a5e5e70846a4a3b955e92ddb9dca": {
          "model_module": "jupyter-leaflet",
          "model_module_version": "^0.16.0",
          "model_name": "LeafletMeasureControlModel",
          "state": {
            "_custom_units": {},
            "_model_module": "jupyter-leaflet",
            "_model_module_version": "^0.16.0",
            "_model_name": "LeafletMeasureControlModel",
            "_view_count": null,
            "_view_module": "jupyter-leaflet",
            "_view_module_version": "^0.16.0",
            "_view_name": "LeafletMeasureControlView",
            "active_color": "orange",
            "capture_z_index": 10000,
            "completed_color": "#C8F2BE",
            "options": [
              "active_color",
              "capture_z_index",
              "completed_color",
              "popup_options",
              "position",
              "primary_area_unit",
              "primary_length_unit",
              "secondary_area_unit",
              "secondary_length_unit"
            ],
            "popup_options": {
              "autoPanPadding": [
                10,
                10
              ],
              "className": "leaflet-measure-resultpopup"
            },
            "position": "bottomleft",
            "primary_area_unit": "acres",
            "primary_length_unit": "kilometers",
            "secondary_area_unit": null,
            "secondary_length_unit": null
          }
        },
        "9c0facb4e57a4e96a3bf40b9047c6d3c": {
          "model_module": "@jupyter-widgets/base",
          "model_module_version": "1.2.0",
          "model_name": "LayoutModel",
          "state": {
            "_model_module": "@jupyter-widgets/base",
            "_model_module_version": "1.2.0",
            "_model_name": "LayoutModel",
            "_view_count": null,
            "_view_module": "@jupyter-widgets/base",
            "_view_module_version": "1.2.0",
            "_view_name": "LayoutView",
            "align_content": null,
            "align_items": null,
            "align_self": null,
            "border": null,
            "bottom": null,
            "display": null,
            "flex": null,
            "flex_flow": null,
            "grid_area": null,
            "grid_auto_columns": null,
            "grid_auto_flow": null,
            "grid_auto_rows": null,
            "grid_column": null,
            "grid_gap": null,
            "grid_row": null,
            "grid_template_areas": null,
            "grid_template_columns": null,
            "grid_template_rows": null,
            "height": "600px",
            "justify_content": null,
            "justify_items": null,
            "left": null,
            "margin": null,
            "max_height": null,
            "max_width": null,
            "min_height": null,
            "min_width": null,
            "object_fit": null,
            "object_position": null,
            "order": null,
            "overflow": null,
            "overflow_x": null,
            "overflow_y": null,
            "padding": null,
            "right": null,
            "top": null,
            "visibility": null,
            "width": null
          }
        },
        "9d4080d3e40b408784478b8da54713f3": {
          "model_module": "@jupyter-widgets/controls",
          "model_module_version": "1.5.0",
          "model_name": "DescriptionStyleModel",
          "state": {
            "_model_module": "@jupyter-widgets/controls",
            "_model_module_version": "1.5.0",
            "_model_name": "DescriptionStyleModel",
            "_view_count": null,
            "_view_module": "@jupyter-widgets/base",
            "_view_module_version": "1.2.0",
            "_view_name": "StyleView",
            "description_width": ""
          }
        },
        "9da2a1c9eb3a4271bbe431800c96e780": {
          "model_module": "jupyter-leaflet",
          "model_module_version": "^0.16.0",
          "model_name": "LeafletWidgetControlModel",
          "state": {
            "_model_module": "jupyter-leaflet",
            "_model_module_version": "^0.16.0",
            "_model_name": "LeafletWidgetControlModel",
            "_view_count": null,
            "_view_module": "jupyter-leaflet",
            "_view_module_version": "^0.16.0",
            "_view_name": "LeafletWidgetControlView",
            "max_height": null,
            "max_width": null,
            "min_height": null,
            "min_width": null,
            "options": [
              "position",
              "transparent_bg"
            ],
            "position": "topright",
            "transparent_bg": false,
            "widget": "IPY_MODEL_5214789291274b098bd0d79aaffd9cbe"
          }
        },
        "9e6984580e624b2aac69933b515ce677": {
          "model_module": "jupyter-leaflet",
          "model_module_version": "^0.16.0",
          "model_name": "LeafletMapStyleModel",
          "state": {
            "_model_module": "jupyter-leaflet",
            "_model_module_version": "^0.16.0",
            "_model_name": "LeafletMapStyleModel",
            "_view_count": null,
            "_view_module": "@jupyter-widgets/base",
            "_view_module_version": "1.2.0",
            "_view_name": "StyleView",
            "cursor": "grab"
          }
        },
        "9f31ef7a30244d2cae94ff28515623f3": {
          "model_module": "jupyter-leaflet",
          "model_module_version": "^0.16.0",
          "model_name": "LeafletMapStyleModel",
          "state": {
            "_model_module": "jupyter-leaflet",
            "_model_module_version": "^0.16.0",
            "_model_name": "LeafletMapStyleModel",
            "_view_count": null,
            "_view_module": "@jupyter-widgets/base",
            "_view_module_version": "1.2.0",
            "_view_name": "StyleView",
            "cursor": "move"
          }
        },
        "a02a136ac8de44bf8032e4fbb46e1d6a": {
          "model_module": "@jupyter-widgets/base",
          "model_module_version": "1.2.0",
          "model_name": "LayoutModel",
          "state": {
            "_model_module": "@jupyter-widgets/base",
            "_model_module_version": "1.2.0",
            "_model_name": "LayoutModel",
            "_view_count": null,
            "_view_module": "@jupyter-widgets/base",
            "_view_module_version": "1.2.0",
            "_view_name": "LayoutView",
            "align_content": null,
            "align_items": null,
            "align_self": null,
            "border": null,
            "bottom": null,
            "display": null,
            "flex": null,
            "flex_flow": null,
            "grid_area": null,
            "grid_auto_columns": null,
            "grid_auto_flow": null,
            "grid_auto_rows": null,
            "grid_column": null,
            "grid_gap": null,
            "grid_row": null,
            "grid_template_areas": null,
            "grid_template_columns": null,
            "grid_template_rows": null,
            "height": "600px",
            "justify_content": null,
            "justify_items": null,
            "left": null,
            "margin": null,
            "max_height": null,
            "max_width": null,
            "min_height": null,
            "min_width": null,
            "object_fit": null,
            "object_position": null,
            "order": null,
            "overflow": null,
            "overflow_x": null,
            "overflow_y": null,
            "padding": null,
            "right": null,
            "top": null,
            "visibility": null,
            "width": null
          }
        },
        "a1018d7d562c4a44b01ff7d0aea70bc2": {
          "model_module": "jupyter-leaflet",
          "model_module_version": "^0.16.0",
          "model_name": "LeafletDrawControlModel",
          "state": {
            "_model_module": "jupyter-leaflet",
            "_model_module_version": "^0.16.0",
            "_model_name": "LeafletDrawControlModel",
            "_view_count": null,
            "_view_module": "jupyter-leaflet",
            "_view_module_version": "^0.16.0",
            "_view_name": "LeafletDrawControlView",
            "circle": {
              "shapeOptions": {
                "color": "#3388ff"
              }
            },
            "circlemarker": {},
            "data": [],
            "edit": true,
            "marker": {
              "shapeOptions": {
                "color": "#3388ff"
              }
            },
            "options": [
              "position"
            ],
            "polygon": {
              "shapeOptions": {}
            },
            "polyline": {
              "shapeOptions": {}
            },
            "position": "topleft",
            "rectangle": {
              "shapeOptions": {
                "color": "#3388ff"
              }
            },
            "remove": true
          }
        },
        "a1ae6e1486794e7d93796f5ed3eb63f5": {
          "model_module": "@jupyter-widgets/controls",
          "model_module_version": "1.5.0",
          "model_name": "ToggleButtonModel",
          "state": {
            "_dom_classes": [],
            "_model_module": "@jupyter-widgets/controls",
            "_model_module_version": "1.5.0",
            "_model_name": "ToggleButtonModel",
            "_view_count": null,
            "_view_module": "@jupyter-widgets/controls",
            "_view_module_version": "1.5.0",
            "_view_name": "ToggleButtonView",
            "button_style": "",
            "description": "",
            "description_tooltip": null,
            "disabled": false,
            "icon": "wrench",
            "layout": "IPY_MODEL_a1b114ea9db54061b396a42f99ff59d7",
            "style": "IPY_MODEL_fd1d6972576f41b8b8d8fcd26c93dcbd",
            "tooltip": "Toolbar",
            "value": false
          }
        },
        "a1b114ea9db54061b396a42f99ff59d7": {
          "model_module": "@jupyter-widgets/base",
          "model_module_version": "1.2.0",
          "model_name": "LayoutModel",
          "state": {
            "_model_module": "@jupyter-widgets/base",
            "_model_module_version": "1.2.0",
            "_model_name": "LayoutModel",
            "_view_count": null,
            "_view_module": "@jupyter-widgets/base",
            "_view_module_version": "1.2.0",
            "_view_name": "LayoutView",
            "align_content": null,
            "align_items": null,
            "align_self": null,
            "border": null,
            "bottom": null,
            "display": null,
            "flex": null,
            "flex_flow": null,
            "grid_area": null,
            "grid_auto_columns": null,
            "grid_auto_flow": null,
            "grid_auto_rows": null,
            "grid_column": null,
            "grid_gap": null,
            "grid_row": null,
            "grid_template_areas": null,
            "grid_template_columns": null,
            "grid_template_rows": null,
            "height": "28px",
            "justify_content": null,
            "justify_items": null,
            "left": null,
            "margin": null,
            "max_height": null,
            "max_width": null,
            "min_height": null,
            "min_width": null,
            "object_fit": null,
            "object_position": null,
            "order": null,
            "overflow": null,
            "overflow_x": null,
            "overflow_y": null,
            "padding": "0px 0px 0px 4px",
            "right": null,
            "top": null,
            "visibility": null,
            "width": "28px"
          }
        },
        "a3d94696dd354ea1924c01a99169f4ca": {
          "model_module": "@jupyter-widgets/base",
          "model_module_version": "1.2.0",
          "model_name": "LayoutModel",
          "state": {
            "_model_module": "@jupyter-widgets/base",
            "_model_module_version": "1.2.0",
            "_model_name": "LayoutModel",
            "_view_count": null,
            "_view_module": "@jupyter-widgets/base",
            "_view_module_version": "1.2.0",
            "_view_name": "LayoutView",
            "align_content": null,
            "align_items": null,
            "align_self": null,
            "border": null,
            "bottom": null,
            "display": null,
            "flex": null,
            "flex_flow": null,
            "grid_area": null,
            "grid_auto_columns": null,
            "grid_auto_flow": null,
            "grid_auto_rows": null,
            "grid_column": null,
            "grid_gap": null,
            "grid_row": null,
            "grid_template_areas": null,
            "grid_template_columns": null,
            "grid_template_rows": null,
            "height": null,
            "justify_content": null,
            "justify_items": null,
            "left": null,
            "margin": null,
            "max_height": null,
            "max_width": null,
            "min_height": null,
            "min_width": null,
            "object_fit": null,
            "object_position": null,
            "order": null,
            "overflow": null,
            "overflow_x": null,
            "overflow_y": null,
            "padding": null,
            "right": null,
            "top": null,
            "visibility": null,
            "width": null
          }
        },
        "a5185ef0628c4ae28274a9d9741032af": {
          "model_module": "jupyter-leaflet",
          "model_module_version": "^0.16.0",
          "model_name": "LeafletFullScreenControlModel",
          "state": {
            "_model_module": "jupyter-leaflet",
            "_model_module_version": "^0.16.0",
            "_model_name": "LeafletFullScreenControlModel",
            "_view_count": null,
            "_view_module": "jupyter-leaflet",
            "_view_module_version": "^0.16.0",
            "_view_name": "LeafletFullScreenControlView",
            "options": [
              "position"
            ],
            "position": "topleft"
          }
        },
        "a77b0f13471f417598d2ffc7de00fcc0": {
          "model_module": "jupyter-leaflet",
          "model_module_version": "^0.16.0",
          "model_name": "LeafletMapStyleModel",
          "state": {
            "_model_module": "jupyter-leaflet",
            "_model_module_version": "^0.16.0",
            "_model_name": "LeafletMapStyleModel",
            "_view_count": null,
            "_view_module": "@jupyter-widgets/base",
            "_view_module_version": "1.2.0",
            "_view_name": "StyleView",
            "cursor": "grab"
          }
        },
        "a78b92feb40f46eab25e4bbfb360567d": {
          "model_module": "jupyter-leaflet",
          "model_module_version": "^0.16.0",
          "model_name": "LeafletMapStyleModel",
          "state": {
            "_model_module": "jupyter-leaflet",
            "_model_module_version": "^0.16.0",
            "_model_name": "LeafletMapStyleModel",
            "_view_count": null,
            "_view_module": "@jupyter-widgets/base",
            "_view_module_version": "1.2.0",
            "_view_name": "StyleView",
            "cursor": "grab"
          }
        },
        "aaf6180ecd584313a655f71081526f3e": {
          "model_module": "@jupyter-widgets/controls",
          "model_module_version": "1.5.0",
          "model_name": "ToggleButtonModel",
          "state": {
            "_dom_classes": [],
            "_model_module": "@jupyter-widgets/controls",
            "_model_module_version": "1.5.0",
            "_model_name": "ToggleButtonModel",
            "_view_count": null,
            "_view_module": "@jupyter-widgets/controls",
            "_view_module_version": "1.5.0",
            "_view_name": "ToggleButtonView",
            "button_style": "",
            "description": "",
            "description_tooltip": null,
            "disabled": false,
            "icon": "globe",
            "layout": "IPY_MODEL_b1ad152634eb4d00ac97e8217aba6bdc",
            "style": "IPY_MODEL_0b353b2f0bd54e1a9eebdaf5bb23e728",
            "tooltip": "Search location/data",
            "value": false
          }
        },
        "ad031eefa3324670b0154b2b0a3e6e39": {
          "model_module": "jupyter-leaflet",
          "model_module_version": "^0.16.0",
          "model_name": "LeafletFullScreenControlModel",
          "state": {
            "_model_module": "jupyter-leaflet",
            "_model_module_version": "^0.16.0",
            "_model_name": "LeafletFullScreenControlModel",
            "_view_count": null,
            "_view_module": "jupyter-leaflet",
            "_view_module_version": "^0.16.0",
            "_view_name": "LeafletFullScreenControlView",
            "options": [
              "position"
            ],
            "position": "topleft"
          }
        },
        "aef7fd4536b2434ba172605d4972ab71": {
          "model_module": "@jupyter-widgets/controls",
          "model_module_version": "1.5.0",
          "model_name": "HBoxModel",
          "state": {
            "_dom_classes": [],
            "_model_module": "@jupyter-widgets/controls",
            "_model_module_version": "1.5.0",
            "_model_name": "HBoxModel",
            "_view_count": null,
            "_view_module": "@jupyter-widgets/controls",
            "_view_module_version": "1.5.0",
            "_view_name": "HBoxView",
            "box_style": "",
            "children": [
              "IPY_MODEL_815c186882b54a2b84a8e2f74584811c"
            ],
            "layout": "IPY_MODEL_b4814ac08f0644bc942f3338ef3ee71c"
          }
        },
        "b0d9c7485c574adba3d07fe741d38b7d": {
          "model_module": "jupyter-leaflet",
          "model_module_version": "^0.16.0",
          "model_name": "LeafletZoomControlModel",
          "state": {
            "_model_module": "jupyter-leaflet",
            "_model_module_version": "^0.16.0",
            "_model_name": "LeafletZoomControlModel",
            "_view_count": null,
            "_view_module": "jupyter-leaflet",
            "_view_module_version": "^0.16.0",
            "_view_name": "LeafletZoomControlView",
            "options": [
              "position",
              "zoom_in_text",
              "zoom_in_title",
              "zoom_out_text",
              "zoom_out_title"
            ],
            "position": "topleft",
            "zoom_in_text": "+",
            "zoom_in_title": "Zoom in",
            "zoom_out_text": "-",
            "zoom_out_title": "Zoom out"
          }
        },
        "b11781d2f86f4aaca83ac0195dc0a016": {
          "model_module": "@jupyter-widgets/base",
          "model_module_version": "1.2.0",
          "model_name": "LayoutModel",
          "state": {
            "_model_module": "@jupyter-widgets/base",
            "_model_module_version": "1.2.0",
            "_model_name": "LayoutModel",
            "_view_count": null,
            "_view_module": "@jupyter-widgets/base",
            "_view_module_version": "1.2.0",
            "_view_name": "LayoutView",
            "align_content": null,
            "align_items": null,
            "align_self": null,
            "border": null,
            "bottom": null,
            "display": null,
            "flex": null,
            "flex_flow": null,
            "grid_area": null,
            "grid_auto_columns": null,
            "grid_auto_flow": null,
            "grid_auto_rows": null,
            "grid_column": null,
            "grid_gap": null,
            "grid_row": null,
            "grid_template_areas": null,
            "grid_template_columns": null,
            "grid_template_rows": null,
            "height": "28px",
            "justify_content": null,
            "justify_items": null,
            "left": null,
            "margin": null,
            "max_height": null,
            "max_width": null,
            "min_height": null,
            "min_width": null,
            "object_fit": null,
            "object_position": null,
            "order": null,
            "overflow": null,
            "overflow_x": null,
            "overflow_y": null,
            "padding": "0px 0px 0px 4px",
            "right": null,
            "top": null,
            "visibility": null,
            "width": "28px"
          }
        },
        "b12e8a4c480342f5923a1c2f5d89a55a": {
          "model_module": "jupyter-leaflet",
          "model_module_version": "^0.16.0",
          "model_name": "LeafletDrawControlModel",
          "state": {
            "_model_module": "jupyter-leaflet",
            "_model_module_version": "^0.16.0",
            "_model_name": "LeafletDrawControlModel",
            "_view_count": null,
            "_view_module": "jupyter-leaflet",
            "_view_module_version": "^0.16.0",
            "_view_name": "LeafletDrawControlView",
            "circle": {
              "shapeOptions": {
                "color": "#3388ff"
              }
            },
            "circlemarker": {},
            "data": [],
            "edit": true,
            "marker": {
              "shapeOptions": {
                "color": "#3388ff"
              }
            },
            "options": [
              "position"
            ],
            "polygon": {
              "shapeOptions": {}
            },
            "polyline": {
              "shapeOptions": {}
            },
            "position": "topleft",
            "rectangle": {
              "shapeOptions": {
                "color": "#3388ff"
              }
            },
            "remove": true
          }
        },
        "b1ad152634eb4d00ac97e8217aba6bdc": {
          "model_module": "@jupyter-widgets/base",
          "model_module_version": "1.2.0",
          "model_name": "LayoutModel",
          "state": {
            "_model_module": "@jupyter-widgets/base",
            "_model_module_version": "1.2.0",
            "_model_name": "LayoutModel",
            "_view_count": null,
            "_view_module": "@jupyter-widgets/base",
            "_view_module_version": "1.2.0",
            "_view_name": "LayoutView",
            "align_content": null,
            "align_items": null,
            "align_self": null,
            "border": null,
            "bottom": null,
            "display": null,
            "flex": null,
            "flex_flow": null,
            "grid_area": null,
            "grid_auto_columns": null,
            "grid_auto_flow": null,
            "grid_auto_rows": null,
            "grid_column": null,
            "grid_gap": null,
            "grid_row": null,
            "grid_template_areas": null,
            "grid_template_columns": null,
            "grid_template_rows": null,
            "height": "28px",
            "justify_content": null,
            "justify_items": null,
            "left": null,
            "margin": null,
            "max_height": null,
            "max_width": null,
            "min_height": null,
            "min_width": null,
            "object_fit": null,
            "object_position": null,
            "order": null,
            "overflow": null,
            "overflow_x": null,
            "overflow_y": null,
            "padding": "0px 0px 0px 4px",
            "right": null,
            "top": null,
            "visibility": null,
            "width": "28px"
          }
        },
        "b2848d9f440a4482952952a705a2539f": {
          "model_module": "jupyter-leaflet",
          "model_module_version": "^0.16.0",
          "model_name": "LeafletAttributionControlModel",
          "state": {
            "_model_module": "jupyter-leaflet",
            "_model_module_version": "^0.16.0",
            "_model_name": "LeafletAttributionControlModel",
            "_view_count": null,
            "_view_module": "jupyter-leaflet",
            "_view_module_version": "^0.16.0",
            "_view_name": "LeafletAttributionControlView",
            "options": [
              "position",
              "prefix"
            ],
            "position": "bottomright",
            "prefix": "ipyleaflet"
          }
        },
        "b4814ac08f0644bc942f3338ef3ee71c": {
          "model_module": "@jupyter-widgets/base",
          "model_module_version": "1.2.0",
          "model_name": "LayoutModel",
          "state": {
            "_model_module": "@jupyter-widgets/base",
            "_model_module_version": "1.2.0",
            "_model_name": "LayoutModel",
            "_view_count": null,
            "_view_module": "@jupyter-widgets/base",
            "_view_module_version": "1.2.0",
            "_view_name": "LayoutView",
            "align_content": null,
            "align_items": null,
            "align_self": null,
            "border": null,
            "bottom": null,
            "display": null,
            "flex": null,
            "flex_flow": null,
            "grid_area": null,
            "grid_auto_columns": null,
            "grid_auto_flow": null,
            "grid_auto_rows": null,
            "grid_column": null,
            "grid_gap": null,
            "grid_row": null,
            "grid_template_areas": null,
            "grid_template_columns": null,
            "grid_template_rows": null,
            "height": null,
            "justify_content": null,
            "justify_items": null,
            "left": null,
            "margin": null,
            "max_height": null,
            "max_width": null,
            "min_height": null,
            "min_width": null,
            "object_fit": null,
            "object_position": null,
            "order": null,
            "overflow": null,
            "overflow_x": null,
            "overflow_y": null,
            "padding": null,
            "right": null,
            "top": null,
            "visibility": null,
            "width": null
          }
        },
        "b66f3f2668184d71b749f8d00ac17902": {
          "model_module": "jupyter-leaflet",
          "model_module_version": "^0.16.0",
          "model_name": "LeafletAttributionControlModel",
          "state": {
            "_model_module": "jupyter-leaflet",
            "_model_module_version": "^0.16.0",
            "_model_name": "LeafletAttributionControlModel",
            "_view_count": null,
            "_view_module": "jupyter-leaflet",
            "_view_module_version": "^0.16.0",
            "_view_name": "LeafletAttributionControlView",
            "options": [
              "position",
              "prefix"
            ],
            "position": "bottomright",
            "prefix": "ipyleaflet"
          }
        },
        "b68a6c858f834c92bb57d2aa12b6f277": {
          "model_module": "jupyter-leaflet",
          "model_module_version": "^0.16.0",
          "model_name": "LeafletWidgetControlModel",
          "state": {
            "_model_module": "jupyter-leaflet",
            "_model_module_version": "^0.16.0",
            "_model_name": "LeafletWidgetControlModel",
            "_view_count": null,
            "_view_module": "jupyter-leaflet",
            "_view_module_version": "^0.16.0",
            "_view_name": "LeafletWidgetControlView",
            "max_height": null,
            "max_width": null,
            "min_height": null,
            "min_width": null,
            "options": [
              "position",
              "transparent_bg"
            ],
            "position": "topleft",
            "transparent_bg": false,
            "widget": "IPY_MODEL_5ebdeeec895c4a6caecf2518f9813cf9"
          }
        },
        "b6ad7f1430ee427fb666a8469782a297": {
          "model_module": "@jupyter-widgets/base",
          "model_module_version": "1.2.0",
          "model_name": "LayoutModel",
          "state": {
            "_model_module": "@jupyter-widgets/base",
            "_model_module_version": "1.2.0",
            "_model_name": "LayoutModel",
            "_view_count": null,
            "_view_module": "@jupyter-widgets/base",
            "_view_module_version": "1.2.0",
            "_view_name": "LayoutView",
            "align_content": null,
            "align_items": null,
            "align_self": null,
            "border": null,
            "bottom": null,
            "display": null,
            "flex": null,
            "flex_flow": null,
            "grid_area": null,
            "grid_auto_columns": null,
            "grid_auto_flow": null,
            "grid_auto_rows": null,
            "grid_column": null,
            "grid_gap": null,
            "grid_row": null,
            "grid_template_areas": null,
            "grid_template_columns": null,
            "grid_template_rows": null,
            "height": null,
            "justify_content": null,
            "justify_items": null,
            "left": null,
            "margin": null,
            "max_height": null,
            "max_width": null,
            "min_height": null,
            "min_width": null,
            "object_fit": null,
            "object_position": null,
            "order": null,
            "overflow": null,
            "overflow_x": null,
            "overflow_y": null,
            "padding": null,
            "right": null,
            "top": null,
            "visibility": null,
            "width": null
          }
        },
        "ba03383235264a268abf18d1193fa96e": {
          "model_module": "jupyter-leaflet",
          "model_module_version": "^0.16.0",
          "model_name": "LeafletTileLayerModel",
          "state": {
            "_model_module": "jupyter-leaflet",
            "_model_module_version": "^0.16.0",
            "_model_name": "LeafletTileLayerModel",
            "_view_count": null,
            "_view_module": "jupyter-leaflet",
            "_view_module_version": "^0.16.0",
            "_view_name": "LeafletTileLayerView",
            "attribution": "&copy; <a href=\"https://www.openstreetmap.org/copyright\">OpenStreetMap</a> contributors",
            "base": true,
            "bottom": true,
            "bounds": null,
            "detect_retina": false,
            "loading": false,
            "max_native_zoom": 18,
            "max_zoom": 19,
            "min_native_zoom": 0,
            "min_zoom": 1,
            "name": "OpenStreetMap.Mapnik",
            "no_wrap": false,
            "opacity": 1,
            "options": [
              "attribution",
              "bounds",
              "detect_retina",
              "max_native_zoom",
              "max_zoom",
              "min_native_zoom",
              "min_zoom",
              "no_wrap",
              "tile_size",
              "tms"
            ],
            "popup": null,
            "popup_max_height": null,
            "popup_max_width": 300,
            "popup_min_width": 50,
            "show_loading": false,
            "tile_size": 256,
            "tms": false,
            "url": "https://a.tile.openstreetmap.org/{z}/{x}/{y}.png",
            "visible": true
          }
        },
        "ba48cce2c10f49619077b0481e1ae0ae": {
          "model_module": "jupyter-leaflet",
          "model_module_version": "^0.16.0",
          "model_name": "LeafletTileLayerModel",
          "state": {
            "_model_module": "jupyter-leaflet",
            "_model_module_version": "^0.16.0",
            "_model_name": "LeafletTileLayerModel",
            "_view_count": null,
            "_view_module": "jupyter-leaflet",
            "_view_module_version": "^0.16.0",
            "_view_name": "LeafletTileLayerView",
            "attribution": "Google Earth Engine",
            "base": false,
            "bottom": true,
            "bounds": null,
            "detect_retina": false,
            "loading": false,
            "max_native_zoom": 18,
            "max_zoom": 24,
            "min_native_zoom": 0,
            "min_zoom": 0,
            "name": "S2 first image",
            "no_wrap": false,
            "opacity": 1,
            "options": [
              "attribution",
              "bounds",
              "detect_retina",
              "max_native_zoom",
              "max_zoom",
              "min_native_zoom",
              "min_zoom",
              "no_wrap",
              "tile_size",
              "tms"
            ],
            "popup": null,
            "popup_max_height": null,
            "popup_max_width": 300,
            "popup_min_width": 50,
            "show_loading": false,
            "tile_size": 256,
            "tms": false,
            "url": "https://earthengine.googleapis.com/v1alpha/projects/earthengine-legacy/maps/62e6e772caeda388a0582210f449e97c-cf407a0cb3e09edf41788482f0037f55/tiles/{z}/{x}/{y}",
            "visible": true
          }
        },
        "ba9190e53cd04bd5a6f4a4c4abb6b7bf": {
          "model_module": "jupyter-leaflet",
          "model_module_version": "^0.16.0",
          "model_name": "LeafletZoomControlModel",
          "state": {
            "_model_module": "jupyter-leaflet",
            "_model_module_version": "^0.16.0",
            "_model_name": "LeafletZoomControlModel",
            "_view_count": null,
            "_view_module": "jupyter-leaflet",
            "_view_module_version": "^0.16.0",
            "_view_name": "LeafletZoomControlView",
            "options": [
              "position",
              "zoom_in_text",
              "zoom_in_title",
              "zoom_out_text",
              "zoom_out_title"
            ],
            "position": "topleft",
            "zoom_in_text": "+",
            "zoom_in_title": "Zoom in",
            "zoom_out_text": "-",
            "zoom_out_title": "Zoom out"
          }
        },
        "bb87f84db55d474fabd9df784cfb84e7": {
          "model_module": "@jupyter-widgets/controls",
          "model_module_version": "1.5.0",
          "model_name": "DescriptionStyleModel",
          "state": {
            "_model_module": "@jupyter-widgets/controls",
            "_model_module_version": "1.5.0",
            "_model_name": "DescriptionStyleModel",
            "_view_count": null,
            "_view_module": "@jupyter-widgets/base",
            "_view_module_version": "1.2.0",
            "_view_name": "StyleView",
            "description_width": ""
          }
        },
        "bc1cc52ffd254372b980a5b18ab147c0": {
          "model_module": "jupyter-leaflet",
          "model_module_version": "^0.16.0",
          "model_name": "LeafletTileLayerModel",
          "state": {
            "_model_module": "jupyter-leaflet",
            "_model_module_version": "^0.16.0",
            "_model_name": "LeafletTileLayerModel",
            "_view_count": null,
            "_view_module": "jupyter-leaflet",
            "_view_module_version": "^0.16.0",
            "_view_name": "LeafletTileLayerView",
            "attribution": "Google",
            "base": false,
            "bottom": true,
            "bounds": null,
            "detect_retina": false,
            "loading": false,
            "max_native_zoom": 18,
            "max_zoom": 22,
            "min_native_zoom": 0,
            "min_zoom": 0,
            "name": "Google Satellite",
            "no_wrap": false,
            "opacity": 1,
            "options": [
              "attribution",
              "bounds",
              "detect_retina",
              "max_native_zoom",
              "max_zoom",
              "min_native_zoom",
              "min_zoom",
              "no_wrap",
              "tile_size",
              "tms"
            ],
            "popup": null,
            "popup_max_height": null,
            "popup_max_width": 300,
            "popup_min_width": 50,
            "show_loading": false,
            "tile_size": 256,
            "tms": false,
            "url": "https://mt1.google.com/vt/lyrs=s&x={x}&y={y}&z={z}",
            "visible": true
          }
        },
        "bce534a19d0d4ea191ea1b82f5b81c43": {
          "model_module": "jupyter-leaflet",
          "model_module_version": "^0.16.0",
          "model_name": "LeafletMapModel",
          "state": {
            "_dom_classes": [],
            "_model_module": "jupyter-leaflet",
            "_model_module_version": "^0.16.0",
            "_model_name": "LeafletMapModel",
            "_view_count": null,
            "_view_module": "jupyter-leaflet",
            "_view_module_version": "^0.16.0",
            "_view_name": "LeafletMapView",
            "bottom": 754,
            "bounce_at_zoom_limits": true,
            "box_zoom": true,
            "center": [
              20,
              0
            ],
            "close_popup_on_click": true,
            "controls": [
              "IPY_MODEL_16f5f91ce3794c8ab6f74ef5e4783a47",
              "IPY_MODEL_c0b455590e514ce692891242e9cdd998",
              "IPY_MODEL_c500014f3da14f04af5e35916647bc64",
              "IPY_MODEL_74feda49ccfa499f95e20e803cbff458",
              "IPY_MODEL_77fca725539142ba9d5c97a29fe4680c",
              "IPY_MODEL_b66f3f2668184d71b749f8d00ac17902",
              "IPY_MODEL_1a801d26f1294bc49efab4070a3984a4",
              "IPY_MODEL_e0a01cc74ac1471badf81f801121839a"
            ],
            "crs": {
              "custom": false,
              "name": "EPSG3857"
            },
            "default_style": "IPY_MODEL_3be468df8486451b953e10ac0a73ca6d",
            "double_click_zoom": true,
            "dragging": true,
            "dragging_style": "IPY_MODEL_91acddc064ef41b0b1e2fa8e3a7a5b28",
            "east": 315.35156250000006,
            "fullscreen": false,
            "inertia": true,
            "inertia_deceleration": 3000,
            "inertia_max_speed": 1500,
            "interpolation": "bilinear",
            "keyboard": true,
            "keyboard_pan_offset": 80,
            "keyboard_zoom_offset": 1,
            "layers": [
              "IPY_MODEL_be202bb4643d45d0b78957986a6f30f8",
              "IPY_MODEL_f1f6c1e55ace4a77a455ca6a794164c7",
              "IPY_MODEL_fdb061cfb69842c88f3055dc3c2e6f28"
            ],
            "layout": "IPY_MODEL_08ed61fc58ea43cfaf65e1a41d8c41de",
            "left": -385,
            "max_zoom": 24,
            "min_zoom": 1,
            "modisdate": "2022-05-02",
            "north": 77.31251993823143,
            "options": [
              "bounce_at_zoom_limits",
              "box_zoom",
              "center",
              "close_popup_on_click",
              "double_click_zoom",
              "dragging",
              "fullscreen",
              "inertia",
              "inertia_deceleration",
              "inertia_max_speed",
              "interpolation",
              "keyboard",
              "keyboard_pan_offset",
              "keyboard_zoom_offset",
              "max_zoom",
              "min_zoom",
              "prefer_canvas",
              "scroll_wheel_zoom",
              "tap",
              "tap_tolerance",
              "touch_zoom",
              "world_copy_jump",
              "zoom",
              "zoom_animation_threshold",
              "zoom_delta",
              "zoom_snap",
              "zoom_start"
            ],
            "prefer_canvas": false,
            "right": 1409,
            "scroll_wheel_zoom": true,
            "south": -64.47279382008165,
            "style": "IPY_MODEL_04fbc0e6589d489aaebd1db255ba8e45",
            "tap": true,
            "tap_tolerance": 15,
            "top": 154,
            "touch_zoom": true,
            "west": -315.35156250000006,
            "window_url": "https://03cfa2qu4vfe-496ff2e9c6d22116-0-colab.googleusercontent.com/outputframe.html?vrz=colab-20220429-060044-RC00_445383241",
            "world_copy_jump": false,
            "zoom": 2,
            "zoom_animation_threshold": 4,
            "zoom_delta": 1,
            "zoom_snap": 1,
            "zoom_start": 12
          }
        },
        "be202bb4643d45d0b78957986a6f30f8": {
          "model_module": "jupyter-leaflet",
          "model_module_version": "^0.16.0",
          "model_name": "LeafletTileLayerModel",
          "state": {
            "_model_module": "jupyter-leaflet",
            "_model_module_version": "^0.16.0",
            "_model_name": "LeafletTileLayerModel",
            "_view_count": null,
            "_view_module": "jupyter-leaflet",
            "_view_module_version": "^0.16.0",
            "_view_name": "LeafletTileLayerView",
            "attribution": "&copy; <a href=\"https://www.openstreetmap.org/copyright\">OpenStreetMap</a> contributors",
            "base": true,
            "bottom": true,
            "bounds": null,
            "detect_retina": false,
            "loading": false,
            "max_native_zoom": 18,
            "max_zoom": 19,
            "min_native_zoom": 0,
            "min_zoom": 1,
            "name": "OpenStreetMap.Mapnik",
            "no_wrap": false,
            "opacity": 1,
            "options": [
              "attribution",
              "bounds",
              "detect_retina",
              "max_native_zoom",
              "max_zoom",
              "min_native_zoom",
              "min_zoom",
              "no_wrap",
              "tile_size",
              "tms"
            ],
            "popup": null,
            "popup_max_height": null,
            "popup_max_width": 300,
            "popup_min_width": 50,
            "show_loading": false,
            "tile_size": 256,
            "tms": false,
            "url": "https://a.tile.openstreetmap.org/{z}/{x}/{y}.png",
            "visible": true
          }
        },
        "c0b455590e514ce692891242e9cdd998": {
          "model_module": "jupyter-leaflet",
          "model_module_version": "^0.16.0",
          "model_name": "LeafletZoomControlModel",
          "state": {
            "_model_module": "jupyter-leaflet",
            "_model_module_version": "^0.16.0",
            "_model_name": "LeafletZoomControlModel",
            "_view_count": null,
            "_view_module": "jupyter-leaflet",
            "_view_module_version": "^0.16.0",
            "_view_name": "LeafletZoomControlView",
            "options": [
              "position",
              "zoom_in_text",
              "zoom_in_title",
              "zoom_out_text",
              "zoom_out_title"
            ],
            "position": "topleft",
            "zoom_in_text": "+",
            "zoom_in_title": "Zoom in",
            "zoom_out_text": "-",
            "zoom_out_title": "Zoom out"
          }
        },
        "c2c3fc04336c43b2af19871c7ef46843": {
          "model_module": "jupyter-leaflet",
          "model_module_version": "^0.16.0",
          "model_name": "LeafletZoomControlModel",
          "state": {
            "_model_module": "jupyter-leaflet",
            "_model_module_version": "^0.16.0",
            "_model_name": "LeafletZoomControlModel",
            "_view_count": null,
            "_view_module": "jupyter-leaflet",
            "_view_module_version": "^0.16.0",
            "_view_name": "LeafletZoomControlView",
            "options": [
              "position",
              "zoom_in_text",
              "zoom_in_title",
              "zoom_out_text",
              "zoom_out_title"
            ],
            "position": "topleft",
            "zoom_in_text": "+",
            "zoom_in_title": "Zoom in",
            "zoom_out_text": "-",
            "zoom_out_title": "Zoom out"
          }
        },
        "c500014f3da14f04af5e35916647bc64": {
          "model_module": "jupyter-leaflet",
          "model_module_version": "^0.16.0",
          "model_name": "LeafletScaleControlModel",
          "state": {
            "_model_module": "jupyter-leaflet",
            "_model_module_version": "^0.16.0",
            "_model_name": "LeafletScaleControlModel",
            "_view_count": null,
            "_view_module": "jupyter-leaflet",
            "_view_module_version": "^0.16.0",
            "_view_name": "LeafletScaleControlView",
            "imperial": true,
            "max_width": 100,
            "metric": true,
            "options": [
              "imperial",
              "max_width",
              "metric",
              "position",
              "update_when_idle"
            ],
            "position": "bottomleft",
            "update_when_idle": false
          }
        },
        "c5ee4c9dcc214962bec2fa5c600bb103": {
          "model_module": "jupyter-leaflet",
          "model_module_version": "^0.16.0",
          "model_name": "LeafletMeasureControlModel",
          "state": {
            "_custom_units": {},
            "_model_module": "jupyter-leaflet",
            "_model_module_version": "^0.16.0",
            "_model_name": "LeafletMeasureControlModel",
            "_view_count": null,
            "_view_module": "jupyter-leaflet",
            "_view_module_version": "^0.16.0",
            "_view_name": "LeafletMeasureControlView",
            "active_color": "orange",
            "capture_z_index": 10000,
            "completed_color": "#C8F2BE",
            "options": [
              "active_color",
              "capture_z_index",
              "completed_color",
              "popup_options",
              "position",
              "primary_area_unit",
              "primary_length_unit",
              "secondary_area_unit",
              "secondary_length_unit"
            ],
            "popup_options": {
              "autoPanPadding": [
                10,
                10
              ],
              "className": "leaflet-measure-resultpopup"
            },
            "position": "bottomleft",
            "primary_area_unit": "acres",
            "primary_length_unit": "kilometers",
            "secondary_area_unit": null,
            "secondary_length_unit": null
          }
        },
        "cad056b082054f52946fbe96d9cb4243": {
          "model_module": "@jupyter-widgets/controls",
          "model_module_version": "1.5.0",
          "model_name": "DescriptionStyleModel",
          "state": {
            "_model_module": "@jupyter-widgets/controls",
            "_model_module_version": "1.5.0",
            "_model_name": "DescriptionStyleModel",
            "_view_count": null,
            "_view_module": "@jupyter-widgets/base",
            "_view_module_version": "1.2.0",
            "_view_name": "StyleView",
            "description_width": ""
          }
        },
        "cddab2d889ef452dac77a70fd4fd213f": {
          "model_module": "@jupyter-widgets/controls",
          "model_module_version": "1.5.0",
          "model_name": "ToggleButtonModel",
          "state": {
            "_dom_classes": [],
            "_model_module": "@jupyter-widgets/controls",
            "_model_module_version": "1.5.0",
            "_model_name": "ToggleButtonModel",
            "_view_count": null,
            "_view_module": "@jupyter-widgets/controls",
            "_view_module_version": "1.5.0",
            "_view_name": "ToggleButtonView",
            "button_style": "",
            "description": "",
            "description_tooltip": null,
            "disabled": false,
            "icon": "globe",
            "layout": "IPY_MODEL_e2089721a2ed4f0b92162216e4f953e9",
            "style": "IPY_MODEL_1e163942d531486cac81246f50d4bc28",
            "tooltip": "Search location/data",
            "value": false
          }
        },
        "ceaca064ac34483ba8ef381fcef6aea1": {
          "model_module": "@jupyter-widgets/base",
          "model_module_version": "1.2.0",
          "model_name": "LayoutModel",
          "state": {
            "_model_module": "@jupyter-widgets/base",
            "_model_module_version": "1.2.0",
            "_model_name": "LayoutModel",
            "_view_count": null,
            "_view_module": "@jupyter-widgets/base",
            "_view_module_version": "1.2.0",
            "_view_name": "LayoutView",
            "align_content": null,
            "align_items": null,
            "align_self": null,
            "border": null,
            "bottom": null,
            "display": null,
            "flex": null,
            "flex_flow": null,
            "grid_area": null,
            "grid_auto_columns": null,
            "grid_auto_flow": null,
            "grid_auto_rows": null,
            "grid_column": null,
            "grid_gap": null,
            "grid_row": null,
            "grid_template_areas": null,
            "grid_template_columns": null,
            "grid_template_rows": null,
            "height": "28px",
            "justify_content": null,
            "justify_items": null,
            "left": null,
            "margin": null,
            "max_height": null,
            "max_width": null,
            "min_height": null,
            "min_width": null,
            "object_fit": null,
            "object_position": null,
            "order": null,
            "overflow": null,
            "overflow_x": null,
            "overflow_y": null,
            "padding": "0px 0px 0px 4px",
            "right": null,
            "top": null,
            "visibility": null,
            "width": "28px"
          }
        },
        "d076e7ec48e14cc08c88c73b66806d1f": {
          "model_module": "jupyter-leaflet",
          "model_module_version": "^0.16.0",
          "model_name": "LeafletMapModel",
          "state": {
            "_dom_classes": [],
            "_model_module": "jupyter-leaflet",
            "_model_module_version": "^0.16.0",
            "_model_name": "LeafletMapModel",
            "_view_count": null,
            "_view_module": "jupyter-leaflet",
            "_view_module_version": "^0.16.0",
            "_view_name": "LeafletMapView",
            "bottom": 754,
            "bounce_at_zoom_limits": true,
            "box_zoom": true,
            "center": [
              20,
              0
            ],
            "close_popup_on_click": true,
            "controls": [
              "IPY_MODEL_7f47ec1b25414b5f813b54fc0e942c76",
              "IPY_MODEL_b0d9c7485c574adba3d07fe741d38b7d",
              "IPY_MODEL_724cfe046ec2455aa4a1492246ca1224",
              "IPY_MODEL_28a15b4ab1ad43289ef25f20d1f6d83d",
              "IPY_MODEL_38d80d758bc9438bacbcb4ac798e3a38",
              "IPY_MODEL_0bcb8be474434e20895561edf536d6f8",
              "IPY_MODEL_a1018d7d562c4a44b01ff7d0aea70bc2",
              "IPY_MODEL_5e0904c89f024f879eabaac32f93dbf6"
            ],
            "crs": {
              "custom": false,
              "name": "EPSG3857"
            },
            "default_style": "IPY_MODEL_a78b92feb40f46eab25e4bbfb360567d",
            "double_click_zoom": true,
            "dragging": true,
            "dragging_style": "IPY_MODEL_2b0a895ce36c4ca4bea09f60ae623789",
            "east": 315.35156250000006,
            "fullscreen": false,
            "inertia": true,
            "inertia_deceleration": 3000,
            "inertia_max_speed": 1500,
            "interpolation": "bilinear",
            "keyboard": true,
            "keyboard_pan_offset": 80,
            "keyboard_zoom_offset": 1,
            "layers": [
              "IPY_MODEL_816ce490641b418aa904ac5feb731a55",
              "IPY_MODEL_f1f6c1e55ace4a77a455ca6a794164c7",
              "IPY_MODEL_dd25f1f9131d4937b95d83a02ed146a2",
              "IPY_MODEL_8cc02bb7d04e49a5a8449c715f82b421",
              "IPY_MODEL_84b356a525c3479791c93770c841c1d1",
              "IPY_MODEL_369acb8fdab94187a04883d44ac03fff"
            ],
            "layout": "IPY_MODEL_4188c4aa751c43f6bb6409581945f058",
            "left": -385,
            "max_zoom": 24,
            "min_zoom": 1,
            "modisdate": "2022-05-02",
            "north": 77.31251993823143,
            "options": [
              "bounce_at_zoom_limits",
              "box_zoom",
              "center",
              "close_popup_on_click",
              "double_click_zoom",
              "dragging",
              "fullscreen",
              "inertia",
              "inertia_deceleration",
              "inertia_max_speed",
              "interpolation",
              "keyboard",
              "keyboard_pan_offset",
              "keyboard_zoom_offset",
              "max_zoom",
              "min_zoom",
              "prefer_canvas",
              "scroll_wheel_zoom",
              "tap",
              "tap_tolerance",
              "touch_zoom",
              "world_copy_jump",
              "zoom",
              "zoom_animation_threshold",
              "zoom_delta",
              "zoom_snap",
              "zoom_start"
            ],
            "prefer_canvas": false,
            "right": 1409,
            "scroll_wheel_zoom": true,
            "south": -64.47279382008165,
            "style": "IPY_MODEL_9e6984580e624b2aac69933b515ce677",
            "tap": true,
            "tap_tolerance": 15,
            "top": 154,
            "touch_zoom": true,
            "west": -315.35156250000006,
            "window_url": "https://03cfa2qu4vfe-496ff2e9c6d22116-0-colab.googleusercontent.com/outputframe.html?vrz=colab-20220429-060044-RC00_445383241",
            "world_copy_jump": false,
            "zoom": 2,
            "zoom_animation_threshold": 4,
            "zoom_delta": 1,
            "zoom_snap": 1,
            "zoom_start": 12
          }
        },
        "d15f91f9c2b143d3a69ee397cf46b069": {
          "model_module": "jupyter-leaflet",
          "model_module_version": "^0.16.0",
          "model_name": "LeafletMapStyleModel",
          "state": {
            "_model_module": "jupyter-leaflet",
            "_model_module_version": "^0.16.0",
            "_model_name": "LeafletMapStyleModel",
            "_view_count": null,
            "_view_module": "@jupyter-widgets/base",
            "_view_module_version": "1.2.0",
            "_view_name": "StyleView",
            "cursor": "grab"
          }
        },
        "d973036b8ac84c2c9769177a29c1a177": {
          "model_module": "@jupyter-widgets/base",
          "model_module_version": "1.2.0",
          "model_name": "LayoutModel",
          "state": {
            "_model_module": "@jupyter-widgets/base",
            "_model_module_version": "1.2.0",
            "_model_name": "LayoutModel",
            "_view_count": null,
            "_view_module": "@jupyter-widgets/base",
            "_view_module_version": "1.2.0",
            "_view_name": "LayoutView",
            "align_content": null,
            "align_items": null,
            "align_self": null,
            "border": null,
            "bottom": null,
            "display": null,
            "flex": null,
            "flex_flow": null,
            "grid_area": null,
            "grid_auto_columns": null,
            "grid_auto_flow": null,
            "grid_auto_rows": null,
            "grid_column": null,
            "grid_gap": null,
            "grid_row": null,
            "grid_template_areas": null,
            "grid_template_columns": null,
            "grid_template_rows": null,
            "height": "600px",
            "justify_content": null,
            "justify_items": null,
            "left": null,
            "margin": null,
            "max_height": null,
            "max_width": null,
            "min_height": null,
            "min_width": null,
            "object_fit": null,
            "object_position": null,
            "order": null,
            "overflow": null,
            "overflow_x": null,
            "overflow_y": null,
            "padding": null,
            "right": null,
            "top": null,
            "visibility": null,
            "width": null
          }
        },
        "da1fb6c649514c2bbdfa381e98040f70": {
          "model_module": "jupyter-leaflet",
          "model_module_version": "^0.16.0",
          "model_name": "LeafletAttributionControlModel",
          "state": {
            "_model_module": "jupyter-leaflet",
            "_model_module_version": "^0.16.0",
            "_model_name": "LeafletAttributionControlModel",
            "_view_count": null,
            "_view_module": "jupyter-leaflet",
            "_view_module_version": "^0.16.0",
            "_view_name": "LeafletAttributionControlView",
            "options": [
              "position",
              "prefix"
            ],
            "position": "bottomright",
            "prefix": "ipyleaflet"
          }
        },
        "dbf6b826e38748a9aa8458345665f681": {
          "model_module": "@jupyter-widgets/controls",
          "model_module_version": "1.5.0",
          "model_name": "ToggleButtonModel",
          "state": {
            "_dom_classes": [],
            "_model_module": "@jupyter-widgets/controls",
            "_model_module_version": "1.5.0",
            "_model_name": "ToggleButtonModel",
            "_view_count": null,
            "_view_module": "@jupyter-widgets/controls",
            "_view_module_version": "1.5.0",
            "_view_name": "ToggleButtonView",
            "button_style": "",
            "description": "",
            "description_tooltip": null,
            "disabled": false,
            "icon": "globe",
            "layout": "IPY_MODEL_b11781d2f86f4aaca83ac0195dc0a016",
            "style": "IPY_MODEL_cad056b082054f52946fbe96d9cb4243",
            "tooltip": "Search location/data",
            "value": false
          }
        },
        "dd25f1f9131d4937b95d83a02ed146a2": {
          "model_module": "jupyter-leaflet",
          "model_module_version": "^0.16.0",
          "model_name": "LeafletTileLayerModel",
          "state": {
            "_model_module": "jupyter-leaflet",
            "_model_module_version": "^0.16.0",
            "_model_name": "LeafletTileLayerModel",
            "_view_count": null,
            "_view_module": "jupyter-leaflet",
            "_view_module_version": "^0.16.0",
            "_view_name": "LeafletTileLayerView",
            "attribution": "Google",
            "base": false,
            "bottom": true,
            "bounds": null,
            "detect_retina": false,
            "loading": false,
            "max_native_zoom": 18,
            "max_zoom": 18,
            "min_native_zoom": 0,
            "min_zoom": 0,
            "name": "Google Map",
            "no_wrap": false,
            "opacity": 1,
            "options": [
              "attribution",
              "bounds",
              "detect_retina",
              "max_native_zoom",
              "max_zoom",
              "min_native_zoom",
              "min_zoom",
              "no_wrap",
              "tile_size",
              "tms"
            ],
            "popup": null,
            "popup_max_height": null,
            "popup_max_width": 300,
            "popup_min_width": 50,
            "show_loading": false,
            "tile_size": 256,
            "tms": false,
            "url": "https://mt1.google.com/vt/lyrs=m&x={x}&y={y}&z={z}",
            "visible": true
          }
        },
        "de84a57729f047179f42435864e8f511": {
          "model_module": "jupyter-leaflet",
          "model_module_version": "^0.16.0",
          "model_name": "LeafletMapStyleModel",
          "state": {
            "_model_module": "jupyter-leaflet",
            "_model_module_version": "^0.16.0",
            "_model_name": "LeafletMapStyleModel",
            "_view_count": null,
            "_view_module": "@jupyter-widgets/base",
            "_view_module_version": "1.2.0",
            "_view_name": "StyleView",
            "cursor": "grab"
          }
        },
        "defb67a50b6e4b9d90462267b7963656": {
          "model_module": "@jupyter-widgets/controls",
          "model_module_version": "1.5.0",
          "model_name": "DescriptionStyleModel",
          "state": {
            "_model_module": "@jupyter-widgets/controls",
            "_model_module_version": "1.5.0",
            "_model_name": "DescriptionStyleModel",
            "_view_count": null,
            "_view_module": "@jupyter-widgets/base",
            "_view_module_version": "1.2.0",
            "_view_name": "StyleView",
            "description_width": ""
          }
        },
        "e0a01cc74ac1471badf81f801121839a": {
          "model_module": "jupyter-leaflet",
          "model_module_version": "^0.16.0",
          "model_name": "LeafletWidgetControlModel",
          "state": {
            "_model_module": "jupyter-leaflet",
            "_model_module_version": "^0.16.0",
            "_model_name": "LeafletWidgetControlModel",
            "_view_count": null,
            "_view_module": "jupyter-leaflet",
            "_view_module_version": "^0.16.0",
            "_view_name": "LeafletWidgetControlView",
            "max_height": null,
            "max_width": null,
            "min_height": null,
            "min_width": null,
            "options": [
              "position",
              "transparent_bg"
            ],
            "position": "topright",
            "transparent_bg": false,
            "widget": "IPY_MODEL_6ba5f2f3a9714f2a89073659125692f3"
          }
        },
        "e18c38c744264088ad0f40a625096bf4": {
          "model_module": "@jupyter-widgets/controls",
          "model_module_version": "1.5.0",
          "model_name": "HBoxModel",
          "state": {
            "_dom_classes": [],
            "_model_module": "@jupyter-widgets/controls",
            "_model_module_version": "1.5.0",
            "_model_name": "HBoxModel",
            "_view_count": null,
            "_view_module": "@jupyter-widgets/controls",
            "_view_module_version": "1.5.0",
            "_view_name": "HBoxView",
            "box_style": "",
            "children": [
              "IPY_MODEL_e8426d0d988f4be18e0f7a9a7062d57f"
            ],
            "layout": "IPY_MODEL_68875ce47544456cb1f556926d982508"
          }
        },
        "e1f2e44d042c4266b64e64a77032703f": {
          "model_module": "jupyter-leaflet",
          "model_module_version": "^0.16.0",
          "model_name": "LeafletMapStyleModel",
          "state": {
            "_model_module": "jupyter-leaflet",
            "_model_module_version": "^0.16.0",
            "_model_name": "LeafletMapStyleModel",
            "_view_count": null,
            "_view_module": "@jupyter-widgets/base",
            "_view_module_version": "1.2.0",
            "_view_name": "StyleView",
            "cursor": "grab"
          }
        },
        "e2089721a2ed4f0b92162216e4f953e9": {
          "model_module": "@jupyter-widgets/base",
          "model_module_version": "1.2.0",
          "model_name": "LayoutModel",
          "state": {
            "_model_module": "@jupyter-widgets/base",
            "_model_module_version": "1.2.0",
            "_model_name": "LayoutModel",
            "_view_count": null,
            "_view_module": "@jupyter-widgets/base",
            "_view_module_version": "1.2.0",
            "_view_name": "LayoutView",
            "align_content": null,
            "align_items": null,
            "align_self": null,
            "border": null,
            "bottom": null,
            "display": null,
            "flex": null,
            "flex_flow": null,
            "grid_area": null,
            "grid_auto_columns": null,
            "grid_auto_flow": null,
            "grid_auto_rows": null,
            "grid_column": null,
            "grid_gap": null,
            "grid_row": null,
            "grid_template_areas": null,
            "grid_template_columns": null,
            "grid_template_rows": null,
            "height": "28px",
            "justify_content": null,
            "justify_items": null,
            "left": null,
            "margin": null,
            "max_height": null,
            "max_width": null,
            "min_height": null,
            "min_width": null,
            "object_fit": null,
            "object_position": null,
            "order": null,
            "overflow": null,
            "overflow_x": null,
            "overflow_y": null,
            "padding": "0px 0px 0px 4px",
            "right": null,
            "top": null,
            "visibility": null,
            "width": "28px"
          }
        },
        "e2ded3f21a5a481198f0b2be493ec82c": {
          "model_module": "@jupyter-widgets/controls",
          "model_module_version": "1.5.0",
          "model_name": "DescriptionStyleModel",
          "state": {
            "_model_module": "@jupyter-widgets/controls",
            "_model_module_version": "1.5.0",
            "_model_name": "DescriptionStyleModel",
            "_view_count": null,
            "_view_module": "@jupyter-widgets/base",
            "_view_module_version": "1.2.0",
            "_view_name": "StyleView",
            "description_width": ""
          }
        },
        "e4a5f1dc66a0471e85a816109f60bcb7": {
          "model_module": "jupyter-leaflet",
          "model_module_version": "^0.16.0",
          "model_name": "LeafletFullScreenControlModel",
          "state": {
            "_model_module": "jupyter-leaflet",
            "_model_module_version": "^0.16.0",
            "_model_name": "LeafletFullScreenControlModel",
            "_view_count": null,
            "_view_module": "jupyter-leaflet",
            "_view_module_version": "^0.16.0",
            "_view_name": "LeafletFullScreenControlView",
            "options": [
              "position"
            ],
            "position": "topleft"
          }
        },
        "e7aa87f06b744512ab4c076c987c311f": {
          "model_module": "jupyter-leaflet",
          "model_module_version": "^0.16.0",
          "model_name": "LeafletMapStyleModel",
          "state": {
            "_model_module": "jupyter-leaflet",
            "_model_module_version": "^0.16.0",
            "_model_name": "LeafletMapStyleModel",
            "_view_count": null,
            "_view_module": "@jupyter-widgets/base",
            "_view_module_version": "1.2.0",
            "_view_name": "StyleView",
            "cursor": "move"
          }
        },
        "e7c2d6869eba4155bf054aad22624a5f": {
          "model_module": "jupyter-leaflet",
          "model_module_version": "^0.16.0",
          "model_name": "LeafletScaleControlModel",
          "state": {
            "_model_module": "jupyter-leaflet",
            "_model_module_version": "^0.16.0",
            "_model_name": "LeafletScaleControlModel",
            "_view_count": null,
            "_view_module": "jupyter-leaflet",
            "_view_module_version": "^0.16.0",
            "_view_name": "LeafletScaleControlView",
            "imperial": true,
            "max_width": 100,
            "metric": true,
            "options": [
              "imperial",
              "max_width",
              "metric",
              "position",
              "update_when_idle"
            ],
            "position": "bottomleft",
            "update_when_idle": false
          }
        },
        "e8426d0d988f4be18e0f7a9a7062d57f": {
          "model_module": "@jupyter-widgets/controls",
          "model_module_version": "1.5.0",
          "model_name": "ToggleButtonModel",
          "state": {
            "_dom_classes": [],
            "_model_module": "@jupyter-widgets/controls",
            "_model_module_version": "1.5.0",
            "_model_name": "ToggleButtonModel",
            "_view_count": null,
            "_view_module": "@jupyter-widgets/controls",
            "_view_module_version": "1.5.0",
            "_view_name": "ToggleButtonView",
            "button_style": "",
            "description": "",
            "description_tooltip": null,
            "disabled": false,
            "icon": "globe",
            "layout": "IPY_MODEL_902a1850fe934ab288017818997110b6",
            "style": "IPY_MODEL_2332e10ec9d64d3b886e39e48bcd92e6",
            "tooltip": "Search location/data",
            "value": false
          }
        },
        "eda3e914a8b14205a1c79eecc4b772fa": {
          "model_module": "jupyter-leaflet",
          "model_module_version": "^0.16.0",
          "model_name": "LeafletTileLayerModel",
          "state": {
            "_model_module": "jupyter-leaflet",
            "_model_module_version": "^0.16.0",
            "_model_name": "LeafletTileLayerModel",
            "_view_count": null,
            "_view_module": "jupyter-leaflet",
            "_view_module_version": "^0.16.0",
            "_view_name": "LeafletTileLayerView",
            "attribution": "&copy; <a href=\"https://www.openstreetmap.org/copyright\">OpenStreetMap</a> contributors",
            "base": true,
            "bottom": true,
            "bounds": null,
            "detect_retina": false,
            "loading": false,
            "max_native_zoom": 18,
            "max_zoom": 19,
            "min_native_zoom": 0,
            "min_zoom": 1,
            "name": "OpenStreetMap.Mapnik",
            "no_wrap": false,
            "opacity": 1,
            "options": [
              "attribution",
              "bounds",
              "detect_retina",
              "max_native_zoom",
              "max_zoom",
              "min_native_zoom",
              "min_zoom",
              "no_wrap",
              "tile_size",
              "tms"
            ],
            "popup": null,
            "popup_max_height": null,
            "popup_max_width": 300,
            "popup_min_width": 50,
            "show_loading": false,
            "tile_size": 256,
            "tms": false,
            "url": "https://a.tile.openstreetmap.org/{z}/{x}/{y}.png",
            "visible": true
          }
        },
        "f141ca8e90e44b7690727a3bcf77babf": {
          "model_module": "@jupyter-widgets/base",
          "model_module_version": "1.2.0",
          "model_name": "LayoutModel",
          "state": {
            "_model_module": "@jupyter-widgets/base",
            "_model_module_version": "1.2.0",
            "_model_name": "LayoutModel",
            "_view_count": null,
            "_view_module": "@jupyter-widgets/base",
            "_view_module_version": "1.2.0",
            "_view_name": "LayoutView",
            "align_content": null,
            "align_items": null,
            "align_self": null,
            "border": null,
            "bottom": null,
            "display": null,
            "flex": null,
            "flex_flow": null,
            "grid_area": null,
            "grid_auto_columns": null,
            "grid_auto_flow": null,
            "grid_auto_rows": null,
            "grid_column": null,
            "grid_gap": null,
            "grid_row": null,
            "grid_template_areas": null,
            "grid_template_columns": null,
            "grid_template_rows": null,
            "height": null,
            "justify_content": null,
            "justify_items": null,
            "left": null,
            "margin": null,
            "max_height": null,
            "max_width": null,
            "min_height": null,
            "min_width": null,
            "object_fit": null,
            "object_position": null,
            "order": null,
            "overflow": null,
            "overflow_x": null,
            "overflow_y": null,
            "padding": null,
            "right": null,
            "top": null,
            "visibility": null,
            "width": null
          }
        },
        "f1f6c1e55ace4a77a455ca6a794164c7": {
          "model_module": "jupyter-leaflet",
          "model_module_version": "^0.16.0",
          "model_name": "LeafletTileLayerModel",
          "state": {
            "_model_module": "jupyter-leaflet",
            "_model_module_version": "^0.16.0",
            "_model_name": "LeafletTileLayerModel",
            "_view_count": null,
            "_view_module": "jupyter-leaflet",
            "_view_module_version": "^0.16.0",
            "_view_name": "LeafletTileLayerView",
            "attribution": "Google",
            "base": false,
            "bottom": true,
            "bounds": null,
            "detect_retina": false,
            "loading": false,
            "max_native_zoom": 18,
            "max_zoom": 22,
            "min_native_zoom": 0,
            "min_zoom": 0,
            "name": "Google Maps",
            "no_wrap": false,
            "opacity": 1,
            "options": [
              "attribution",
              "bounds",
              "detect_retina",
              "max_native_zoom",
              "max_zoom",
              "min_native_zoom",
              "min_zoom",
              "no_wrap",
              "tile_size",
              "tms"
            ],
            "popup": null,
            "popup_max_height": null,
            "popup_max_width": 300,
            "popup_min_width": 50,
            "show_loading": false,
            "tile_size": 256,
            "tms": false,
            "url": "https://mt1.google.com/vt/lyrs=m&x={x}&y={y}&z={z}",
            "visible": true
          }
        },
        "f3256536814f4b8ab85f088ac2bc215e": {
          "model_module": "jupyter-leaflet",
          "model_module_version": "^0.16.0",
          "model_name": "LeafletAttributionControlModel",
          "state": {
            "_model_module": "jupyter-leaflet",
            "_model_module_version": "^0.16.0",
            "_model_name": "LeafletAttributionControlModel",
            "_view_count": null,
            "_view_module": "jupyter-leaflet",
            "_view_module_version": "^0.16.0",
            "_view_name": "LeafletAttributionControlView",
            "options": [
              "position",
              "prefix"
            ],
            "position": "bottomright",
            "prefix": "ipyleaflet"
          }
        },
        "f39868d16f904cd294a27d87a4c3962f": {
          "model_module": "@jupyter-widgets/base",
          "model_module_version": "1.2.0",
          "model_name": "LayoutModel",
          "state": {
            "_model_module": "@jupyter-widgets/base",
            "_model_module_version": "1.2.0",
            "_model_name": "LayoutModel",
            "_view_count": null,
            "_view_module": "@jupyter-widgets/base",
            "_view_module_version": "1.2.0",
            "_view_name": "LayoutView",
            "align_content": null,
            "align_items": null,
            "align_self": null,
            "border": null,
            "bottom": null,
            "display": null,
            "flex": null,
            "flex_flow": null,
            "grid_area": null,
            "grid_auto_columns": null,
            "grid_auto_flow": null,
            "grid_auto_rows": null,
            "grid_column": null,
            "grid_gap": null,
            "grid_row": null,
            "grid_template_areas": null,
            "grid_template_columns": null,
            "grid_template_rows": null,
            "height": null,
            "justify_content": null,
            "justify_items": null,
            "left": null,
            "margin": null,
            "max_height": null,
            "max_width": null,
            "min_height": null,
            "min_width": null,
            "object_fit": null,
            "object_position": null,
            "order": null,
            "overflow": null,
            "overflow_x": null,
            "overflow_y": null,
            "padding": null,
            "right": null,
            "top": null,
            "visibility": null,
            "width": null
          }
        },
        "f583e682a44e447eb56524f79bf6062d": {
          "model_module": "@jupyter-widgets/base",
          "model_module_version": "1.2.0",
          "model_name": "LayoutModel",
          "state": {
            "_model_module": "@jupyter-widgets/base",
            "_model_module_version": "1.2.0",
            "_model_name": "LayoutModel",
            "_view_count": null,
            "_view_module": "@jupyter-widgets/base",
            "_view_module_version": "1.2.0",
            "_view_name": "LayoutView",
            "align_content": null,
            "align_items": null,
            "align_self": null,
            "border": null,
            "bottom": null,
            "display": null,
            "flex": null,
            "flex_flow": null,
            "grid_area": null,
            "grid_auto_columns": null,
            "grid_auto_flow": null,
            "grid_auto_rows": null,
            "grid_column": null,
            "grid_gap": null,
            "grid_row": null,
            "grid_template_areas": null,
            "grid_template_columns": null,
            "grid_template_rows": null,
            "height": "28px",
            "justify_content": null,
            "justify_items": null,
            "left": null,
            "margin": null,
            "max_height": null,
            "max_width": null,
            "min_height": null,
            "min_width": null,
            "object_fit": null,
            "object_position": null,
            "order": null,
            "overflow": null,
            "overflow_x": null,
            "overflow_y": null,
            "padding": "0px 0px 0px 4px",
            "right": null,
            "top": null,
            "visibility": null,
            "width": "28px"
          }
        },
        "fd1d6972576f41b8b8d8fcd26c93dcbd": {
          "model_module": "@jupyter-widgets/controls",
          "model_module_version": "1.5.0",
          "model_name": "DescriptionStyleModel",
          "state": {
            "_model_module": "@jupyter-widgets/controls",
            "_model_module_version": "1.5.0",
            "_model_name": "DescriptionStyleModel",
            "_view_count": null,
            "_view_module": "@jupyter-widgets/base",
            "_view_module_version": "1.2.0",
            "_view_name": "StyleView",
            "description_width": ""
          }
        },
        "fdb061cfb69842c88f3055dc3c2e6f28": {
          "model_module": "jupyter-leaflet",
          "model_module_version": "^0.16.0",
          "model_name": "LeafletTileLayerModel",
          "state": {
            "_model_module": "jupyter-leaflet",
            "_model_module_version": "^0.16.0",
            "_model_name": "LeafletTileLayerModel",
            "_view_count": null,
            "_view_module": "jupyter-leaflet",
            "_view_module_version": "^0.16.0",
            "_view_name": "LeafletTileLayerView",
            "attribution": "Google Earth Engine",
            "base": false,
            "bottom": true,
            "bounds": null,
            "detect_retina": false,
            "loading": false,
            "max_native_zoom": 18,
            "max_zoom": 24,
            "min_native_zoom": 0,
            "min_zoom": 0,
            "name": "DEM",
            "no_wrap": false,
            "opacity": 1,
            "options": [
              "attribution",
              "bounds",
              "detect_retina",
              "max_native_zoom",
              "max_zoom",
              "min_native_zoom",
              "min_zoom",
              "no_wrap",
              "tile_size",
              "tms"
            ],
            "popup": null,
            "popup_max_height": null,
            "popup_max_width": 300,
            "popup_min_width": 50,
            "show_loading": false,
            "tile_size": 256,
            "tms": false,
            "url": "https://earthengine.googleapis.com/v1alpha/projects/earthengine-legacy/maps/f393483e3fd9f17386c34dd1cf71da39-4c56112fc379ec02975079d364a0e239/tiles/{z}/{x}/{y}",
            "visible": true
          }
        }
      }
    }
  },
  "nbformat": 4,
  "nbformat_minor": 0
}
